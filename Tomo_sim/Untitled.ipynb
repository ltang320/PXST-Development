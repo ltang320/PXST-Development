{
 "metadata": {
  "language_info": {
   "codemirror_mode": {
    "name": "ipython",
    "version": 3
   },
   "file_extension": ".py",
   "mimetype": "text/x-python",
   "name": "python",
   "nbconvert_exporter": "python",
   "pygments_lexer": "ipython3",
   "version": "3.7.9-final"
  },
  "orig_nbformat": 2,
  "kernelspec": {
   "name": "python3",
   "display_name": "Python 3.7.9 64-bit ('pxst': conda)",
   "metadata": {
    "interpreter": {
     "hash": "0084841a13328c9eef538dd13576d2475400ffb95eceba789da697f66e398325"
    }
   }
  }
 },
 "nbformat": 4,
 "nbformat_minor": 2,
 "cells": [
  {
   "cell_type": "code",
   "execution_count": 1,
   "metadata": {},
   "outputs": [],
   "source": [
    "import numpy as np\n",
    "import scipy.integrate as integrate\n"
   ]
  },
  {
   "cell_type": "code",
   "execution_count": 2,
   "metadata": {},
   "outputs": [],
   "source": [
    "x_arr = [1,2,3,4,5]\n",
    "y_arr = [2,3,4,5,6]\n",
    "wf_obj = np.zeros((5,5))"
   ]
  },
  {
   "cell_type": "code",
   "execution_count": 3,
   "metadata": {},
   "outputs": [],
   "source": [
    "def propagate_fresnel(x,y,x_arr,wf_obj,y_arr,det_dist = 14e-03,wl=7.29e-11,defocus = 400e-06):\n",
    "    k = np.pi * 2 / wl\n",
    "    A = np.exp(1.j*k*det_dist)/1.j/wl/det_dist*np.exp(1.j*k/2/det_dist)*(x**2+y**2)\n",
    "    M = (det_dist+defocus)/det_dist/defocus\n",
    "\n",
    "    def func_re(x,y,x_arr,y_arr,defoucs = defocus,wl=wl,det_dist=det_dist):\n",
    "        k = np.pi * 2 / wl\n",
    "        M = (det_dist+defocus)/det_dist/defocus\n",
    "        f = np.exp(-1.j*k/2/M*(x_arr**2 + y_arr*2)) * np.exp(-1.j*k/det_dist*(x*x_arr+y*y_arr))\n",
    "        return Re\n",
    "\n",
    "    def func_im(x,y,x_arr,y_arr,defoucs = defocus,wl=wl,det_dist=det_dist):\n",
    "        k = np.pi * 2 / wl\n",
    "        M = (det_dist+defocus)/det_dist/defocus\n",
    "        f = np.exp(-1.j*k/2/M*(x_arr**2 + y_arr*2)) * np.exp(-1.j*k/det_dist*(x*x_arr+y*y_arr))\n",
    "        return Im\n",
    "\n",
    "    Re_inte = integrate.dblquad(func_re(x,y,x_arr,y_arr),-scipy.integrate.Inf,scipy.integrate.Inf)\n",
    "\n",
    "    Im_inte = integrate.dblquad(func_im(x,y,x_arr,y_arr),-scipy.integrate.Inf,scipy.integrate.Inf)\n",
    "\n",
    "    return A*(Re_inte+1.j*Im_inte)"
   ]
  },
  {
   "cell_type": "code",
   "execution_count": 4,
   "metadata": {},
   "outputs": [
    {
     "output_type": "error",
     "ename": "TypeError",
     "evalue": "unsupported operand type(s) for ** or pow(): 'list' and 'int'",
     "traceback": [
      "\u001b[0;31m---------------------------------------------------------------------------\u001b[0m",
      "\u001b[0;31mTypeError\u001b[0m                                 Traceback (most recent call last)",
      "\u001b[0;32m<ipython-input-4-bb89c033403a>\u001b[0m in \u001b[0;36m<module>\u001b[0;34m\u001b[0m\n\u001b[0;32m----> 1\u001b[0;31m \u001b[0ml\u001b[0m \u001b[0;34m=\u001b[0m \u001b[0mpropagate_fresnel\u001b[0m\u001b[0;34m(\u001b[0m\u001b[0;36m1\u001b[0m\u001b[0;34m,\u001b[0m\u001b[0;36m2\u001b[0m\u001b[0;34m,\u001b[0m\u001b[0mx_arr\u001b[0m\u001b[0;34m,\u001b[0m\u001b[0my_arr\u001b[0m\u001b[0;34m,\u001b[0m\u001b[0mwf_obj\u001b[0m\u001b[0;34m)\u001b[0m\u001b[0;34m\u001b[0m\u001b[0;34m\u001b[0m\u001b[0m\n\u001b[0m",
      "\u001b[0;32m<ipython-input-3-dd0e3eb39f4b>\u001b[0m in \u001b[0;36mpropagate_fresnel\u001b[0;34m(x, y, x_arr, wf_obj, y_arr, det_dist, wl, defocus)\u001b[0m\n\u001b[1;32m     16\u001b[0m         \u001b[0;32mreturn\u001b[0m \u001b[0mIm\u001b[0m\u001b[0;34m\u001b[0m\u001b[0;34m\u001b[0m\u001b[0m\n\u001b[1;32m     17\u001b[0m \u001b[0;34m\u001b[0m\u001b[0m\n\u001b[0;32m---> 18\u001b[0;31m     \u001b[0mRe_inte\u001b[0m \u001b[0;34m=\u001b[0m \u001b[0mintegrate\u001b[0m\u001b[0;34m.\u001b[0m\u001b[0mdblquad\u001b[0m\u001b[0;34m(\u001b[0m\u001b[0mfunc_re\u001b[0m\u001b[0;34m(\u001b[0m\u001b[0mx\u001b[0m\u001b[0;34m,\u001b[0m\u001b[0my\u001b[0m\u001b[0;34m,\u001b[0m\u001b[0mx_arr\u001b[0m\u001b[0;34m,\u001b[0m\u001b[0my_arr\u001b[0m\u001b[0;34m)\u001b[0m\u001b[0;34m,\u001b[0m\u001b[0;34m-\u001b[0m\u001b[0mscipy\u001b[0m\u001b[0;34m.\u001b[0m\u001b[0mintegrate\u001b[0m\u001b[0;34m.\u001b[0m\u001b[0mInf\u001b[0m\u001b[0;34m,\u001b[0m\u001b[0mscipy\u001b[0m\u001b[0;34m.\u001b[0m\u001b[0mintegrate\u001b[0m\u001b[0;34m.\u001b[0m\u001b[0mInf\u001b[0m\u001b[0;34m)\u001b[0m\u001b[0;34m\u001b[0m\u001b[0;34m\u001b[0m\u001b[0m\n\u001b[0m\u001b[1;32m     19\u001b[0m \u001b[0;34m\u001b[0m\u001b[0m\n\u001b[1;32m     20\u001b[0m     \u001b[0mIm_inte\u001b[0m \u001b[0;34m=\u001b[0m \u001b[0mintegrate\u001b[0m\u001b[0;34m.\u001b[0m\u001b[0mdblquad\u001b[0m\u001b[0;34m(\u001b[0m\u001b[0mfunc_im\u001b[0m\u001b[0;34m(\u001b[0m\u001b[0mx\u001b[0m\u001b[0;34m,\u001b[0m\u001b[0my\u001b[0m\u001b[0;34m,\u001b[0m\u001b[0mx_arr\u001b[0m\u001b[0;34m,\u001b[0m\u001b[0my_arr\u001b[0m\u001b[0;34m)\u001b[0m\u001b[0;34m,\u001b[0m\u001b[0;34m-\u001b[0m\u001b[0mscipy\u001b[0m\u001b[0;34m.\u001b[0m\u001b[0mintegrate\u001b[0m\u001b[0;34m.\u001b[0m\u001b[0mInf\u001b[0m\u001b[0;34m,\u001b[0m\u001b[0mscipy\u001b[0m\u001b[0;34m.\u001b[0m\u001b[0mintegrate\u001b[0m\u001b[0;34m.\u001b[0m\u001b[0mInf\u001b[0m\u001b[0;34m)\u001b[0m\u001b[0;34m\u001b[0m\u001b[0;34m\u001b[0m\u001b[0m\n",
      "\u001b[0;32m<ipython-input-3-dd0e3eb39f4b>\u001b[0m in \u001b[0;36mfunc_re\u001b[0;34m(x, y, x_arr, y_arr, defoucs, wl, det_dist)\u001b[0m\n\u001b[1;32m      7\u001b[0m         \u001b[0mk\u001b[0m \u001b[0;34m=\u001b[0m \u001b[0mnp\u001b[0m\u001b[0;34m.\u001b[0m\u001b[0mpi\u001b[0m \u001b[0;34m*\u001b[0m \u001b[0;36m2\u001b[0m \u001b[0;34m/\u001b[0m \u001b[0mwl\u001b[0m\u001b[0;34m\u001b[0m\u001b[0;34m\u001b[0m\u001b[0m\n\u001b[1;32m      8\u001b[0m         \u001b[0mM\u001b[0m \u001b[0;34m=\u001b[0m \u001b[0;34m(\u001b[0m\u001b[0mdet_dist\u001b[0m\u001b[0;34m+\u001b[0m\u001b[0mdefocus\u001b[0m\u001b[0;34m)\u001b[0m\u001b[0;34m/\u001b[0m\u001b[0mdet_dist\u001b[0m\u001b[0;34m/\u001b[0m\u001b[0mdefocus\u001b[0m\u001b[0;34m\u001b[0m\u001b[0;34m\u001b[0m\u001b[0m\n\u001b[0;32m----> 9\u001b[0;31m         \u001b[0mf\u001b[0m \u001b[0;34m=\u001b[0m \u001b[0mnp\u001b[0m\u001b[0;34m.\u001b[0m\u001b[0mexp\u001b[0m\u001b[0;34m(\u001b[0m\u001b[0;34m-\u001b[0m\u001b[0;36m1.j\u001b[0m\u001b[0;34m*\u001b[0m\u001b[0mk\u001b[0m\u001b[0;34m/\u001b[0m\u001b[0;36m2\u001b[0m\u001b[0;34m/\u001b[0m\u001b[0mM\u001b[0m\u001b[0;34m*\u001b[0m\u001b[0;34m(\u001b[0m\u001b[0mx_arr\u001b[0m\u001b[0;34m**\u001b[0m\u001b[0;36m2\u001b[0m \u001b[0;34m+\u001b[0m \u001b[0my_arr\u001b[0m\u001b[0;34m*\u001b[0m\u001b[0;36m2\u001b[0m\u001b[0;34m)\u001b[0m\u001b[0;34m)\u001b[0m \u001b[0;34m*\u001b[0m \u001b[0mnp\u001b[0m\u001b[0;34m.\u001b[0m\u001b[0mexp\u001b[0m\u001b[0;34m(\u001b[0m\u001b[0;34m-\u001b[0m\u001b[0;36m1.j\u001b[0m\u001b[0;34m*\u001b[0m\u001b[0mk\u001b[0m\u001b[0;34m/\u001b[0m\u001b[0mdet_dist\u001b[0m\u001b[0;34m*\u001b[0m\u001b[0;34m(\u001b[0m\u001b[0mx\u001b[0m\u001b[0;34m*\u001b[0m\u001b[0mx_arr\u001b[0m\u001b[0;34m+\u001b[0m\u001b[0my\u001b[0m\u001b[0;34m*\u001b[0m\u001b[0my_arr\u001b[0m\u001b[0;34m)\u001b[0m\u001b[0;34m)\u001b[0m\u001b[0;34m\u001b[0m\u001b[0;34m\u001b[0m\u001b[0m\n\u001b[0m\u001b[1;32m     10\u001b[0m         \u001b[0;32mreturn\u001b[0m \u001b[0mRe\u001b[0m\u001b[0;34m\u001b[0m\u001b[0;34m\u001b[0m\u001b[0m\n\u001b[1;32m     11\u001b[0m \u001b[0;34m\u001b[0m\u001b[0m\n",
      "\u001b[0;31mTypeError\u001b[0m: unsupported operand type(s) for ** or pow(): 'list' and 'int'"
     ]
    }
   ],
   "source": [
    "l = propagate_fresnel(1,2,x_arr,y_arr,wf_obj)"
   ]
  },
  {
   "cell_type": "code",
   "execution_count": 5,
   "metadata": {},
   "outputs": [],
   "source": [
    "def propagate_fresnel(x,y,x_arr,wf_obj,y_arr,det_dist = 14e-03,wl=7.29e-11,defocus = 400e-06):\n",
    "    k = np.pi * 2 / wl\n",
    "    A = np.exp(1.j*k*det_dist)/1.j/wl/det_dist*np.exp(1.j*k/2/det_dist)*(x**2+y**2)\n",
    "    M = (det_dist+defocus)/det_dist/defocus\n",
    "\n",
    "    #def func_re(x,y,x_arr,y_arr,defoucs = defocus,wl=wl,det_dist=det_dist):\n",
    "    #    k = np.pi * 2 / wl\n",
    "    #    M = (det_dist+defocus)/det_dist/defocus\n",
    "    #    f = np.exp(-1.j*k/2/M*(x_arr**2 + y_arr*2)) * np.exp(-1.j*k/det_dist*(x*x_arr+y*y_arr))\n",
    "    #    return Re\n",
    "\n",
    "    f = np.exp(-1.j*k/2/M*(x_arr**2 + y_arr*2)) * np.exp(-1.j*k/det_dist*(x*x_arr+y*y_arr))\n",
    "    \n",
    "\n",
    "    Re_inte = integrate.dblquad(np.real(f),-scipy.integrate.Inf,scipy.integrate.Inf)\n",
    "\n",
    "    Im_inte = integrate.dblquad(np.imag(f),-scipy.integrate.Inf,scipy.integrate.Inf)\n",
    "\n",
    "    return A*(Re_inte+1.j*Im_inte)"
   ]
  },
  {
   "cell_type": "code",
   "execution_count": 6,
   "metadata": {},
   "outputs": [
    {
     "output_type": "error",
     "ename": "TypeError",
     "evalue": "unsupported operand type(s) for ** or pow(): 'list' and 'int'",
     "traceback": [
      "\u001b[0;31m---------------------------------------------------------------------------\u001b[0m",
      "\u001b[0;31mTypeError\u001b[0m                                 Traceback (most recent call last)",
      "\u001b[0;32m<ipython-input-6-a5e32146834b>\u001b[0m in \u001b[0;36m<module>\u001b[0;34m\u001b[0m\n\u001b[0;32m----> 1\u001b[0;31m \u001b[0mpropagate_fresnel\u001b[0m\u001b[0;34m(\u001b[0m\u001b[0;36m1\u001b[0m\u001b[0;34m,\u001b[0m\u001b[0;36m2\u001b[0m\u001b[0;34m,\u001b[0m\u001b[0mx_arr\u001b[0m\u001b[0;34m,\u001b[0m\u001b[0mwf_obj\u001b[0m\u001b[0;34m,\u001b[0m\u001b[0my_arr\u001b[0m\u001b[0;34m)\u001b[0m\u001b[0;34m\u001b[0m\u001b[0;34m\u001b[0m\u001b[0m\n\u001b[0m",
      "\u001b[0;32m<ipython-input-5-70a5900fbd58>\u001b[0m in \u001b[0;36mpropagate_fresnel\u001b[0;34m(x, y, x_arr, wf_obj, y_arr, det_dist, wl, defocus)\u001b[0m\n\u001b[1;32m     10\u001b[0m     \u001b[0;31m#    return Re\u001b[0m\u001b[0;34m\u001b[0m\u001b[0;34m\u001b[0m\u001b[0;34m\u001b[0m\u001b[0m\n\u001b[1;32m     11\u001b[0m \u001b[0;34m\u001b[0m\u001b[0m\n\u001b[0;32m---> 12\u001b[0;31m     \u001b[0mf\u001b[0m \u001b[0;34m=\u001b[0m \u001b[0mnp\u001b[0m\u001b[0;34m.\u001b[0m\u001b[0mexp\u001b[0m\u001b[0;34m(\u001b[0m\u001b[0;34m-\u001b[0m\u001b[0;36m1.j\u001b[0m\u001b[0;34m*\u001b[0m\u001b[0mk\u001b[0m\u001b[0;34m/\u001b[0m\u001b[0;36m2\u001b[0m\u001b[0;34m/\u001b[0m\u001b[0mM\u001b[0m\u001b[0;34m*\u001b[0m\u001b[0;34m(\u001b[0m\u001b[0mx_arr\u001b[0m\u001b[0;34m**\u001b[0m\u001b[0;36m2\u001b[0m \u001b[0;34m+\u001b[0m \u001b[0my_arr\u001b[0m\u001b[0;34m*\u001b[0m\u001b[0;36m2\u001b[0m\u001b[0;34m)\u001b[0m\u001b[0;34m)\u001b[0m \u001b[0;34m*\u001b[0m \u001b[0mnp\u001b[0m\u001b[0;34m.\u001b[0m\u001b[0mexp\u001b[0m\u001b[0;34m(\u001b[0m\u001b[0;34m-\u001b[0m\u001b[0;36m1.j\u001b[0m\u001b[0;34m*\u001b[0m\u001b[0mk\u001b[0m\u001b[0;34m/\u001b[0m\u001b[0mdet_dist\u001b[0m\u001b[0;34m*\u001b[0m\u001b[0;34m(\u001b[0m\u001b[0mx\u001b[0m\u001b[0;34m*\u001b[0m\u001b[0mx_arr\u001b[0m\u001b[0;34m+\u001b[0m\u001b[0my\u001b[0m\u001b[0;34m*\u001b[0m\u001b[0my_arr\u001b[0m\u001b[0;34m)\u001b[0m\u001b[0;34m)\u001b[0m\u001b[0;34m\u001b[0m\u001b[0;34m\u001b[0m\u001b[0m\n\u001b[0m\u001b[1;32m     13\u001b[0m \u001b[0;34m\u001b[0m\u001b[0m\n\u001b[1;32m     14\u001b[0m \u001b[0;34m\u001b[0m\u001b[0m\n",
      "\u001b[0;31mTypeError\u001b[0m: unsupported operand type(s) for ** or pow(): 'list' and 'int'"
     ]
    }
   ],
   "source": [
    "propagate_fresnel(1,2,x_arr,wf_obj,y_arr)"
   ]
  },
  {
   "cell_type": "code",
   "execution_count": 8,
   "metadata": {},
   "outputs": [
    {
     "output_type": "error",
     "ename": "FileNotFoundError",
     "evalue": "[Errno 2] No such file or directory: 'configure.yml'",
     "traceback": [
      "\u001b[0;31m---------------------------------------------------------------------------\u001b[0m",
      "\u001b[0;31mFileNotFoundError\u001b[0m                         Traceback (most recent call last)",
      "\u001b[0;32m<ipython-input-8-56e20d459fab>\u001b[0m in \u001b[0;36m<module>\u001b[0;34m\u001b[0m\n\u001b[1;32m      6\u001b[0m \u001b[0;32mimport\u001b[0m \u001b[0mmatplotlib\u001b[0m\u001b[0;34m.\u001b[0m\u001b[0mpyplot\u001b[0m \u001b[0;32mas\u001b[0m \u001b[0mplt\u001b[0m\u001b[0;34m\u001b[0m\u001b[0;34m\u001b[0m\u001b[0m\n\u001b[1;32m      7\u001b[0m \u001b[0;32mimport\u001b[0m \u001b[0mmath\u001b[0m\u001b[0;34m\u001b[0m\u001b[0;34m\u001b[0m\u001b[0m\n\u001b[0;32m----> 8\u001b[0;31m \u001b[0;32mwith\u001b[0m \u001b[0mopen\u001b[0m\u001b[0;34m(\u001b[0m\u001b[0;34m'configure.yml'\u001b[0m\u001b[0;34m,\u001b[0m\u001b[0;34m'r'\u001b[0m\u001b[0;34m)\u001b[0m \u001b[0;32mas\u001b[0m \u001b[0mconf_para\u001b[0m\u001b[0;34m:\u001b[0m\u001b[0;34m\u001b[0m\u001b[0;34m\u001b[0m\u001b[0m\n\u001b[0m\u001b[1;32m      9\u001b[0m     \u001b[0mconf_para\u001b[0m \u001b[0;34m=\u001b[0m \u001b[0myaml\u001b[0m\u001b[0;34m.\u001b[0m\u001b[0mload\u001b[0m\u001b[0;34m(\u001b[0m\u001b[0mconf_para\u001b[0m\u001b[0;34m,\u001b[0m\u001b[0mLoader\u001b[0m\u001b[0;34m=\u001b[0m\u001b[0myaml\u001b[0m\u001b[0;34m.\u001b[0m\u001b[0mFullLoader\u001b[0m\u001b[0;34m)\u001b[0m\u001b[0;34m\u001b[0m\u001b[0;34m\u001b[0m\u001b[0m\n\u001b[1;32m     10\u001b[0m \u001b[0;32mdef\u001b[0m \u001b[0mlens_wp_y\u001b[0m\u001b[0;34m(\u001b[0m\u001b[0my\u001b[0m\u001b[0;34m,\u001b[0m\u001b[0my_arr\u001b[0m\u001b[0;34m,\u001b[0m\u001b[0mp_y\u001b[0m \u001b[0;34m=\u001b[0m \u001b[0;36m40e-06\u001b[0m\u001b[0;34m,\u001b[0m\u001b[0mfocus_y\u001b[0m \u001b[0;34m=\u001b[0m \u001b[0;36m1.2e-3\u001b[0m\u001b[0;34m,\u001b[0m \u001b[0mdefocus\u001b[0m \u001b[0;34m=\u001b[0m \u001b[0;36m400e-6\u001b[0m\u001b[0;34m,\u001b[0m \u001b[0my_cen\u001b[0m \u001b[0;34m=\u001b[0m \u001b[0;34m(\u001b[0m\u001b[0my_abcen\u001b[0m \u001b[0;34m-\u001b[0m \u001b[0;36m0.5\u001b[0m\u001b[0;34m)\u001b[0m\u001b[0;34m*\u001b[0m\u001b[0map_y\u001b[0m\u001b[0;34m,\u001b[0m \u001b[0malpha_y\u001b[0m \u001b[0;34m=\u001b[0m \u001b[0;34m-\u001b[0m\u001b[0;36m0.05\u001b[0m\u001b[0;34m,\u001b[0m \u001b[0mwl\u001b[0m \u001b[0;34m=\u001b[0m \u001b[0;36m7.29e-11\u001b[0m\u001b[0;34m)\u001b[0m\u001b[0;34m:\u001b[0m\u001b[0;34m\u001b[0m\u001b[0;34m\u001b[0m\u001b[0m\n",
      "\u001b[0;31mFileNotFoundError\u001b[0m: [Errno 2] No such file or directory: 'configure.yml'"
     ]
    }
   ],
   "source": [
    "import os,sys\n",
    "import numpy as np\n",
    "import yaml\n",
    "import scipy\n",
    "import scipy.integrate as integrate\n",
    "import matplotlib.pyplot as plt\n",
    "import math\n",
    "with open('configure.yml','r') as conf_para:\n",
    "    conf_para = yaml.load(conf_para,Loader=yaml.FullLoader)\n",
    "def lens_wp_y(y,y_arr,p_y = 40e-06,focus_y = 1.2e-3, defocus = 400e-6, y_cen = (y_abcen - 0.5)*ap_y, alpha_y = -0.05, wl = 7.29e-11):\n",
    "\n",
    "    k = 2*np.pi / wl\n",
    "\n",
    "    M_x = (defocus + focus_y) / defocus / focus_y\n",
    "    z = defocus + focus_y\n",
    "    \n",
    "\n",
    "    def func_re(y,y_arr,focus_y = focus_y, y_cen = y_cen, M_y=(defocus + focus_y) / defocus / focus_y, z=defocus + focus_y):\n",
    "        f = np.exp(1.j*alpha_y*pow((y_arr-y_cen)/focus_y,3)) * np.exp(1.j* k/2/z*y_arr**2) * np.exp(-1.j*k/M_y * y *y_arr)\n",
    "        return np.real(f)\n",
    "\n",
    "    def func_im(x,x_arr,focus_y = focus_y, x_cen = x_cen, M_y=(defoucs + focus_y) / defoucs / focus_y, z=defoucs + focus_y):\n",
    "        f = np.exp(1.j*alpha_y*pow((y_arr-y_cen)/focus_y,3)) * np.exp(1.j* k/2/z*x_arr**2) * np.exp(-1.j*k/M_y * y *y_arr)\n",
    "        return np.im(f)\n",
    "\n",
    "    A = - np.exp(1.j*k*z) / wl /defocus/focus_y * np.exp(1.j * k/2 * y**2 / M_y)\n",
    "    fn_y = (ap_y**2 / wl / (focus_y + defocus))\n",
    "    \n",
    "    Re_func = func_re(y,y_arr)\n",
    "    Re_inte = integrate.quad(Re_func,-ap_y / 2,ap_y / 2,epsabs = 10-7,epsrel = 10-9,limit = 1000 * fn)\n",
    "    Im_func = func_im(x,x_arr)\n",
    "    Im_inte = integrate.quad(Im_func,-ap_y / 2,ap_y / 2,epsabs = 10-7,epsrel = 10-9,limit = 1000 * fn_y)\n",
    "\n",
    "    return (Re_inte+1.j*Im_inte)*A"
   ]
  },
  {
   "cell_type": "code",
   "execution_count": null,
   "metadata": {},
   "outputs": [],
   "source": []
  }
 ]
}