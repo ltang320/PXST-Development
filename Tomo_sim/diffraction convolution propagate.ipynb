{
 "metadata": {
  "language_info": {
   "codemirror_mode": {
    "name": "ipython",
    "version": 3
   },
   "file_extension": ".py",
   "mimetype": "text/x-python",
   "name": "python",
   "nbconvert_exporter": "python",
   "pygments_lexer": "ipython3",
   "version": "3.7.9-final"
  },
  "orig_nbformat": 2,
  "kernelspec": {
   "name": "python3",
   "display_name": "Python 3",
   "language": "python"
  }
 },
 "nbformat": 4,
 "nbformat_minor": 2,
 "cells": [
  {
   "cell_type": "code",
   "execution_count": 4,
   "metadata": {},
   "outputs": [],
   "source": [
    "import numpy as np\n",
    "import scipy.integrate as integrate\n",
    "from scipy.signal import fftconvolve\n",
    "import os,sys\n",
    "import yaml\n",
    "import matplotlib.pyplot as plt\n",
    "import math"
   ]
  },
  {
   "cell_type": "code",
   "execution_count": 5,
   "metadata": {},
   "outputs": [],
   "source": [
    "with open('configure.yml','r') as conf_para:\n",
    "    conf_para = yaml.load(conf_para,Loader=yaml.FullLoader)\n",
    "#print(conf_para)"
   ]
  },
  {
   "cell_type": "code",
   "execution_count": 6,
   "metadata": {},
   "outputs": [],
   "source": [
    "def wavefront_initialize(pixelsize_x = 55e-06,pixelsize_y = 55e-06,fs_size = 2000,ss_size = 2000,focus_x = 1.2e-3,focus_y = 1.0e-3,defocus = 400e-6, det_dist = 14e-03, ap_x = 40e-06, ap_y= 40e-6,wl = 7.29e-11,amplitude_value=0.0):\n",
    "\n",
    "    #wf_dec = np.zeros((ss_size,fs_size),dtype='complex')\n",
    "    #wf_dec += amplitude_value\n",
    "\n",
    "\n",
    "    # the range of detector plane(x-axis,y-axis)\n",
    "    xx_span = fs_size * pixelsize_x\n",
    "    yy_span = ss_size * pixelsize_y\n",
    "\n",
    "    # the range of object plane(x-axis,y-axis)\n",
    "    x_span = 2* ap_x / focus_x * defocus\n",
    "    y_span = 2* ap_y / focus_y * defocus\n",
    "    # the sample rate in the object plane\n",
    "    n_x = int(x_span * xx_span / wl / det_dist)\n",
    "    n_y = int(y_span * yy_span / wl / det_dist)\n",
    "\n",
    "    # Initializing coordinate arrays\n",
    "    # coordinate in object plane\n",
    "    x_arr = np.linspace(-x_span / 2, x_span / 2, n_x)\n",
    "    y_arr = np.linspace(-y_span / 2, y_span / 2, n_y)\n",
    "    \n",
    "\n",
    "    #wf_ini = np.zeros((n_x,n_y),dtype='complex')\n",
    "\n",
    "    # coordinate in detector plan\n",
    "    xx_arr = np.linspace(-xx_span / 2, xx_span / 2, fs_size, endpoint=False)\n",
    "    yy_arr = np.linspace(-yy_span / 2, yy_span / 2, ss_size, endpoint=False)\n",
    "\n",
    "    return x_arr,y_arr,xx_arr,yy_arr,n_x,n_y"
   ]
  },
  {
   "cell_type": "code",
   "execution_count": 7,
   "metadata": {},
   "outputs": [],
   "source": [
    "x_arr,y_arr,xx_arr,yy_arr,n_x,n_y = wavefront_initialize(pixelsize_x = 55e-06,pixelsize_y = 55e-06,fs_size = 2000,ss_size = 2000,focus_x = 1.2e-3,focus_y = 1.0e-3,defocus = 400e-6, det_dist = 14e-03, ap_x = 40e-06, ap_y= 40e-6,wl = 7.29e-11,amplitude_value=0.0)"
   ]
  },
  {
   "cell_type": "code",
   "execution_count": 8,
   "metadata": {},
   "outputs": [
    {
     "output_type": "display_data",
     "data": {
      "text/plain": "Canvas(toolbar=Toolbar(toolitems=[('Home', 'Reset original view', 'home', 'home'), ('Back', 'Back to previous …",
      "application/vnd.jupyter.widget-view+json": {
       "version_major": 2,
       "version_minor": 0,
       "model_id": "460fbc65ec31423db9c5bdccfdf9d880"
      }
     },
     "metadata": {}
    },
    {
     "output_type": "execute_result",
     "data": {
      "text/plain": [
       "[<matplotlib.lines.Line2D at 0x7fa220519490>]"
      ]
     },
     "metadata": {},
     "execution_count": 8
    }
   ],
   "source": [
    "alpha_x = conf_para['Lens']['alpha_x']\n",
    "alpha_y = conf_para['Lens']['alpha_y']\n",
    "focus_x = conf_para['Lens']['focus_x']\n",
    "focus_y = conf_para['Lens']['focus_y']\n",
    "\n",
    "det_dist = conf_para['Exp_geom']['det_dist']\n",
    "defocus = conf_para['Exp_geom']['defocus']\n",
    "ap_x = conf_para['Lens']['ap_x']\n",
    "ap_y = conf_para['Lens']['ap_y']\n",
    "\n",
    "wl = 7.29e-11\n",
    "k = 2*np.pi/wl\n",
    "n_arr = np.arange(-n_x // 2, n_x // 2)\n",
    "x0_arr = n_arr/n_x*ap_x*2\n",
    "u0_x = np.exp(1.j*k/2*x0_arr**2 + 1e9j*alpha_x*(x0_arr/focus_x)**3)\n",
    "u0_x[np.abs(x0_arr)>ap_x/2] = 0\n",
    "\n",
    "%matplotlib widget\n",
    "plt.plot(x0_arr,u0_x)\n"
   ]
  },
  {
   "cell_type": "code",
   "execution_count": 9,
   "metadata": {},
   "outputs": [],
   "source": [
    "delta_x = ap_x / n_x\n",
    "h_x = delta_x * (focus_x + defocus) / 1.j / wl**0.5 * np.exp(-1.j * k * np.sqrt(x0_arr**2 + (focus_x + defocus)**2)) / (x0_arr**2 + (focus_x + defocus)**2)**0.75\n",
    "\n",
    "u0_f_x = np.fft.fft(u0_x)\n",
    "\n",
    "h_f_x = np.fft.fft(h_x)\n",
    "h_f_x = np.fft.fftshift(h_f_x)\n",
    "u0_f_x = np.fft.fftshift(u0_f_x)\n",
    "\n",
    "#fx_arr = np.fft.fftfreq(n_x)*n_x\n",
    "#g_x = np.fft.ifft(np.exp(-1.j * np.pi * fx_arr**2 / n_x)*h_f_x*u0_f_x)\n",
    "#h_x = np.fft.ifft(np.exp(1j * np.pi / n_x * fx_arr**2 /n_x))\n",
    "#u1_x = np.fft.fftshift(np.exp(-1.j*np.pi*fx_arr**2 /n_x)*np.fft.fft(g_x*h_x))\n"
   ]
  },
  {
   "cell_type": "code",
   "execution_count": 10,
   "metadata": {},
   "outputs": [
    {
     "output_type": "stream",
     "name": "stdout",
     "text": [
      "(2874126,)\n"
     ]
    },
    {
     "output_type": "display_data",
     "data": {
      "text/plain": "Canvas(toolbar=Toolbar(toolitems=[('Home', 'Reset original view', 'home', 'home'), ('Back', 'Back to previous …",
      "application/vnd.jupyter.widget-view+json": {
       "version_major": 2,
       "version_minor": 0,
       "model_id": "4d0eeaebe6f84a6bbd910785b35e23e8"
      }
     },
     "metadata": {}
    },
    {
     "output_type": "execute_result",
     "data": {
      "text/plain": [
       "Text(0.5, 1.0, 'Lens_x Phase')"
      ]
     },
     "metadata": {},
     "execution_count": 10
    }
   ],
   "source": [
    "\n",
    "fa = 1\n",
    "wm_x = np.exp(-1j * np.pi * x_arr**2 * fa / n_x)\n",
    "g_x = np.exp(-1j * np.pi * x_arr**2 * fa / n_x)*h_f_x*u0_f_x\n",
    "h_x = np.exp(1j * np.pi * x_arr**2 * fa / n_x)\n",
    "u1_x = wm_x * fftconvolve(g_x,h_x,mode='same')\n",
    "\n",
    "print(u1_x.shape)\n",
    "%matplotlib widget\n",
    "fig, axes = plt.subplots(1, 2, figsize=(16, 6))\n",
    "#axes[0].plot(np.abs(u1_x[500:2200]))\n",
    "axes[0].plot(np.abs(u1_x))\n",
    "axes[0].set_title('Lens_x Amplitude', fontsize=20)\n",
    "\n",
    "#axes[1].plot(np.unwrap(np.imag(u1_x[500:2200])))\n",
    "axes[1].plot(np.unwrap(np.imag(u1_x)))\n",
    "axes[1].set_title('Lens_x Phase', fontsize=20)\n",
    "#plt.savefig('Lens_x_1D.png')"
   ]
  },
  {
   "cell_type": "code",
   "execution_count": 12,
   "metadata": {},
   "outputs": [
    {
     "output_type": "error",
     "ename": "ValueError",
     "evalue": "operands could not be broadcast together with shapes (3448951,) (2874126,) ",
     "traceback": [
      "\u001b[0;31m---------------------------------------------------------------------------\u001b[0m",
      "\u001b[0;31mValueError\u001b[0m                                Traceback (most recent call last)",
      "\u001b[0;32m<ipython-input-12-d2ba4dadb761>\u001b[0m in \u001b[0;36m<module>\u001b[0;34m\u001b[0m\n\u001b[1;32m     19\u001b[0m \u001b[0mhm_y\u001b[0m \u001b[0;34m=\u001b[0m \u001b[0mnp\u001b[0m\u001b[0;34m.\u001b[0m\u001b[0mexp\u001b[0m\u001b[0;34m(\u001b[0m\u001b[0;34m-\u001b[0m\u001b[0;36m1j\u001b[0m \u001b[0;34m*\u001b[0m \u001b[0mnp\u001b[0m\u001b[0;34m.\u001b[0m\u001b[0mpi\u001b[0m \u001b[0;34m*\u001b[0m \u001b[0my_arr\u001b[0m\u001b[0;34m**\u001b[0m\u001b[0;36m2\u001b[0m \u001b[0;34m*\u001b[0m \u001b[0maa_y\u001b[0m \u001b[0;34m/\u001b[0m\u001b[0;36m2\u001b[0m \u001b[0;34m/\u001b[0m \u001b[0mn_y\u001b[0m\u001b[0;34m)\u001b[0m\u001b[0;34m\u001b[0m\u001b[0;34m\u001b[0m\u001b[0m\n\u001b[1;32m     20\u001b[0m \u001b[0;34m\u001b[0m\u001b[0m\n\u001b[0;32m---> 21\u001b[0;31m \u001b[0mu1_y\u001b[0m \u001b[0;34m=\u001b[0m \u001b[0mwm_y\u001b[0m \u001b[0;34m*\u001b[0m \u001b[0mfftconvolve\u001b[0m\u001b[0;34m(\u001b[0m\u001b[0mwm_y\u001b[0m\u001b[0;34m*\u001b[0m\u001b[0mh_y\u001b[0m\u001b[0;34m*\u001b[0m\u001b[0mu0_y\u001b[0m\u001b[0;34m,\u001b[0m\u001b[0mhm_y\u001b[0m\u001b[0;34m,\u001b[0m\u001b[0mmode\u001b[0m\u001b[0;34m=\u001b[0m\u001b[0;34m'same'\u001b[0m\u001b[0;34m)\u001b[0m\u001b[0;34m\u001b[0m\u001b[0;34m\u001b[0m\u001b[0m\n\u001b[0m\u001b[1;32m     22\u001b[0m \u001b[0;34m\u001b[0m\u001b[0m\n\u001b[1;32m     23\u001b[0m \u001b[0mget_ipython\u001b[0m\u001b[0;34m(\u001b[0m\u001b[0;34m)\u001b[0m\u001b[0;34m.\u001b[0m\u001b[0mrun_line_magic\u001b[0m\u001b[0;34m(\u001b[0m\u001b[0;34m'matplotlib'\u001b[0m\u001b[0;34m,\u001b[0m \u001b[0;34m'widget'\u001b[0m\u001b[0;34m)\u001b[0m\u001b[0;34m\u001b[0m\u001b[0;34m\u001b[0m\u001b[0m\n",
      "\u001b[0;31mValueError\u001b[0m: operands could not be broadcast together with shapes (3448951,) (2874126,) "
     ]
    }
   ],
   "source": [
    "y_lens = 2*n_arr/n_y*ap_y\n",
    "u0_y = np.exp(1.j*k/2*y_lens**2/(defocus) + 1e9j*alpha_y*(y_lens/focus_y)**3)\n",
    "\n",
    "delta_y = ap_y / n_y\n",
    "\n",
    "h_y = delta_y * (focus_y + defocus) / 1.j / wl**0.5 * np.exp(-1.j * k * np.sqrt(y_lens**2 + (focus_y + defocus)**2)) / (y_lens**2 + (focus_y + defocus)**2)**0.75\n",
    "\n",
    "\n",
    "\n",
    "u0_f_y = np.fft.fft(u0_y)\n",
    "h_f_y = np.fft.fft(h_y)\n",
    "h_f_y = np.fft.fftshift(h_f_y)\n",
    "u0_f_y = np.fft.fftshift(u0_f_y)\n",
    "\n",
    "\n",
    "\n",
    "aa_y = 1\n",
    "wm_y = np.exp(1.j * np.pi / n_y * y_arr**2 *aa_y /2)\n",
    "hm_y = np.exp(-1j * np.pi * y_arr**2 * aa_y /2 / n_y)\n",
    "\n",
    "u1_y = wm_y * fftconvolve(wm_y*h_y*u0_y,hm_y,mode='same')\n",
    "\n",
    "%matplotlib widget\n",
    "fig, axes = plt.subplots(1, 2, figsize=(16, 6))\n",
    "axes[0].plot(np.real(u1_y))\n",
    "axes[0].set_title('Lens_y Amplitude', fontsize=20)\n",
    "axes[1].plot(np.unwrap(np.imag(u1_y)))\n",
    "axes[1].set_title('Lens_y Phase', fontsize=20)\n",
    "plt.savefig('Lens_y_1D.png')\n",
    "\n"
   ]
  },
  {
   "cell_type": "code",
   "execution_count": 15,
   "metadata": {},
   "outputs": [
    {
     "output_type": "stream",
     "name": "stdout",
     "text": [
      "(2874126,)\n"
     ]
    },
    {
     "output_type": "display_data",
     "data": {
      "text/plain": "Canvas(toolbar=Toolbar(toolitems=[('Home', 'Reset original view', 'home', 'home'), ('Back', 'Back to previous …",
      "application/vnd.jupyter.widget-view+json": {
       "version_major": 2,
       "version_minor": 0,
       "model_id": "705063d6d53946e1b1ad5ed0df22db7b"
      }
     },
     "metadata": {}
    },
    {
     "output_type": "execute_result",
     "data": {
      "text/plain": [
       "Text(0.5, 1.0, 'Lens_y Phase')"
      ]
     },
     "metadata": {},
     "execution_count": 15
    }
   ],
   "source": [
    "\n",
    "h_y_new = np.exp(1.j* k /2 /(defocus) * y_lens**2)\n",
    "\n",
    "h_f_ynew = np.fft.fft(h_y_new)\n",
    "h_f_ynew = np.fft.fftshift(h_f_ynew)\n",
    "print(h_f_ynew.shape)\n",
    "u_0_try = np.ones((h_f_ynew.shape[0]))\n",
    "%matplotlib widget\n",
    "fig, axes = plt.subplots(1, 2, figsize=(16, 6))\n",
    "axes[0].plot(y_lens)\n",
    "axes[0].set_title('Amplitude', fontsize=20)\n",
    "axes[1].plot(np.unwrap(np.imag(u_0_try)))\n",
    "axes[1].set_title('Lens_y Phase', fontsize=20)\n",
    "\n",
    "\n"
   ]
  },
  {
   "cell_type": "code",
   "execution_count": 16,
   "metadata": {},
   "outputs": [
    {
     "output_type": "stream",
     "name": "stdout",
     "text": [
      "[0. 0. 0. ... 0. 0. 0.]\n(30000,)\n"
     ]
    }
   ],
   "source": [
    "h_y_new = np.exp(1.j*k/2 /(defocus*1000) * y_lens**2)\n",
    "u_0_try = np.ones((10000))\n",
    "u_0_try = np.pad(u_0_try,(10000,10000))\n",
    "print(u_0_try)\n",
    "plt.plot(u_0_try)\n",
    "print(u_0_try.shape)\n",
    "\n"
   ]
  },
  {
   "cell_type": "code",
   "execution_count": 18,
   "metadata": {},
   "outputs": [
    {
     "output_type": "stream",
     "name": "stdout",
     "text": [
      "(2874166,)\n"
     ]
    },
    {
     "output_type": "display_data",
     "data": {
      "text/plain": "Canvas(toolbar=Toolbar(toolitems=[('Home', 'Reset original view', 'home', 'home'), ('Back', 'Back to previous …",
      "application/vnd.jupyter.widget-view+json": {
       "version_major": 2,
       "version_minor": 0,
       "model_id": "6562d1148d9d4d27be627998d1a2da82"
      }
     },
     "metadata": {}
    },
    {
     "output_type": "execute_result",
     "data": {
      "text/plain": [
       "Text(0.5, 1.0, 'Lens_y Phase')"
      ]
     },
     "metadata": {},
     "execution_count": 18
    }
   ],
   "source": [
    "h_y_new = np.pad(h_y_new,(10,10))\n",
    "print(h_y_new.shape)\n",
    "u_try = np.convolve(h_y_new,u_0_try,mode = 'same')\n",
    "#u_try = fftconvolve(h_y_new,u_0_try,mode='same')\n",
    "%matplotlib widget\n",
    "fig, axes = plt.subplots(1, 2, figsize=(16, 6))\n",
    "axes[0].plot(np.abs(u_try))\n",
    "axes[0].set_title('Lens_y Amplitude', fontsize=20)\n",
    "axes[1].plot(np.unwrap(np.imag(u_try)))\n",
    "axes[1].set_title('Lens_y Phase', fontsize=20)"
   ]
  },
  {
   "cell_type": "code",
   "execution_count": 181,
   "metadata": {},
   "outputs": [],
   "source": [
    "wf_lens = np.zeros((len(u1_y),len(u1_x)),dtype='complex')\n",
    "u1_x = u1_x.reshape(1,len(u1_x))\n",
    "u1_y\n",
    "        wf_lens[i][j] = u1_x[j]*u1_y[i]\n"
   ]
  },
  {
   "cell_type": "code",
   "execution_count": 182,
   "metadata": {},
   "outputs": [
    {
     "output_type": "stream",
     "name": "stdout",
     "text": [
      "(3448, 2874)\n"
     ]
    }
   ],
   "source": [
    "print(wf_lens.shape)\n",
    "wf_lens_new = wf_lens\n",
    "if len(u1_y)<len(u1_x):\n",
    "    diff = np.abs(len(u1_x)-len(u1_y))//2\n",
    "else:\n",
    "\n",
    "    diff = np.abs(len(u1_x)-len(u1_y))//2"
   ]
  },
  {
   "cell_type": "code",
   "execution_count": 183,
   "metadata": {},
   "outputs": [
    {
     "output_type": "stream",
     "name": "stdout",
     "text": [
      "[   358071.46491085-14794363.20927467j\n   5224096.08331366-14612463.10137892j\n   2750836.52128385-16516559.89901436j ...\n -13718904.09453787 -7700508.34094232j\n  -8595890.02987994 -5516583.36549783j\n  -4709610.2780952  -5702556.14279214j]\n"
     ]
    }
   ],
   "source": [
    "wf_lens_new = wf_lens[diff:(len(wf_lens)-diff),:]\n",
    "print(wf_lens_new[0])"
   ]
  },
  {
   "cell_type": "code",
   "execution_count": 205,
   "metadata": {},
   "outputs": [
    {
     "output_type": "stream",
     "name": "stdout",
     "text": [
      "Warning: Cannot change to a different GUI toolkit: widget. Using osx instead.\n"
     ]
    }
   ],
   "source": [
    "%matplotlib widget\n",
    "fig, axes = plt.subplots(1, 2, figsize=(16, 6))\n",
    "real = axes[0].imshow(np.real(wf_lens_new[50:2500,50:2500]))\n",
    "axes[0].set_title('Amplitude on defocus plane', fontsize=20)\n",
    "\n",
    "imag = axes[1].imshow(np.unwrap(np.imag(wf_lens_new[50:2500,50:2500])))\n",
    "axes[1].set_title('Phase on defocus plane', fontsize=20)\n",
    "plt.savefig('wf_defocus_wrap.png')\n"
   ]
  },
  {
   "cell_type": "code",
   "execution_count": 184,
   "metadata": {},
   "outputs": [
    {
     "output_type": "stream",
     "name": "stdout",
     "text": [
      "2874 2874\n"
     ]
    }
   ],
   "source": [
    "print(len(u1_x),len(np.real(u1_x)))"
   ]
  },
  {
   "cell_type": "code",
   "execution_count": 23,
   "metadata": {},
   "outputs": [
    {
     "output_type": "stream",
     "name": "stdout",
     "text": [
      "[ -2999860.69861899-15420413.17393727j\n   2086690.62906887-16340612.97461795j\n   -911465.18808825-17751215.84034516j ...\n -15978455.82852454 -4857849.50275963j\n -10169267.05122465 -3760905.21754768j\n  -6182342.06075888 -4839267.21274496j]\n"
     ]
    }
   ],
   "source": [
    "print(wf_lens[1])"
   ]
  },
  {
   "cell_type": "code",
   "execution_count": 114,
   "metadata": {},
   "outputs": [
    {
     "output_type": "stream",
     "name": "stdout",
     "text": [
      "(2874,) (3448,) (2874,) (3448,)\n143\n[-1.33356542e-05 -1.33263708e-05 -1.33170873e-05 ...  1.33170873e-05\n  1.33263708e-05  1.33356542e-05]\n[-1.33356542e-05 -1.33263708e-05 -1.33170873e-05 ...  1.33170873e-05\n  1.33263708e-05  1.33356542e-05]\n[0. 0. 0. ... 0. 0. 0.]\n"
     ]
    },
    {
     "output_type": "execute_result",
     "data": {
      "text/plain": [
       "array([-1.33356542e-05, -1.33263708e-05, -1.33170873e-05, ...,\n",
       "        1.33170873e-05,  1.33263708e-05,  1.33356542e-05])"
      ]
     },
     "metadata": {},
     "execution_count": 114
    }
   ],
   "source": [
    "print(x_arr.shape,y_arr.shape,x_lens.shape,y_lens.shape)\n",
    "diff = np.abs(x_lens.shape[0]-y_lens.shape[0])//2\n",
    "print(diff//2)\n",
    "\n",
    "if x_arr.shape[0]<y_arr.shape[0]:\n",
    "    #x_arr = np.pad(x_arr,(diff//2,diff//2),'constant',constant_values = 0)\n",
    "    y_arr_new = y_arr[diff:(len(y_arr)-diff),]\n",
    "elif x_arr.shape[0]>y_arr.shape[0]:\n",
    "    #y_arr = np.pad(y_arr,(diff//2,diff//2),'constant',constant_values = 0)\n",
    "    x_arr_new = np.asarray(x_arr[diff:(len(x_arr)-diff),])\n",
    "\n",
    "#print((x_arr_new.shape),(y_arr_new.shape),(x_lens.shape),(y_lens.shape))\n",
    "y = y_arr[diff:(len(y_arr)-diff)]\n",
    "print(y)\n",
    "print(y_arr_new)\n",
    "print(x_arr_new)\n",
    "y_arr[diff:(len(y_arr)-diff)]\n"
   ]
  },
  {
   "cell_type": "code",
   "execution_count": 165,
   "metadata": {},
   "outputs": [],
   "source": [
    "def aperture_type(x_arr,y_arr,wf_ini,ap_x = 40e-06,ap_y = 40e-06,type =0,sigma = 2.35,focus_x = 1.2e-3,focus_y = 1.2e-3, defocus = 400e-06):\n",
    "    ap_xx = x_arr[:,np.newaxis]\n",
    "    ap_yy = y_arr[np.newaxis,:]\n",
    "    diameter_x = ap_x/focus_x*defocus/5\n",
    "    diameter_y = ap_y/focus_y*defocus/5\n",
    "    filter = np.zeros_like(wf_ini)\n",
    "    if type == 0: # Rectangular aperture_type\n",
    "        radius_x = (diameter_x/2)\n",
    "        radius_y = (diameter_y/2)\n",
    "        print(radius_x,radius_y)\n",
    "        filter_illuminated_indices = np.where((np.abs(ap_xx)>radius_x) & (np.abs(ap_yy)>radius_y))\n",
    "        print(filter_illuminated_indices)\n",
    "        filter[filter_illuminated_indices] = 0.0\n",
    "    elif type == 1: # Circular aperture_type\n",
    "        radius = np.sqrt((diameter_x/2)**2 + (diameter_y/2)**2)\n",
    "        print(radius)\n",
    "        filter_illuminated_indices = np.where((ap_xx**2 + ap_yy**2)<radius**2)\n",
    "        filter[filter_illuminated_indices] = 1.0\n",
    "    elif type == 2: # Gaussian_type\n",
    "        sigma_x = diameter_x/2.35\n",
    "        sigma_y = diameter_y/2.35\n",
    "        filter = np.sqrt(np.exp(-pow(ap_xx/sigma_x,2)/2-pow((ap_yy/sigma_y),2)/2))\n",
    "    return wf_ini + filter"
   ]
  },
  {
   "cell_type": "code",
   "execution_count": 166,
   "metadata": {},
   "outputs": [
    {
     "output_type": "stream",
     "name": "stdout",
     "text": [
      "1.3333333333333336e-06 1.3333333333333336e-06\n",
      "(array([   0,    0,    0, ..., 2873, 2873, 2873]), array([   0,    1,    2, ..., 2871, 2872, 2873]))\n",
      "1.3333333333333337e-05\n"
     ]
    }
   ],
   "source": [
    "wf_obj = aperture_type(x_arr,y_arr_new,wf_lens_new,type=0)\n",
    "print(max(x_arr))"
   ]
  },
  {
   "cell_type": "code",
   "execution_count": 43,
   "metadata": {},
   "outputs": [
    {
     "output_type": "error",
     "ename": "NameError",
     "evalue": "name 'y_arr_new' is not defined",
     "traceback": [
      "\u001b[0;31m---------------------------------------------------------------------------\u001b[0m",
      "\u001b[0;31mNameError\u001b[0m                                 Traceback (most recent call last)",
      "\u001b[0;32m<ipython-input-43-f715e6ced10f>\u001b[0m in \u001b[0;36m<module>\u001b[0;34m\u001b[0m\n\u001b[0;32m----> 1\u001b[0;31m \u001b[0mprint\u001b[0m\u001b[0;34m(\u001b[0m\u001b[0my_arr_new\u001b[0m\u001b[0;34m.\u001b[0m\u001b[0mshape\u001b[0m\u001b[0;34m,\u001b[0m\u001b[0mx_arr\u001b[0m\u001b[0;34m.\u001b[0m\u001b[0mshape\u001b[0m\u001b[0;34m,\u001b[0m\u001b[0mwf_lens_f\u001b[0m\u001b[0;34m.\u001b[0m\u001b[0mshape\u001b[0m\u001b[0;34m)\u001b[0m\u001b[0;34m\u001b[0m\u001b[0;34m\u001b[0m\u001b[0m\n\u001b[0m\u001b[1;32m      2\u001b[0m \u001b[0;34m\u001b[0m\u001b[0m\n\u001b[1;32m      3\u001b[0m \u001b[0mget_ipython\u001b[0m\u001b[0;34m(\u001b[0m\u001b[0;34m)\u001b[0m\u001b[0;34m.\u001b[0m\u001b[0mrun_line_magic\u001b[0m\u001b[0;34m(\u001b[0m\u001b[0;34m'matplotlib'\u001b[0m\u001b[0;34m,\u001b[0m \u001b[0;34m'widget'\u001b[0m\u001b[0;34m)\u001b[0m\u001b[0;34m\u001b[0m\u001b[0;34m\u001b[0m\u001b[0m\n\u001b[1;32m      4\u001b[0m \u001b[0;34m\u001b[0m\u001b[0m\n\u001b[1;32m      5\u001b[0m \u001b[0;31m#plt.imshow(np.unwrap(np.imag(wf_lens_new)))\u001b[0m\u001b[0;34m\u001b[0m\u001b[0;34m\u001b[0m\u001b[0;34m\u001b[0m\u001b[0m\n",
      "\u001b[0;31mNameError\u001b[0m: name 'y_arr_new' is not defined"
     ]
    }
   ],
   "source": [
    "print(y_arr_new.shape,x_arr.shape,wf_lens_f.shape)\n",
    "\n",
    "%matplotlib widget\n",
    "\n",
    "#plt.imshow(np.unwrap(np.imag(wf_lens_new)))\n",
    "#plt.imshow(np.unwrap(np.imag(wf_obj)))\n",
    "plt.imshow(np.real(wf_obj))\n",
    "\n"
   ]
  },
  {
   "cell_type": "code",
   "execution_count": null,
   "metadata": {},
   "outputs": [],
   "source": []
  },
  {
   "cell_type": "code",
   "execution_count": 218,
   "metadata": {},
   "outputs": [
    {
     "output_type": "stream",
     "name": "stdout",
     "text": [
      "(2, 2874, 2874)\n",
      "(2874, 2874)\n",
      "(2874, 2874)\n",
      "Warning: Cannot change to a different GUI toolkit: widget. Using osx instead.\n"
     ]
    }
   ],
   "source": [
    "pixelsize_x = conf_para['Detector']['pixelsize_x']\n",
    "pixelsize_y = conf_para['Detector']['pixelsize_y']\n",
    "delta_y = ap_y / n_y\n",
    "\n",
    "cor_obj = np.asarray(np.meshgrid(y_arr_new,x_arr))\n",
    "print(cor_obj.shape)\n",
    "#h_r = delta_y * delta_x * det_dist / 1.j / wl**0.5 * np.exp(-1.j * k * np.sqrt(y_arr_new**2 + x_arr**2 +(det_dist)**2)) / (y_arr_new**2 + x_arr**2 + (det_dist)**2)**0.75\n",
    "h_r = delta_y * delta_x * det_dist / 1.j / wl**0.5 * np.exp(-1.j * k * np.sqrt(cor_obj[0]**2 +cor_obj[1]**2+(det_dist)**2)) / (cor_obj[0]**2 + cor_obj[1]**2+(det_dist)**2)**0.75\n",
    "\n",
    "print(h_r.shape)\n",
    "wf_lens_f = np.fft.fft(wf_lens_new)\n",
    "h_f_r = np.fft.fft(h_r)\n",
    "h_f_r = np.fft.fftshift(h_f_r)\n",
    "wf_lens_f = np.fft.fftshift(wf_lens_f)\n",
    "\n",
    "aa_rx = delta_x/pixelsize_x\n",
    "aa_ry = delta_y/pixelsize_y\n",
    "\n",
    "if xx_arr.shape[0]<x_arr.shape[0]:\n",
    "    compliment_X = np.abs(x_arr.shape[0] - xx_arr.shape[0])//2\n",
    "else:\n",
    "    print(\"No need to pad 0 .\")\n",
    "xx_arr_new = np.pad(xx_arr,(compliment_X,compliment_X),'constant',constant_values = 0)\n",
    "\n",
    "if yy_arr.shape[0]<y_arr_new.shape[0]:\n",
    "    compliment_Y = np.abs(y_arr_new.shape[0] - yy_arr.shape[0])//2\n",
    "else:\n",
    "    print(\"No need to pad 0 .\")\n",
    "\n",
    "yy_arr_new = np.pad(yy_arr,(compliment_Y,compliment_Y),'constant',constant_values = 0)\n",
    "\n",
    "cor_dec = np.asarray(np.meshgrid(yy_arr_new,xx_arr_new))\n",
    "wm_r = np.exp((1.j * np.pi / (len(yy_arr)+len(xx_arr))* (cor_dec[0]**2+cor_dec[1]**2 ) *(aa_ry+aa_rx) /2))\n",
    "print(wm_r.shape)\n",
    "hm_r = np.exp(-1j * np.pi * ( (len(yy_arr)+len(xx_arr)) *  (cor_dec[0]**2+cor_dec[1]**2 )*(aa_ry+ aa_rx )/2 ))\n",
    "\n",
    "wf_dec = wm_r * fftconvolve(wm_r*h_f_r*wf_lens_f,hm_r,mode='same')\n",
    "\n",
    "%matplotlib widget\n",
    "fig, axes = plt.subplots(1, 2, figsize=(16, 6))\n",
    "axes[0].imshow(np.abs(wf_dec)**2)\n",
    "axes[0].set_title('Detector Amplitude', fontsize=20)\n",
    "axes[1].imshow(np.unwrap(np.imag(wf_dec)))\n",
    "axes[1].set_title('Detector Phase', fontsize=20)\n",
    "plt.savefig('Detector.png')"
   ]
  },
  {
   "cell_type": "code",
   "execution_count": 128,
   "metadata": {},
   "outputs": [
    {
     "output_type": "stream",
     "name": "stdout",
     "text": [
      "(2874, 2874)\n"
     ]
    }
   ],
   "source": [
    "print(wf_lens_f.shape)"
   ]
  },
  {
   "cell_type": "code",
   "execution_count": null,
   "metadata": {},
   "outputs": [],
   "source": []
  }
 ]
}