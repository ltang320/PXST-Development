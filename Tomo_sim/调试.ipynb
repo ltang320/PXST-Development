{
 "metadata": {
  "language_info": {
   "codemirror_mode": {
    "name": "ipython",
    "version": 3
   },
   "file_extension": ".py",
   "mimetype": "text/x-python",
   "name": "python",
   "nbconvert_exporter": "python",
   "pygments_lexer": "ipython3",
   "version": "3.7.9-final"
  },
  "orig_nbformat": 2,
  "kernelspec": {
   "name": "python3",
   "display_name": "Python 3",
   "language": "python"
  }
 },
 "nbformat": 4,
 "nbformat_minor": 2,
 "cells": [
  {
   "cell_type": "code",
   "execution_count": 342,
   "metadata": {},
   "outputs": [],
   "source": [
    "import numpy as np\n",
    "import scipy.integrate as integrate\n",
    "from scipy.signal import fftconvolve\n",
    "import os,sys\n",
    "import yaml\n",
    "import matplotlib.pyplot as plt\n",
    "import math\n",
    "import cv2"
   ]
  },
  {
   "cell_type": "code",
   "execution_count": 343,
   "metadata": {},
   "outputs": [],
   "source": [
    "def sample_coordinate(pixelsize_x = 55e-06,pixelsize_y = 55e-06,fs_size = 2000,ss_size = 2000,focus_x = 1.2e-03,focus_y = 1.0e-03,defocus = 400e-06, det_dist = 14.0e-03, ap_x = 40e-06, ap_y= 40e-06,wl = 7.29e-11):\n",
    "\n",
    "    xx_span = fs_size * pixelsize_x\n",
    "    yy_span = ss_size * pixelsize_y \n",
    "    x_span_obj =  ap_x / focus_x * defocus \n",
    "    y_span_obj =  ap_y / focus_y * defocus\n",
    "    print(x_span_obj,y_span_obj)\n",
    "    sintheta_x = (ap_x/2)/np.sqrt((ap_x/2)**2+focus_x**2)\n",
    "    sintheta_y = (ap_y/2)/np.sqrt((ap_y/2)**2+focus_y**2)\n",
    "    print(sintheta_x,sintheta_y)\n",
    "    n_x = int(pow(2, np.ceil(np.log(np.maximum(x_span_obj,ap_x) / wl * 2* sintheta_x)/np.log(2))))\n",
    "    #n_x = int(np.maximum(x_span_obj,ap_x) / wl * 2* sintheta_x)\n",
    "    n_y = int(pow(2, np.ceil(np.log(np.maximum(y_span_obj,ap_y) / wl * 2* sintheta_y)/np.log(2))))\n",
    "    #n_y = int(np.maximum(y_span_obj,ap_y) / wl * 2* sintheta_y)\n",
    "    n_xx = int(pow(2, np.ceil(np.log(np.maximum(xx_span,x_span_obj) / wl * 2* sintheta_x)/np.log(2))))\n",
    "    #n_xx = int(np.maximum(xx_span,x_span_obj) / wl * 2* sintheta_x)\n",
    "    n_yy = int(pow(2, np.ceil(np.log(np.maximum(yy_span,y_span_obj) / wl * 2* sintheta_y)/np.log(2))))\n",
    "    #n_yy = int(np.maximum(yy_span,y_span_obj) / wl * 2* sintheta_y)\n",
    "    print(n_x,n_y)\n",
    "    #nx_arr = np.arange(-n_x//2,n_x//2)\n",
    "    #ny_arr = np.arange(-n_y//2,n_y//2)\n",
    "    #ndecx_arr = np.arange(-n_x//2, n_x//2)\n",
    "    #ndecy_arr = np.arange(-n_y//2, n_y//2)\n",
    "    \n",
    "    delta_xlen = ap_x / n_x\n",
    "    delta_ylen = ap_y / n_y\n",
    "    delta_xobj = x_span_obj/n_x\n",
    "    delta_yobj = y_span_obj/n_y\n",
    "    delta_xdet = xx_span/n_x\n",
    "    delta_ydet = yy_span/n_y\n",
    "    \n",
    "    return delta_xlen,delta_ylen,delta_xobj,delta_yobj,delta_xdet,delta_ydet,n_x,n_y,n_xx,n_yy"
   ]
  },
  {
   "cell_type": "code",
   "execution_count": 344,
   "metadata": {},
   "outputs": [],
   "source": [
    "def wf_ini1d(corordinate,wavenumber,alpha,focus):\n",
    "    u0 = np.exp(1.j*wavenumber/2/focus*corordinate**2 + 1e9j*alpha*(corordinate/focus)**3)\n",
    "    return u0"
   ]
  },
  {
   "cell_type": "code",
   "execution_count": 345,
   "metadata": {},
   "outputs": [],
   "source": [
    "def wf_ini_noabe_1d(corordinate,wavenumber,alpha,focus):\n",
    "    u0 = np.exp(1.j*wavenumber/2/focus*corordinate**2)\n",
    "    return u0"
   ]
  },
  {
   "cell_type": "code",
   "execution_count": 346,
   "metadata": {},
   "outputs": [],
   "source": [
    "def cov_kernel1d(corordinate,delta_input,delta,wavenumber,distance,wl):\n",
    "    hn = distance/1.j/np.sqrt(wl)*delta_input*np.exp(-1.j*wavenumber*np.sqrt(((corordinate*delta)**2 + distance**2)))/((corordinate*delta)**2 + distance**2)**0.75\n",
    "    return hn"
   ]
  },
  {
   "cell_type": "code",
   "execution_count": 347,
   "metadata": {},
   "outputs": [],
   "source": [
    "def wm(corordinate,n,af = 1):\n",
    "    wm = np.exp(1.j*np.pi*corordinate**2*af/n)\n",
    "    return wm\n",
    "\n",
    "def hm(corordinate,n,af = 1):\n",
    "    hm = np.exp(-1.j*np.pi*corordinate**2*af/n)\n",
    "    return hm"
   ]
  },
  {
   "cell_type": "code",
   "execution_count": 348,
   "metadata": {},
   "outputs": [],
   "source": [
    "with open('configure_simtry.yml','r') as conf_para:\n",
    "    conf_para = yaml.load(conf_para,Loader=yaml.FullLoader)\n",
    "#print(conf_para)"
   ]
  },
  {
   "cell_type": "code",
   "execution_count": 349,
   "metadata": {},
   "outputs": [
    {
     "output_type": "stream",
     "name": "stdout",
     "text": [
      "5.5e-05\n"
     ]
    }
   ],
   "source": [
    "alpha_x = conf_para['Lens']['alpha_x']\n",
    "alpha_y = conf_para['Lens']['alpha_y']\n",
    "focus_x = conf_para['Lens']['focus_x']\n",
    "focus_y = conf_para['Lens']['focus_y']\n",
    "\n",
    "det_dist = conf_para['Exp_geom']['det_dist']\n",
    "defocus = conf_para['Exp_geom']['defocus']\n",
    "ap_x = conf_para['Lens']['ap_x']\n",
    "ap_y = conf_para['Lens']['ap_y']\n",
    "\n",
    "ss_size = conf_para['Detector']['ss_size']\n",
    "fs_size = conf_para['Detector']['fs_size']\n",
    "\n",
    "pixelsize_x = conf_para['Detector']['pixelsize_x']\n",
    "pixelsize_y = conf_para['Detector']['pixelsize_y']\n",
    "wl = conf_para['Source']['wl']\n",
    "#wl = 7.29e-10\n",
    "k = 2*np.pi/wl\n",
    "print(pixelsize_x)"
   ]
  },
  {
   "cell_type": "code",
   "execution_count": 351,
   "metadata": {},
   "outputs": [
    {
     "output_type": "stream",
     "name": "stdout",
     "text": [
      "0.00013333333333333337 0.00016\n0.016664352333993337 0.01999600119960014\n8192 16384\n32768 32768\n"
     ]
    }
   ],
   "source": [
    "delta_xlen,delta_ylen,delta_xobj,delta_yobj,delta_xdet,delta_ydet,n_x,n_y,n_xx,n_yy = sample_coordinate(pixelsize_x = pixelsize_x,pixelsize_y = pixelsize_y,fs_size = fs_size,ss_size = ss_size,focus_x = focus_x,focus_y = focus_y,defocus = defocus, det_dist = det_dist, ap_x = ap_x, ap_y= ap_y,wl = wl)\n",
    "print(n_xx,n_yy)"
   ]
  },
  {
   "source": [
    "### Scale factor"
   ],
   "cell_type": "markdown",
   "metadata": {}
  },
  {
   "cell_type": "code",
   "execution_count": 352,
   "metadata": {},
   "outputs": [
    {
     "output_type": "stream",
     "name": "stdout",
     "text": [
      "1.627604166666667e-08\n0.29999999999999993 1.0\n16384 4096\n"
     ]
    }
   ],
   "source": [
    "deltax = np.maximum(delta_xlen,delta_xobj)\n",
    "print(deltax)\n",
    "scale_factor_lenx = delta_xlen/deltax\n",
    "scale_factor_objx = delta_xobj/deltax\n",
    "print(scale_factor_lenx,scale_factor_objx)\n",
    "#M_x = int(n_x * (1 + np.minimum(scale_factor_lenx,scale_factor_objx)))\n",
    "M_x = int(pow(2, np.ceil(np.log(n_x * (1 + np.minimum(scale_factor_lenx,scale_factor_objx)))/np.log(2))))\n",
    "print(M_x,(M_x-n_x)//2)"
   ]
  },
  {
   "source": [
    "M_x_arr = np.arange(-(M_x),(M_x))\n",
    "x_len_arr = M_x_arr * delta_xlen\n",
    "#u0_x = wf_ini_noabe_1d(x_len_arr,wavenumber = k,alpha = alpha_x,focus=focus_x)\n",
    "u0_x = wf_ini1d(x_len_arr,wavenumber = k,alpha = alpha_x,focus=focus_x)\n",
    "u0_x[np.abs(x_len_arr)>ap_x/2]=0\n",
    "#u0_xnew = np.pad(u0_x,((M_x-n_x)//2,(M_x-n_x)//2),'constant',constant_values= (0,0))\n",
    "%matplotlib widget\n",
    "plt.plot(x_len_arr,np.abs(u0_x))\n",
    "#plt.plot(x_len_arr,np.unwrap(np.angle(u0_x)))\n",
    "print(n_x,u0_x.shape)"
   ],
   "cell_type": "code",
   "metadata": {},
   "execution_count": 356,
   "outputs": [
    {
     "output_type": "display_data",
     "data": {
      "text/plain": "Canvas(toolbar=Toolbar(toolitems=[('Home', 'Reset original view', 'home', 'home'), ('Back', 'Back to previous …",
      "application/vnd.jupyter.widget-view+json": {
       "version_major": 2,
       "version_minor": 0,
       "model_id": "e9bc32c4f729491095cee03437432875"
      }
     },
     "metadata": {}
    },
    {
     "output_type": "stream",
     "name": "stdout",
     "text": [
      "8192 (32768,)\n"
     ]
    }
   ]
  },
  {
   "cell_type": "code",
   "execution_count": 357,
   "metadata": {},
   "outputs": [
    {
     "output_type": "stream",
     "name": "stdout",
     "text": [
      "(32768,) (32768,)\n"
     ]
    },
    {
     "output_type": "display_data",
     "data": {
      "text/plain": "Canvas(toolbar=Toolbar(toolitems=[('Home', 'Reset original view', 'home', 'home'), ('Back', 'Back to previous …",
      "application/vnd.jupyter.widget-view+json": {
       "version_major": 2,
       "version_minor": 0,
       "model_id": "c86ea71a3cad4082ab9e83d6ccd9a3a7"
      }
     },
     "metadata": {}
    }
   ],
   "source": [
    "x_obj_arr = M_x_arr*delta_xobj\n",
    "#print(wl)\n",
    "hn_x = cov_kernel1d(M_x_arr,delta_input = delta_xlen,delta=deltax,wavenumber=k,wl=wl,distance = (focus_x+defocus))\n",
    "f_M_x_arr = np.fft.fftfreq(M_x*2)\n",
    "wm_x_len = wm(M_x_arr,n=M_x,af=scale_factor_lenx)\n",
    "hm_x_len = hm(M_x_arr,n=M_x,af=scale_factor_lenx)\n",
    "#%matplotlib widget\n",
    "#plt.plot(wm_x_len)\n",
    "wm_x_obj = wm(M_x_arr,n=M_x,af=scale_factor_objx)\n",
    "#print(wm_x_len.shape)\n",
    "u0_xf = np.fft.fftshift(np.fft.fft(u0_x)/M_x)\n",
    "hn_xf = np.fft.fftshift(np.fft.fft(hn_x)/M_x)\n",
    "#print(u0_xf.shape,hn_xf.shape,wm_x_len.shape)\n",
    "gm_xf = u0_xf*hn_xf*wm_x_len\n",
    "print(wm_x_obj.shape,gm_xf.shape)\n",
    "u1_x = wm_x_obj * fftconvolve(gm_xf,hm_x_len,mode='same')\n",
    "\n",
    "#u1_try = fftconvolve(u0_xf*hn_xf,hm_x_len,mode='same')\n",
    "%matplotlib widget\n",
    "#plt.plot(nx_arr)\n",
    "#plt.plot(x_len_arr)\n",
    "#plt.plot(x_obj_arr)\n",
    "px_abs = plt.plot(x_obj_arr,u0_xf)\n",
    "#px= plt.plot(x_obj_arr,np.-unwrap(np.angle(u1_x)))"
   ]
  },
  {
   "cell_type": "code",
   "execution_count": 358,
   "metadata": {},
   "outputs": [
    {
     "output_type": "display_data",
     "data": {
      "text/plain": "Canvas(toolbar=Toolbar(toolitems=[('Home', 'Reset original view', 'home', 'home'), ('Back', 'Back to previous …",
      "application/vnd.jupyter.widget-view+json": {
       "version_major": 2,
       "version_minor": 0,
       "model_id": "8ab8e93122eb4090946daa6716e85c14"
      }
     },
     "metadata": {}
    }
   ],
   "source": [
    "%matplotlib widget\n",
    "fig, axes = plt.subplots(1, 2, figsize=(12, 4))\n",
    "#axes[0].plot(np.abs(u1_x[500:2200]))\n",
    "axes[0].plot(x_obj_arr,np.abs(u1_x))\n",
    "axes[0].set_title('Lens_x Amplitude', fontsize=10)\n",
    "axes[0].tick_params(direction='in', length=6, width=2, colors='b',\n",
    "               grid_color='r', grid_alpha=0.5)\n",
    "axes[0].xaxis.get_major_formatter().set_powerlimits((0,1))\n",
    "#axes[0].set_xticklabels(x_obj_arr,fontsize = 8)\n",
    "#axes[1].plot(np.unwrap(np.imag(u1_x[500:2200])))\n",
    "axes[1].plot(x_obj_arr,-np.unwrap(np.angle(u1_x)))\n",
    "axes[1].set_title('Lens_x Phase', fontsize=10)\n",
    "axes[1].tick_params(direction='in', length=6, width=2, colors='b',\n",
    "               grid_color='r', grid_alpha=0.5)\n",
    "axes[1].xaxis.get_major_formatter().set_powerlimits((0,1))\n"
   ]
  },
  {
   "cell_type": "code",
   "execution_count": null,
   "metadata": {},
   "outputs": [],
   "source": [
    "print(u1_x.shape,u1_y.shape)"
   ]
  },
  {
   "cell_type": "code",
   "execution_count": 363,
   "metadata": {},
   "outputs": [
    {
     "output_type": "stream",
     "name": "stdout",
     "text": [
      "32768\n"
     ]
    }
   ],
   "source": [
    "deltay = np.maximum(delta_ylen,delta_yobj)\n",
    "scale_factor_leny = delta_ylen/deltay\n",
    "scale_factor_objy = delta_yobj/deltay\n",
    "#M_y = int(n_y * (1 + np.minimum(scale_factor_leny,scale_factor_objy)))\n",
    "M_y = int(pow(2, np.ceil(np.log(n_y * (1 + np.minimum(scale_factor_leny,scale_factor_objy)))/np.log(2))))\n",
    "print(M_y)"
   ]
  },
  {
   "cell_type": "code",
   "execution_count": 364,
   "metadata": {},
   "outputs": [
    {
     "output_type": "display_data",
     "data": {
      "text/plain": "Canvas(toolbar=Toolbar(toolitems=[('Home', 'Reset original view', 'home', 'home'), ('Back', 'Back to previous …",
      "application/vnd.jupyter.widget-view+json": {
       "version_major": 2,
       "version_minor": 0,
       "model_id": "512f2d72ae8f4f898aba53c59090ad53"
      }
     },
     "metadata": {}
    },
    {
     "output_type": "stream",
     "name": "stdout",
     "text": [
      "16384 (65536,)\n"
     ]
    }
   ],
   "source": [
    "M_y_arr = np.arange(-M_y,M_y)\n",
    "y_len_arr = M_y_arr * delta_ylen\n",
    "f_M_y_arr = np.fft.fftfreq(M_y*2)\n",
    "#u0_y = wf_ini_noabe_1d(y_len_arr,wavenumber = k,alpha = alpha_y,focus=focus_y)\n",
    "u0_y = wf_ini1d(y_len_arr,wavenumber = k,alpha = alpha_y,focus=focus_y)\n",
    "u0_y[np.abs(y_len_arr)>ap_y/2]=0\n",
    "#u0_xnew = np.pad(u0_x,((M_x-n_x)//2,(M_x-n_x)//2),'constant',constant_values= (0,0))\n",
    "%matplotlib widget\n",
    "plt.plot(y_len_arr,np.abs(u0_y))\n",
    "#plt.plot(x_len_arr,np.unwrap(np.angle(u0_x)))\n",
    "print(n_y,u0_y.shape)"
   ]
  },
  {
   "cell_type": "code",
   "execution_count": 365,
   "metadata": {},
   "outputs": [
    {
     "output_type": "stream",
     "name": "stdout",
     "text": [
      "(65536,) (65536,)\n"
     ]
    },
    {
     "output_type": "display_data",
     "data": {
      "text/plain": "Canvas(toolbar=Toolbar(toolitems=[('Home', 'Reset original view', 'home', 'home'), ('Back', 'Back to previous …",
      "application/vnd.jupyter.widget-view+json": {
       "version_major": 2,
       "version_minor": 0,
       "model_id": "dbe17b8ccd024e9eba086ad640d22946"
      }
     },
     "metadata": {}
    },
    {
     "output_type": "execute_result",
     "data": {
      "text/plain": [
       "[<matplotlib.lines.Line2D at 0x7fa01d961f10>]"
      ]
     },
     "metadata": {},
     "execution_count": 365
    }
   ],
   "source": [
    "y_obj_arr = M_y_arr*delta_yobj\n",
    "#print(wl)\n",
    "hn_y = cov_kernel1d(M_y_arr,delta_input = delta_ylen,delta=deltay,wavenumber=k,wl=wl,distance = (focus_y+defocus))\n",
    "\n",
    "wm_y_len = wm(M_y_arr,n=M_y,af=scale_factor_leny)\n",
    "hm_y_len = hm(M_y_arr,n=M_y,af=scale_factor_leny)\n",
    "#%matplotlib widget\n",
    "#plt.plot(wm_x_len)\n",
    "wm_y_obj = wm(M_y_arr,n=M_y,af=scale_factor_objy)\n",
    "#print(wm_x_len.shape)\n",
    "u0_yf = np.fft.fftshift(np.fft.fft(u0_y)/M_y)\n",
    "hn_yf = np.fft.fftshift(np.fft.fft(hn_y)/M_y)\n",
    "#print(u0_xf.shape,hn_xf.shape,wm_x_len.shape)\n",
    "gm_yf = u0_yf*hn_yf*wm_y_len\n",
    "print(wm_y_obj.shape,gm_yf.shape)\n",
    "u1_y = wm_y_obj * fftconvolve(gm_yf,hm_y_len,mode='same')\n",
    "\n",
    "#u1_try = fftconvolve(u0_xf*hn_xf,hm_x_len,mode='same')\n",
    "%matplotlib widget\n",
    "#plt.plot(nx_arr)\n",
    "#plt.plot(x_len_arr)\n",
    "#plt.plot(x_obj_arr)\n",
    "plt.plot(y_obj_arr,u0_yf)"
   ]
  },
  {
   "cell_type": "code",
   "execution_count": 366,
   "metadata": {},
   "outputs": [
    {
     "output_type": "display_data",
     "data": {
      "text/plain": "Canvas(toolbar=Toolbar(toolitems=[('Home', 'Reset original view', 'home', 'home'), ('Back', 'Back to previous …",
      "application/vnd.jupyter.widget-view+json": {
       "version_major": 2,
       "version_minor": 0,
       "model_id": "9c5cbd9f9a184b3a82c3e94bd15464fe"
      }
     },
     "metadata": {}
    }
   ],
   "source": [
    "%matplotlib widget\n",
    "fig, axes = plt.subplots(1, 2, figsize=(12, 4))\n",
    "p1 = axes[0].plot(y_obj_arr,np.abs(u1_y))\n",
    "axes[0].set_title('Lens_y Amplitude', fontsize=14)\n",
    "axes[0].tick_params(direction='in', length=6, width=2, colors='b',\n",
    "               grid_color='r', grid_alpha=0.5)\n",
    "axes[0].xaxis.get_major_formatter().set_powerlimits((0,1))\n",
    "\n",
    "p2 = axes[1].plot(y_obj_arr,-np.unwrap(np.angle(u1_y)))\n",
    "axes[1].set_title('Lens_y Phase', fontsize=14)\n",
    "axes[1].tick_params(direction='in', length=6, width=2, colors='b',\n",
    "               grid_color='r', grid_alpha=0.5)\n",
    "axes[1].xaxis.get_major_formatter().set_powerlimits((0,1))"
   ]
  },
  {
   "cell_type": "code",
   "execution_count": 367,
   "metadata": {},
   "outputs": [
    {
     "output_type": "stream",
     "name": "stdout",
     "text": [
      "0.29999999999999993 1.0\n0.25 1.0\n(32768,) (65536,)\n"
     ]
    }
   ],
   "source": [
    "print(scale_factor_lenx,scale_factor_objx)\n",
    "print(scale_factor_leny,scale_factor_objy)\n",
    "print(u1_x.shape,u1_y.shape)"
   ]
  },
  {
   "cell_type": "code",
   "execution_count": 299,
   "metadata": {},
   "outputs": [
    {
     "output_type": "stream",
     "name": "stdout",
     "text": [
      "4096\n"
     ]
    }
   ],
   "source": [
    "print(n_xx)"
   ]
  },
  {
   "cell_type": "code",
   "execution_count": 370,
   "metadata": {},
   "outputs": [],
   "source": [
    "u1_ytry = u1_y\n",
    "u1_x = np.reshape(u1_x,(1,len(u1_x)))\n",
    "u1_y = np.reshape(u1_y,(len(u1_y),1))\n",
    "#print(u1_y.shape)"
   ]
  },
  {
   "cell_type": "code",
   "execution_count": 371,
   "metadata": {},
   "outputs": [
    {
     "output_type": "stream",
     "name": "stdout",
     "text": [
      "(65536, 32768)\n"
     ]
    }
   ],
   "source": [
    "u1 = u1_x * u1_y\n",
    "print(u1.shape)"
   ]
  },
  {
   "cell_type": "code",
   "execution_count": 369,
   "metadata": {},
   "outputs": [
    {
     "output_type": "display_data",
     "data": {
      "text/plain": "Canvas(toolbar=Toolbar(toolitems=[('Home', 'Reset original view', 'home', 'home'), ('Back', 'Back to previous …",
      "application/vnd.jupyter.widget-view+json": {
       "version_major": 2,
       "version_minor": 0,
       "model_id": "908f84eaf6a340c08c194dd615c2a309"
      }
     },
     "metadata": {}
    }
   ],
   "source": [
    "%matplotlib widget\n",
    "fig, axes = plt.subplots(1, 2, figsize=(12, 4))\n",
    "x_min = np.min(x_obj_arr)\n",
    "x_max = np.max(x_obj_arr)\n",
    "y_min = np.min(y_obj_arr)\n",
    "y_max = np.max(y_obj_arr)\n",
    "p1 = axes[0].imshow(np.abs(u1),extent = [x_min,x_max,y_min,y_max])\n",
    "axes[0].set_title('Lens Amplitude at defocus plane', fontsize=10)\n",
    "\n",
    "\n",
    "p2 = axes[1].imshow(-np.unwrap(np.angle(u1)),extent = [x_min,x_max,y_min,y_max])\n",
    "axes[1].set_title('Lens Phase at defocus plane', fontsize=10)\n",
    "\n",
    "plt.colorbar(p1,ax = axes[0])\n",
    "plt.colorbar(p2,ax = axes[1])\n",
    "\n",
    "plt.savefig('Lens_1D.png')"
   ]
  },
  {
   "cell_type": "code",
   "execution_count": null,
   "metadata": {},
   "outputs": [],
   "source": []
  },
  {
   "cell_type": "code",
   "execution_count": 303,
   "metadata": {},
   "outputs": [
    {
     "output_type": "display_data",
     "data": {
      "text/plain": "Canvas(toolbar=Toolbar(toolitems=[('Home', 'Reset original view', 'home', 'home'), ('Back', 'Back to previous …",
      "application/vnd.jupyter.widget-view+json": {
       "version_major": 2,
       "version_minor": 0,
       "model_id": "d9c32e0f84e94482bb8a23af7069e835"
      }
     },
     "metadata": {}
    },
    {
     "output_type": "execute_result",
     "data": {
      "text/plain": [
       "[<matplotlib.lines.Line2D at 0x7fa42bc33290>]"
      ]
     },
     "metadata": {},
     "execution_count": 303
    }
   ],
   "source": [
    "%matplotlib widget\n",
    "plt.plot(-np.unwrap(np.angle(u1[:,1])))\n",
    "#plt.plot(-np.unwrap(np.angle(u1[10000])))"
   ]
  },
  {
   "cell_type": "code",
   "execution_count": 304,
   "metadata": {},
   "outputs": [
    {
     "output_type": "stream",
     "name": "stdout",
     "text": [
      "(4096, 4096)\n"
     ]
    }
   ],
   "source": [
    "u1_trans = np.pad(u1,(np.abs(n_yy - u1.shape[0])//2,np.abs(n_xx-u1.shape[1])//2),'constant',constant_values= (0,0))\n",
    "print(u1_trans.shape)"
   ]
  },
  {
   "cell_type": "code",
   "execution_count": 305,
   "metadata": {},
   "outputs": [],
   "source": [
    "img = cv2.imread('arrow4.png',0)\n",
    "#%matplotlib widget\n",
    "#plt.imshow(img)\n",
    "#img2 = cv2.resize(img,(2*M_x,2*M_y))\n",
    "#img2 = cv2.resize(img,(u1_trans.shape[1],u1_trans.shape[0]))\n",
    "img2 = cv2.resize(img,(u1.shape[1],u1.shape[0]))\n",
    "%matplotlib widget\n",
    "#plt.imshow(img2)"
   ]
  },
  {
   "cell_type": "code",
   "execution_count": 306,
   "metadata": {},
   "outputs": [
    {
     "output_type": "stream",
     "name": "stdout",
     "text": [
      "(4096, 4096)\n"
     ]
    }
   ],
   "source": [
    "print(img2.shape)"
   ]
  },
  {
   "cell_type": "code",
   "execution_count": 307,
   "metadata": {},
   "outputs": [],
   "source": [
    "#u_input = u1_trans * img2\n",
    "u_input = u1 * img2"
   ]
  },
  {
   "cell_type": "code",
   "execution_count": 308,
   "metadata": {},
   "outputs": [
    {
     "output_type": "display_data",
     "data": {
      "text/plain": "Canvas(toolbar=Toolbar(toolitems=[('Home', 'Reset original view', 'home', 'home'), ('Back', 'Back to previous …",
      "application/vnd.jupyter.widget-view+json": {
       "version_major": 2,
       "version_minor": 0,
       "model_id": "097cfd37a11849b384338d7cc59f453c"
      }
     },
     "metadata": {}
    }
   ],
   "source": [
    "%matplotlib widget\n",
    "fig, axes = plt.subplots(1, 2, figsize=(12, 4))\n",
    "p3 = axes[0].imshow(np.abs(u_input),extent = [x_min,x_max,y_min,y_max])\n",
    "axes[0].set_title('Amplitude with Arrow', fontsize=14)\n",
    "p4 = axes[1].imshow(np.unwrap(np.angle(u_input)),extent = [x_min,x_max,y_min,y_max])\n",
    "axes[1].set_title('Phase with Arrow', fontsize=14)\n",
    "plt.colorbar(p3,ax = axes[0])\n",
    "plt.colorbar(p4,ax = axes[1])\n",
    "plt.savefig('defocus_2D.png')"
   ]
  },
  {
   "source": [
    "### construct the 2D object\n"
   ],
   "cell_type": "markdown",
   "metadata": {}
  },
  {
   "source": [
    "### The propagate image on the detector plane"
   ],
   "cell_type": "markdown",
   "metadata": {}
  },
  {
   "cell_type": "code",
   "execution_count": 309,
   "metadata": {},
   "outputs": [],
   "source": [
    "def cov_kernel2d(corordinatex,corordinatey,delta_inputx,delta_inputy,deltax,deltay,wavenumber,distance,wl=7.29e-11):\n",
    "    hn = distance/1.j/np.sqrt(wl)*delta_inputx*delta_inputy*np.exp(-1.j*wavenumber*np.sqrt((corordinatex*deltax)**2 +(corordinatey*deltay)**2+distance**2))/((corordinatex*deltax)**2 +(corordinatey*deltay)**2+distance**2)**0.75\n",
    "    return hn"
   ]
  },
  {
   "cell_type": "code",
   "execution_count": 310,
   "metadata": {},
   "outputs": [
    {
     "output_type": "stream",
     "name": "stdout",
     "text": [
      "0.24242424242424246 1.0\n0.2909090909090909 1.0\n8192 8192\n"
     ]
    }
   ],
   "source": [
    "deltax = np.maximum(delta_xobj,delta_xdet)\n",
    "deltay = np.maximum(delta_yobj,delta_ydet)\n",
    "scale_factor_objx = delta_xobj/deltax\n",
    "scale_factor_objy = delta_yobj/deltay\n",
    "scale_factor_detx = delta_xdet/deltax\n",
    "scale_factor_dety = delta_ydet/deltay\n",
    "print(scale_factor_objx,scale_factor_detx)\n",
    "print(scale_factor_objy,scale_factor_dety)\n",
    "M_x_new = int(pow(2, np.ceil(np.log(n_xx * (1 + np.minimum(scale_factor_objx,scale_factor_detx)))/np.log(2))))\n",
    "M_y_new = int(pow(2, np.ceil(np.log(n_yy * (1 + np.minimum(scale_factor_objy,scale_factor_dety)))/np.log(2))))\n",
    "#M_x_new = int(n_xx * (1 + np.minimum(scale_factor_objx,scale_factor_detx)))\n",
    "#M_y_new = int(n_yy * (1 + np.minimum(scale_factor_objy,scale_factor_dety)))\n",
    "print(M_x_new,M_y_new)"
   ]
  },
  {
   "cell_type": "code",
   "execution_count": 322,
   "metadata": {},
   "outputs": [
    {
     "output_type": "stream",
     "name": "stdout",
     "text": [
      "(4096, 4096)\n(8192, 8192)\n"
     ]
    }
   ],
   "source": [
    "u1_new = np.pad(u_input,((M_y_new//4),(M_x_new//4)),'constant',constant_values= (0,0))\n",
    "print(u_input.shape)\n",
    "print(u1_new.shape)"
   ]
  },
  {
   "cell_type": "code",
   "execution_count": 323,
   "metadata": {},
   "outputs": [
    {
     "output_type": "display_data",
     "data": {
      "text/plain": "Canvas(toolbar=Toolbar(toolitems=[('Home', 'Reset original view', 'home', 'home'), ('Back', 'Back to previous …",
      "application/vnd.jupyter.widget-view+json": {
       "version_major": 2,
       "version_minor": 0,
       "model_id": "3eb3f78f092c4b82ad62e15648e6cbdd"
      }
     },
     "metadata": {}
    },
    {
     "output_type": "execute_result",
     "data": {
      "text/plain": [
       "<matplotlib.image.AxesImage at 0x7faf6861e190>"
      ]
     },
     "metadata": {},
     "execution_count": 323
    }
   ],
   "source": [
    "%matplotlib widget\n",
    "plt.imshow(np.abs(u1_new))"
   ]
  },
  {
   "cell_type": "code",
   "execution_count": 324,
   "metadata": {},
   "outputs": [
    {
     "output_type": "stream",
     "name": "stdout",
     "text": [
      "(1, 8192) (8192, 1)\n"
     ]
    }
   ],
   "source": [
    "M_xnew_arr = np.arange(-u1_new.shape[1]//2,u1_new.shape[1]//2)\n",
    "M_ynew_arr = np.arange(-u1_new.shape[0]//2,u1_new.shape[0]//2)\n",
    "x_len_arr_new = np.reshape(M_xnew_arr,(1,len(M_xnew_arr)))\n",
    "y_len_arr_new = np.reshape(M_ynew_arr,(len(M_ynew_arr),1))\n",
    "#len_arr = x_len_arr_new*deltax*y_len_arr_new*deltay\n",
    "print(x_len_arr_new.shape,y_len_arr_new.shape)"
   ]
  },
  {
   "cell_type": "code",
   "execution_count": 325,
   "metadata": {},
   "outputs": [],
   "source": [
    "def wm2d(corordinatex,corordinatey,nx,ny,afx = 1,afy = 1):\n",
    "    wm2d = np.exp(1.j*np.pi/nx*corordinatex**2*afx)*np.exp(1.j*np.pi/ny*corordinatey**2*afy)\n",
    "    return wm2d\n",
    "\n",
    "def hm2d(corordinatex,corordinatey,nx,ny,afx = 1,afy = 1):\n",
    "    hm2d = np.exp(-1.j*np.pi/nx*corordinatex**2*afx)*np.exp(-1.j*np.pi/ny*corordinatey**2*afy)\n",
    "    return hm2d"
   ]
  },
  {
   "cell_type": "code",
   "execution_count": 326,
   "metadata": {},
   "outputs": [
    {
     "output_type": "stream",
     "name": "stdout",
     "text": [
      "8192\n"
     ]
    }
   ],
   "source": [
    "M_y_2d,M_x_2d = u1_new.shape\n",
    "print(M_x_2d)"
   ]
  },
  {
   "cell_type": "code",
   "execution_count": 327,
   "metadata": {},
   "outputs": [],
   "source": [
    "hn_det = cov_kernel2d(x_len_arr_new,y_len_arr_new,delta_xobj,delta_yobj,deltax,deltay,wavenumber=k,wl=wl,distance = det_dist)\n",
    "#f_x_lenarr_new = np.reshape(np.fft.fftfreq(M_x_2d),(1,len(M_xnew_arr)))\n",
    "#f_y_lenarr_new = np.reshape(np.fft.fftfreq(M_y_2d),(len(M_ynew_arr),1))\n",
    "wm_obj = wm2d(x_len_arr_new,y_len_arr_new,nx = M_x_2d,ny = M_y_2d,afx = scale_factor_objx,afy = scale_factor_objy)\n",
    "hn_obj = hm2d(x_len_arr_new,y_len_arr_new,nx = M_x_2d,ny = M_y_2d,afx = scale_factor_objx,afy = scale_factor_objy)\n",
    "wm_det = wm2d(x_len_arr_new,y_len_arr_new,nx = M_x_2d,ny = M_y_2d,afx = scale_factor_detx,afy = scale_factor_dety)"
   ]
  },
  {
   "cell_type": "code",
   "execution_count": 328,
   "metadata": {},
   "outputs": [],
   "source": [
    "#u1ff = np.fft.fft2(u1_new)\n",
    "#u1f = np.fft.fftshift(np.fft.fft2(u1_new))\n",
    "u1f = np.fft.fftshift(np.fft.fft2(u1_new)/len(M_xnew_arr)/len(M_ynew_arr))\n",
    "hn_detf = np.fft.fftshift(np.fft.fft2(hn_det)/len(M_xnew_arr)/len(M_ynew_arr))\n",
    "#hn_detf = np.fft.fftshift(np.fft.fft2(hn_det))\n",
    "gm_det = u1f*hn_detf*wm_obj\n",
    "#print(wm_obj.shape)"
   ]
  },
  {
   "cell_type": "code",
   "execution_count": 341,
   "metadata": {},
   "outputs": [
    {
     "output_type": "display_data",
     "data": {
      "text/plain": "Canvas(toolbar=Toolbar(toolitems=[('Home', 'Reset original view', 'home', 'home'), ('Back', 'Back to previous …",
      "application/vnd.jupyter.widget-view+json": {
       "version_major": 2,
       "version_minor": 0,
       "model_id": "ac785415f45047e6a9f684c0d97614fe"
      }
     },
     "metadata": {}
    }
   ],
   "source": [
    "%matplotlib widget\n",
    "fig, axes = plt.subplots(1, 2, figsize=(12, 4))\n",
    "p7 = axes[0].imshow(np.abs(hn_det))\n",
    "axes[0].set_title('Kernel Amplitude', fontsize=14)\n",
    "p8 = axes[1].imshow(np.unwrap(np.angle(hn_det)))\n",
    "axes[1].set_title('Kernel Phase', fontsize=14)\n",
    "plt.colorbar(p7,ax = axes[0])\n",
    "plt.colorbar(p8,ax = axes[1])\n",
    "plt.savefig('Kernel2D.png')"
   ]
  },
  {
   "cell_type": "code",
   "execution_count": null,
   "metadata": {},
   "outputs": [],
   "source": []
  },
  {
   "cell_type": "code",
   "execution_count": 330,
   "metadata": {},
   "outputs": [
    {
     "output_type": "display_data",
     "data": {
      "text/plain": "Canvas(toolbar=Toolbar(toolitems=[('Home', 'Reset original view', 'home', 'home'), ('Back', 'Back to previous …",
      "application/vnd.jupyter.widget-view+json": {
       "version_major": 2,
       "version_minor": 0,
       "model_id": "21747ede1cd94050b2b48b2735d600a0"
      }
     },
     "metadata": {}
    }
   ],
   "source": [
    "%matplotlib widget\n",
    "p1 = plt.imshow(np.abs(gm_det))\n",
    "plt.colorbar(p1)\n",
    "plt.savefig('Kernel_2d_%s.png' % (det_dist))"
   ]
  },
  {
   "cell_type": "code",
   "execution_count": 333,
   "metadata": {},
   "outputs": [
    {
     "output_type": "stream",
     "name": "stdout",
     "text": [
      "(8192, 8192) (8192, 8192) (8192, 8192)\n"
     ]
    }
   ],
   "source": [
    "print(gm_det.shape,hn_obj.shape,wm_det.shape)\n",
    "#u1_y = wm_obj * fftconvolve(gm_det,hn_obj,mode='same')\n",
    "u1_y = wm_det * fftconvolve(gm_det,hn_obj,mode='same')"
   ]
  },
  {
   "cell_type": "code",
   "execution_count": 334,
   "metadata": {},
   "outputs": [
    {
     "output_type": "display_data",
     "data": {
      "text/plain": "Canvas(toolbar=Toolbar(toolitems=[('Home', 'Reset original view', 'home', 'home'), ('Back', 'Back to previous …",
      "application/vnd.jupyter.widget-view+json": {
       "version_major": 2,
       "version_minor": 0,
       "model_id": "fa8b38ed4d22428094a44c41e59d6407"
      }
     },
     "metadata": {}
    }
   ],
   "source": [
    "%matplotlib widget\n",
    "fig, axes = plt.subplots(1, 2, figsize=(12, 4))\n",
    "p1 = axes[0].imshow(np.abs(u1_y))\n",
    "axes[0].set_title('Amplitude on detector plane', fontsize=14)\n",
    "p2 = axes[1].imshow(-np.unwrap(np.angle(u1_y)))\n",
    "axes[1].set_title('Phase on detector plane', fontsize=14)\n",
    "plt.colorbar(p1,ax = axes[0])\n",
    "plt.colorbar(p2,ax = axes[1])\n",
    "plt.savefig('Lens_propagate2_%s.png'%(det_dist))\n"
   ]
  },
  {
   "cell_type": "code",
   "execution_count": null,
   "metadata": {},
   "outputs": [],
   "source": []
  },
  {
   "cell_type": "code",
   "execution_count": null,
   "metadata": {},
   "outputs": [],
   "source": []
  }
 ]
}