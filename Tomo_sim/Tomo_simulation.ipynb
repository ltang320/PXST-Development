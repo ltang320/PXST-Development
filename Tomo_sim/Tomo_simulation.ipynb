{
 "metadata": {
  "language_info": {
   "codemirror_mode": {
    "name": "ipython",
    "version": 3
   },
   "file_extension": ".py",
   "mimetype": "text/x-python",
   "name": "python",
   "nbconvert_exporter": "python",
   "pygments_lexer": "ipython3",
   "version": "3.7.8-final"
  },
  "orig_nbformat": 2,
  "kernelspec": {
   "name": "python3",
   "display_name": "Python 3.7.8 64-bit ('pxst': conda)",
   "metadata": {
    "interpreter": {
     "hash": "0084841a13328c9eef538dd13576d2475400ffb95eceba789da697f66e398325"
    }
   }
  }
 },
 "nbformat": 4,
 "nbformat_minor": 2,
 "cells": [
  {
   "cell_type": "code",
   "execution_count": 23,
   "metadata": {},
   "outputs": [],
   "source": [
    "import os,sys\n",
    "import numpy as np\n",
    "import yaml\n",
    "import scipy.integrate as integrate\n",
    "import matplotlib.pyplot as plt \n",
    "import math\n"
   ]
  },
  {
   "source": [
    "## Source Matrix"
   ],
   "cell_type": "markdown",
   "metadata": {}
  },
  {
   "source": [
    "### Parameters"
   ],
   "cell_type": "markdown",
   "metadata": {}
  },
  {
   "cell_type": "code",
   "execution_count": 18,
   "metadata": {},
   "outputs": [],
   "source": [
    "with open('configure.yml','r') as conf_para:\n",
    "    conf_para = yaml.load(conf_para,Loader=yaml.FullLoader)"
   ]
  },
  {
   "source": [
    "### wavefront_initialize"
   ],
   "cell_type": "markdown",
   "metadata": {}
  },
  {
   "cell_type": "code",
   "execution_count": 7,
   "metadata": {},
   "outputs": [],
   "source": [
    "def wavefront_initialize(pixelsize_x = 55e-06,pixelsize_y=55e-06,fs_size = 2000,ss_size = 20000,focus_x = 1.2e-3,focus_y = 1.0e-3,defocus = 400e-6, det_dist = 14e-03, ap_x = 40e-06, ap_y= 40e-6,wl = 7.29e-11,amplitude_value=0.0):\n",
    "    \n",
    "    wf_dec = np.zeros((ss_size,fs_size),dtype='complex')\n",
    "    wf_dec += amplitude_value \n",
    "    \n",
    "    # the range of detector plane(x-axis,y-axis)\n",
    "    xx_span = fs_size * pixelsize_x\n",
    "    yy_span = ss_size * pixelsize_y\n",
    "    \n",
    "    # the range of object plane(x-axis,y-axis)\n",
    "    x_span = 1.6 * ap_x / focus_x * defocus\n",
    "    y_span = 1.6 * ap_y / focus_y * defocus\n",
    "    # the sample rate in the object plane\n",
    "    n_x = int(x_span * xx_span / wl / det_dist)\n",
    "    n_y = int(y_span * yy_span / wl / det_dist)\n",
    "\n",
    "    # Initializing coordinate arrays\n",
    "    # coordinate in object plane\n",
    "    x_arr = np.linspace(-x_span / 2, x_span / 2, n_x)\n",
    "    y_arr = np.linspace(-y_span / 2, y_span / 2, n_y)\n",
    "    \n",
    "    # coordinate in detector plan\n",
    "    xx_arr = np.linspace(-xx_span / 2, xx_span / 2, fs_size, endpoint=False)\n",
    "    yy_arr = np.linspace(-yy_span / 2, yy_span / 2, ss_size, endpoint=False)\n",
    "\n",
    "    return x_arr,y_arr,xx_arr,yy_arr,wf_dec"
   ]
  },
  {
   "cell_type": "code",
   "execution_count": null,
   "metadata": {},
   "outputs": [],
   "source": [
    "# fresnel number : fn(ap,wl,det_dist)\n",
    "# ap: aperture size\n",
    "# wl: wavelength (initial 16.9keV)\n",
    "# det_dist : propagation distance\n",
    "\n",
    "def fn(ap_x = 40e-6,wl = 7.29e-11,det_dist = 14e-03):\n",
    "    fnum = int(ap_x **2 / wl / det_dist)\n",
    "    return fnum\n"
   ]
  },
  {
   "source": [
    "### Lens wavefront"
   ],
   "cell_type": "markdown",
   "metadata": {}
  },
  {
   "cell_type": "code",
   "execution_count": null,
   "metadata": {},
   "outputs": [],
   "source": [
    "\n",
    "\"\"\"\n",
    "Parameters:\n",
    "------------\n",
    "r : coordinates\n",
    "f : focus of lens\n",
    "df: defocus of the object\n",
    "a : alpha, Third order abberations coefficient [rad/mrad^3]\n",
    "cen_ab : center point of the lens' abberations \n",
    "\"\"\"\n",
    "def lens_wf(x_arr, y_arr, wf_dec,ap_x = 40e-06,ap_y = 40e-06, focus_x = 1.2e-3, focus_y=1.0e-3, x_abcen = 0.5, y_abcen = 0.5, alpha_x = -0.05, alpha_y = -0.05, wl = 7.29e-11,defocus =400e-06):\n",
    "    xx_arr = x_arr.copy()\n",
    "    yy_arr = y_arr.copy()\n",
    "\n",
    "    wf_lens = np.array(np.meshgrid(y_arr,x_arr))\n",
    "    wf_obj = np.array(np.meshgrid(yy_arr,def main()\n",
    "        x_arr,y_arr,xx_arr,yy_arr,wf_dec = wavefront_initialize()\n",
    "            wavefront_lens = np.zeros((len(y_arr),len(x_arr)),dtype = 'complex')))\n",
    "    wavefront_lens = np.zeros_like(wf_dec,dtype='complex')\n",
    "   \n",
    "    wavenumber = 2*np.pi / wl\n",
    "\n",
    "    z_dis = focus_y + defocus \n",
    "\n",
    "    M_x = (focus_x+defocus)/focus_x\n",
    "    M_y = (focus_y+defocus)/focus_y\n",
    "    \n",
    "    A = wavenumber/1.j/2/np.pi/z_dis\n",
    "\n",
    "    ph_0 = wavenumber* 1.j / 2 / z_dis * (xx_arr**2 + yy_arr**2) + i.j*wavenumber*z_dis\n",
    "\n",
    "    ph_x = -wavenumber / 2 / M_x / focus_x * x_arr**2\n",
    "    ph_ab_x = alpha_x * 1e9 * ((x_arr - x_abcen) / focus_x) **3\n",
    "\n",
    "    ph_y = -wavenumber / 2 / M_y / focus_y * y_arr**2\n",
    "    ph_ab_y= alpha_y * 1e9 * ((y_arr - y_abcen) / focus_y) **3\n",
    "\n",
    "    ph_mix = wavenumber / defocus * (xx_arr*x_arr + yy_arr*y_arr)\n",
    "    \n",
    "    func = np.exp(1.j (ph_x + ph_ab_x + ph_y + ph_ab_y + ph_mix) )\n",
    "    \n",
    "    wavefront_lens,err = integrate.dblquad(func,-ap_x/2,ap_x/2,-ap_y/2,ap_y/2)\n",
    "    \n",
    "    wavefront_lens *= A*exp(ph_0)\n",
    "\n",
    "    return wavefront_lens,err"
   ]
  },
  {
   "cell_type": "code",
   "execution_count": null,
   "metadata": {},
   "outputs": [],
   "source": []
  },
  {
   "cell_type": "code",
   "execution_count": null,
   "metadata": {},
   "outputs": [],
   "source": [
    "def propagator2d_integrate(x_arr,y_arr,xx_arr,yy_arr,wavefront_obj, image, wf_dec, det_dist = 14e-03, wl = 7.29e-11 ):\n",
    "     # convolving with the Fresnel kernel via FFT multiplication\n",
    "    p_xy = np.array(np.meshgrid(y_arr,x_arr))\n",
    "    det_xy = np.array(np.meshgrid(yy_arr,xx_arr))\n",
    "\n",
    "    wf_progagated = np.zeros_like(wf_dec,dtype='complex')\n",
    "    \n",
    "    wavenumber = 2 * np.pi / wl \n",
    "    \n",
    "    ph = wavenumber / 2 / det_dist\n",
    "    \n",
    "    for i in range(yy_arr.size):\n",
    "        for j in range(xx_arr.size):\n",
    "            ph_x = wavenumber/ det_dist * p_xy[0,:,:] * det_xy[0,j,i]\n",
    "            ph_y = wavenumber/ det_dist * p_xy[1,:,:] * det_xy[0,j,i]\n",
    "            value = wavefront_obj * image * np.exp(-ph_x-ph_y)\n",
    "            wf_propagated[i][j] = np.exp(ph) * integrate.simps(integrate.simps(value,ph_y),ph_x)\n",
    "\n",
    "    return wf_propagated"
   ]
  },
  {
   "cell_type": "code",
   "execution_count": 17,
   "metadata": {},
   "outputs": [
    {
     "output_type": "error",
     "ename": "NameError",
     "evalue": "name 'np' is not defined",
     "traceback": [
      "\u001b[0;31m---------------------------------------------------------------------------\u001b[0m",
      "\u001b[0;31mNameError\u001b[0m                                 Traceback (most recent call last)",
      "\u001b[0;32m<ipython-input-17-02b9ba67f454>\u001b[0m in \u001b[0;36m<module>\u001b[0;34m\u001b[0m\n\u001b[0;32m----> 1\u001b[0;31m \u001b[0mwavefront_lens\u001b[0m \u001b[0;34m=\u001b[0m \u001b[0mnp\u001b[0m\u001b[0;34m.\u001b[0m\u001b[0marray\u001b[0m\u001b[0;34m(\u001b[0m\u001b[0mnp\u001b[0m\u001b[0;34m.\u001b[0m\u001b[0mones\u001b[0m\u001b[0;34m(\u001b[0m\u001b[0;34m(\u001b[0m\u001b[0mleny_arr\u001b[0m\u001b[0;34m,\u001b[0m\u001b[0mx_arr\u001b[0m\u001b[0;34m.\u001b[0m\u001b[0mshape\u001b[0m\u001b[0;34m)\u001b[0m\u001b[0;34m)\u001b[0m\u001b[0;34m)\u001b[0m\u001b[0;34m\u001b[0m\u001b[0;34m\u001b[0m\u001b[0m\n\u001b[0m\u001b[1;32m      2\u001b[0m \u001b[0;32mfor\u001b[0m \u001b[0mi\u001b[0m \u001b[0;32min\u001b[0m \u001b[0mrange\u001b[0m\u001b[0;34m(\u001b[0m\u001b[0mlen\u001b[0m\u001b[0;34m(\u001b[0m\u001b[0my_arr\u001b[0m\u001b[0;34m)\u001b[0m\u001b[0;34m)\u001b[0m\u001b[0;34m:\u001b[0m\u001b[0;34m\u001b[0m\u001b[0;34m\u001b[0m\u001b[0m\n\u001b[1;32m      3\u001b[0m       \u001b[0;32mfor\u001b[0m \u001b[0mj\u001b[0m \u001b[0;32min\u001b[0m \u001b[0mrange\u001b[0m\u001b[0;34m(\u001b[0m\u001b[0mlen\u001b[0m\u001b[0;34m(\u001b[0m\u001b[0mx_arr\u001b[0m\u001b[0;34m)\u001b[0m\u001b[0;34m)\u001b[0m\u001b[0;34m:\u001b[0m\u001b[0;34m\u001b[0m\u001b[0;34m\u001b[0m\u001b[0m\n\u001b[1;32m      4\u001b[0m           \u001b[0mwavefront_lens\u001b[0m\u001b[0;34m[\u001b[0m\u001b[0mi\u001b[0m\u001b[0;34m]\u001b[0m\u001b[0;34m[\u001b[0m\u001b[0mj\u001b[0m\u001b[0;34m]\u001b[0m\u001b[0;34m=\u001b[0m\u001b[0mlens_wf\u001b[0m\u001b[0;34m(\u001b[0m\u001b[0my_arr\u001b[0m\u001b[0;34m[\u001b[0m\u001b[0mi\u001b[0m\u001b[0;34m]\u001b[0m\u001b[0;34m,\u001b[0m\u001b[0mx_arr\u001b[0m\u001b[0;34m[\u001b[0m\u001b[0mj\u001b[0m\u001b[0;34m]\u001b[0m\u001b[0;34m)\u001b[0m\u001b[0;34m\u001b[0m\u001b[0;34m\u001b[0m\u001b[0m\n",
      "\u001b[0;31mNameError\u001b[0m: name 'np' is not defined"
     ]
    }
   ],
   "source": [
    "def main()\n",
    "    x_arr,y_arr,xx_arr,yy_arr,wf_dec = wavefront_initialize()\n",
    "    wavefront_lens = np.zeros((len(y_arr),len(x_arr)),dtype = 'complex')\n",
    "    \n",
    "\n"
   ]
  },
  {
   "cell_type": "code",
   "execution_count": null,
   "metadata": {},
   "outputs": [],
   "source": [
    "if __name__ == \"__main__\":\n",
    "    main()"
   ]
  }
 ]
}