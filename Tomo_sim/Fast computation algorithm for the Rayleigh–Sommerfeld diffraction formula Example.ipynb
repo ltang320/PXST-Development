{
 "metadata": {
  "language_info": {
   "codemirror_mode": {
    "name": "ipython",
    "version": 3
   },
   "file_extension": ".py",
   "mimetype": "text/x-python",
   "name": "python",
   "nbconvert_exporter": "python",
   "pygments_lexer": "ipython3",
   "version": "3.7.9-final"
  },
  "orig_nbformat": 2,
  "kernelspec": {
   "name": "python3",
   "display_name": "Python 3.7.9 64-bit ('pxst': conda)",
   "metadata": {
    "interpreter": {
     "hash": "0084841a13328c9eef538dd13576d2475400ffb95eceba789da697f66e398325"
    }
   }
  }
 },
 "nbformat": 4,
 "nbformat_minor": 2,
 "cells": [
  {
   "source": [
    "## Fast computation algorithm for the Rayleigh–Sommerfeld diffraction formula Example\n",
    "\n",
    "#### 2020-12-16"
   ],
   "cell_type": "markdown",
   "metadata": {}
  },
  {
   "cell_type": "code",
   "execution_count": 1,
   "metadata": {},
   "outputs": [],
   "source": [
    "import numpy as np\n",
    "import scipy.integrate as integrate\n",
    "import os,sys\n",
    "import yaml\n",
    "import matplotlib.pyplot as plt\n",
    "import math\n",
    "from ipywidgets import *"
   ]
  },
  {
   "cell_type": "code",
   "execution_count": 2,
   "metadata": {},
   "outputs": [
    {
     "output_type": "stream",
     "name": "stdout",
     "text": [
      "{'Source': {'p0': 200000.0, 'wl': 7.29e-11, 'th_s': 0.0002}, 'Exp_geom': {'defocus': 0.004, 'det_dist': 0.014}, 'Detector': {'fs_size': 2000, 'ss_size': 2000, 'pixelsize_x': 5.5e-05, 'pixelsize_y': 5.5e-05}, 'Lens': {'focus_x': 0.0012, 'focus_y': 0.001, 'ap_x': 4e-05, 'ap_y': 4e-05, 'alpha_x': -0.05, 'alpha_y': -0.05, 'x_abcen': 0.5, 'y_abcen': 0.5}}\n"
     ]
    }
   ],
   "source": [
    "with open('configure.yml','r') as conf_para:\n",
    "    conf_para = yaml.load(conf_para,Loader=yaml.FullLoader)\n",
    "print(conf_para)"
   ]
  },
  {
   "cell_type": "code",
   "execution_count": 3,
   "metadata": {},
   "outputs": [],
   "source": [
    "n_x = 100000\n",
    "ap_x = 40e-6\n",
    "wl = conf_para['Source']['wl']\n",
    "focus = conf_para['Lens']['focus_x']\n",
    "defocus = conf_para['Exp_geom']['defocus']\n",
    "alpha = -0.05\n",
    "n_arr = np.arange(-n_x // 2, n_x // 2)\n",
    "x0_arr = n_arr * ap_x / n_x\n",
    "\n",
    "u0 = np.exp(1j * np.pi * x0_arr**2 / wl / focus + 1e9j * alpha * (x0_arr / focus)**3)\n",
    "%matplotlib widget\n",
    "#plt.plot(u0)\n",
    "#u0[np.abs(x0_arr) > ap_x/2]=0\n",
    "#plt.plot(u0)"
   ]
  },
  {
   "cell_type": "code",
   "execution_count": 11,
   "metadata": {},
   "outputs": [
    {
     "output_type": "display_data",
     "data": {
      "text/plain": "Canvas(toolbar=Toolbar(toolitems=[('Home', 'Reset original view', 'home', 'home'), ('Back', 'Back to previous …",
      "application/vnd.jupyter.widget-view+json": {
       "version_major": 2,
       "version_minor": 0,
       "model_id": "1a147c3fa3db40539cf9efef4379eee5"
      }
     },
     "metadata": {}
    },
    {
     "output_type": "execute_result",
     "data": {
      "text/plain": [
       "Text(0.5, 1.0, 'Lens_x Phase')"
      ]
     },
     "metadata": {},
     "execution_count": 11
    }
   ],
   "source": [
    "u0_f = np.fft.fft(u0)/n_x\n",
    "delta_x = ap_x/n_x\n",
    "h_f = np.fft.fft(delta_x * (focus + defocus) / 1j / wl**0.5 * np.exp(-2j * np.pi / wl * np.sqrt(x0_arr**2 + (focus + defocus)**2)) / (x0_arr**2 + (focus + defocus)**2)**0.75)/n_x\n",
    "\n",
    "h_f = np.fft.fftshift(h_f)\n",
    "u0_f = np.fft.fftshift(u0_f)\n",
    "\n",
    "from scipy.signal import fftconvolve\n",
    "\n",
    "fa =1\n",
    "\n",
    "u1 = np.exp(1j * np.pi * n_arr**2 * fa / n_x) * fftconvolve(np.exp(1j * np.pi * n_arr**2 * fa / n_x) * h_f * u0_f,np.exp(-1j * np.pi * n_arr**2 * fa / n_x),mode = 'same')\n",
    "\n",
    "%matplotlib widget\n",
    "#plt.plot(np.abs(np.exp(-1j * np.pi * n_arr**2 * fa / n_x)))\n",
    "#plt.plot(np.abs(u1))\n",
    "#plt.plot(np.unwrap(np.imag(u1)))\n",
    "fig, axes = plt.subplots(1, 2, figsize=(12, 4))\n",
    "#axes[0].plot(np.abs(u1_x[500:2200]))\n",
    "axes[0].plot(np.abs(u1))\n",
    "axes[0].set_title('Lens_x Amplitude', fontsize=14)\n",
    "\n",
    "#axes[1].plot(np.unwrap(np.imag(u1_x[500:2200])))\n",
    "axes[1].plot(np.unwrap(np.angle(u1)))\n",
    "axes[1].set_title('Lens_x Phase', fontsize=14)"
   ]
  },
  {
   "cell_type": "code",
   "execution_count": 9,
   "metadata": {},
   "outputs": [
    {
     "output_type": "stream",
     "name": "stdout",
     "text": [
      "4e-05\n",
      "(1000000,)\n"
     ]
    },
    {
     "output_type": "display_data",
     "data": {
      "text/plain": "Canvas(toolbar=Toolbar(toolitems=[('Home', 'Reset original view', 'home', 'home'), ('Back', 'Back to previous …",
      "application/vnd.jupyter.widget-view+json": {
       "version_major": 2,
       "version_minor": 0,
       "model_id": "e48cc32d18ba421ea9e675102598397f"
      }
     },
     "metadata": {}
    },
    {
     "output_type": "execute_result",
     "data": {
      "text/plain": [
       "[<matplotlib.lines.Line2D at 0x7fc8a90b8090>]"
      ]
     },
     "metadata": {},
     "execution_count": 9
    }
   ],
   "source": [
    "n_x = 1000000\n",
    "n_arr = np.arange(-n_x // 2, n_x // 2)\n",
    "print(ap_x)\n",
    "x0_arr = n_arr * ap_x / n_x\n",
    "u0 = np.exp(1j * np.pi * x0_arr**2 / wl / focus + 1e9j * alpha * (x0_arr / focus)**3)\n",
    "u0_f = np.fft.fft(u0)\n",
    "h_0 = ap_x / n_x * (focus + defocus) / 1j / wl**0.5 * \\\n",
    "              np.exp(-2j * np.pi / wl * np.sqrt(x0_arr**2 + (focus + defocus)**2)) / \\\n",
    "              (x0_arr**2 + (focus + defocus)**2)**0.75\n",
    "h_f = np.fft.fft(h_0)\n",
    "print(h_f.shape)\n",
    "h_f = np.fft.fftshift(h_f)\n",
    "u0_f = np.fft.fftshift(u0_f)\n",
    "%matplotlib widget\n",
    "#plt.plot(n_arr)\n",
    "plt.plot(np.abs(u0_f))\n"
   ]
  },
  {
   "cell_type": "code",
   "execution_count": 10,
   "metadata": {},
   "outputs": [
    {
     "output_type": "stream",
     "name": "stdout",
     "text": [
      "(1000000,)\n"
     ]
    },
    {
     "output_type": "display_data",
     "data": {
      "text/plain": "Canvas(toolbar=Toolbar(toolitems=[('Home', 'Reset original view', 'home', 'home'), ('Back', 'Back to previous …",
      "application/vnd.jupyter.widget-view+json": {
       "version_major": 2,
       "version_minor": 0,
       "model_id": "1cda16ea8f6d4003b5cba429c650b600"
      }
     },
     "metadata": {}
    },
    {
     "output_type": "execute_result",
     "data": {
      "text/plain": [
       "Text(0.5, 1.0, 'Lens_x Phase')"
      ]
     },
     "metadata": {},
     "execution_count": 10
    }
   ],
   "source": [
    "\n",
    "from scipy.signal import fftconvolve\n",
    "fa = 1\n",
    "wm = np.exp(-1j * np.pi * n_arr**2 * fa / n_x)\n",
    "wm_le = np.exp(-1j * np.pi * n_arr**2 * fa / n_x)\n",
    "hm_le = np.exp(1j * np.pi * n_arr**2 * fa / n_x)\n",
    "u1 = wm * fftconvolve(wm_le * h_f * u0_f,\n",
    "                hm_le, mode='same')\n",
    "print(u1.shape)\n",
    "%matplotlib widget\n",
    "fig, axes = plt.subplots(1, 2, figsize=(12, 4))\n",
    "#axes[0].plot(np.abs(u1_x[500:2200]))\n",
    "axes[0].plot(np.abs(u1))\n",
    "axes[0].set_title('Lens_x Amplitude', fontsize=14)\n",
    "\n",
    "#axes[1].plot(np.unwrap(np.imag(u1_x[500:2200])))\n",
    "axes[1].plot(np.unwrap(np.angle(u1)))\n",
    "axes[1].set_title('Lens_x Phase', fontsize=14)"
   ]
  },
  {
   "cell_type": "code",
   "execution_count": null,
   "metadata": {},
   "outputs": [],
   "source": []
  },
  {
   "cell_type": "code",
   "execution_count": null,
   "metadata": {},
   "outputs": [],
   "source": []
  }
 ]
}