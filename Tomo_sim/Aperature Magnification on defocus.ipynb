{
 "metadata": {
  "language_info": {
   "codemirror_mode": {
    "name": "ipython",
    "version": 3
   },
   "file_extension": ".py",
   "mimetype": "text/x-python",
   "name": "python",
   "nbconvert_exporter": "python",
   "pygments_lexer": "ipython3",
   "version": "3.8.2-final"
  },
  "orig_nbformat": 2,
  "kernelspec": {
   "name": "python3",
   "display_name": "Python 3",
   "language": "python"
  }
 },
 "nbformat": 4,
 "nbformat_minor": 2,
 "cells": [
  {
   "cell_type": "code",
   "execution_count": 78,
   "metadata": {},
   "outputs": [],
   "source": [
    "import numpy as np\n",
    "import os,sys\n",
    "import yaml\n",
    "import matplotlib.pyplot as plt\n",
    "from matplotlib.colors import LogNorm\n",
    "import math\n",
    "import cv2\n",
    "import matplotlib.animation as animation"
   ]
  },
  {
   "cell_type": "code",
   "execution_count": 2,
   "metadata": {},
   "outputs": [],
   "source": [
    "def wavefront_initialize(pixelsize_h=1e-6,pixelsize_v=1e-6,npixels_h=2048,npixels_v=2048,amplitude_value=0.0):\n",
    "    #\n",
    "    #create array at object (aperture) plane\n",
    "    #\n",
    "    amplitude = np.zeros((npixels_h,npixels_v))  # amplitude map\n",
    "    amplitude += amplitude_value\n",
    "    p_i_h = np.arange(npixels_h) * pixelsize_h\n",
    "    p_x = (p_i_h - 0.5 * (p_i_h[-1] - p_i_h[0]) )\n",
    "    p_i_v = np.arange(npixels_v) * pixelsize_v\n",
    "    p_y = (p_i_v - 0.5 * (p_i_v[-1] - p_i_v[0]) )\n",
    "    return p_x,p_y,amplitude"
   ]
  },
  {
   "cell_type": "code",
   "execution_count": 3,
   "metadata": {},
   "outputs": [],
   "source": [
    "def wavefront_aperture(p_x,p_y,amplitude,diameter_h=40e-6,diameter_v=40e-6,diameter_r=40e-6,type=0):\n",
    "    # aperture_type: 0=circular, 1=Square\n",
    "    p_xx = p_x[:, np.newaxis]\n",
    "    p_yy = p_y[np.newaxis, :]\n",
    "\n",
    "    filter = np.zeros_like(amplitude)\n",
    "    if type == 0:  # Circular aperture\n",
    "        radius = (diameter_r/2)\n",
    "        print(\"radius=%f um\"%(1e6*radius))\n",
    "        filter_illuminated_indices = np.where(p_xx**2 + p_yy**2 < radius**2)\n",
    "        if filter_illuminated_indices[0].size ==0:\n",
    "            print(\"Warning: wavefront_aperture(): Nothing goes trough the aperture\")\n",
    "        else:\n",
    "            filter[filter_illuminated_indices] = 1.0\n",
    "    elif type == 1:  # square\n",
    "        radius_h = (diameter_h/2)\n",
    "        radius_v = (diameter_v/2)\n",
    "        print(\"radius_h=%f um,radius_v=%f um\"%(1e6*radius_h,1e6*radius_v))\n",
    "        filter_illuminated_indices = np.where( (np.abs(p_xx) < radius_h) & (np.abs(p_yy) < radius_v))\n",
    "        if filter_illuminated_indices[0].size ==0:\n",
    "            print(\"Warning: wavefront_aperture(): Nothing goes trough the aperture\")\n",
    "        else:\n",
    "            filter[filter_illuminated_indices] = 1.0\n",
    "    else:\n",
    "        raise ValueError(\"Aperture type (shape) not valid\")\n",
    "\n",
    "    return p_x,p_y,amplitude*filter"
   ]
  },
  {
   "cell_type": "code",
   "execution_count": 4,
   "metadata": {},
   "outputs": [],
   "source": [
    "with open('configure.yml','r') as conf_para:\n",
    "    conf_para = yaml.load(conf_para,Loader=yaml.FullLoader)\n",
    "#print(conf_para)\n",
    "alpha_x = conf_para['Lens']['alpha_x']\n",
    "alpha_y = conf_para['Lens']['alpha_y']\n",
    "focus_x = conf_para['Lens']['focus_x']\n",
    "focus_y = conf_para['Lens']['focus_y']\n",
    "\n",
    "det_dist = conf_para['Exp_geom']['det_dist']\n",
    "defocus = conf_para['Exp_geom']['defocus']\n",
    "ap_x = conf_para['Lens']['ap_x']\n",
    "ap_y = conf_para['Lens']['ap_y']\n",
    "\n",
    "ss_size = conf_para['Detector']['ss_size']\n",
    "fs_size = conf_para['Detector']['fs_size']\n",
    "\n",
    "pixelsize_x = conf_para['Detector']['pixelsize_x']\n",
    "pixelsize_y = conf_para['Detector']['pixelsize_y']\n",
    "wl = conf_para['Source']['wl']\n",
    "k = 2*np.pi/wl"
   ]
  },
  {
   "cell_type": "code",
   "execution_count": 5,
   "metadata": {},
   "outputs": [
    {
     "output_type": "stream",
     "name": "stdout",
     "text": [
      "radius_h=20.000000 um,radius_v=20.000000 um\n"
     ]
    }
   ],
   "source": [
    "p_x,p_y,pupil_input = wavefront_initialize(pixelsize_h=1e-7,pixelsize_v=1e-7,npixels_h=2048,npixels_v=2048,amplitude_value=1.0)\n",
    "p_x,p_y,pupil_lens = wavefront_aperture(p_x,p_y,pupil_input,diameter_h=40e-6,diameter_v=40e-6,type=1)"
   ]
  },
  {
   "cell_type": "code",
   "execution_count": 179,
   "metadata": {},
   "outputs": [
    {
     "output_type": "display_data",
     "data": {
      "text/plain": "Canvas(toolbar=Toolbar(toolitems=[('Home', 'Reset original view', 'home', 'home'), ('Back', 'Back to previous …",
      "application/vnd.jupyter.widget-view+json": {
       "version_major": 2,
       "version_minor": 0,
       "model_id": "bc31596d190047fc8e17bf01c9bc1daf"
      }
     },
     "metadata": {}
    },
    {
     "output_type": "execute_result",
     "data": {
      "text/plain": [
       "<matplotlib.image.AxesImage at 0x7f840e8d0eb0>"
      ]
     },
     "metadata": {},
     "execution_count": 179
    }
   ],
   "source": [
    "Fpupil = np.fft.fftshift(np.fft.fft2(pupil_lens))\n",
    "pxy = np.array(np.meshgrid(p_y,p_x))\n",
    "alpha = -0.005\n",
    "focus = 0.001*100\n",
    "z = 0.001*100\n",
    "wl = 7.29e-11\n",
    "phi = np.pi/wl/z*(pxy[0]**2+pxy[1]**2)+alpha*1e9*(pxy[0]/focus)**3 +alpha*1e9*(pxy[1]/focus)**3\n",
    "pupil_new = pupil_lens*np.exp(1.j*phi)\n",
    "F = np.fft.fftshift(np.fft.fft2(pupil_new))\n",
    "%matplotlib widget\n",
    "x_min = np.min(p_x)\n",
    "x_max = np.max(p_x)\n",
    "y_min = np.min(p_y)\n",
    "y_max = np.max(p_y)\n",
    "plt.imshow(np.abs(F)**2,extent = [x_min,x_max,y_min,y_max])\n",
    "#plt.imshow(pupil_lens,extent = [x_min,x_max,y_min,y_max])"
   ]
  },
  {
   "cell_type": "code",
   "execution_count": 191,
   "metadata": {},
   "outputs": [
    {
     "output_type": "display_data",
     "data": {
      "text/plain": "Canvas(toolbar=Toolbar(toolitems=[('Home', 'Reset original view', 'home', 'home'), ('Back', 'Back to previous …",
      "application/vnd.jupyter.widget-view+json": {
       "version_major": 2,
       "version_minor": 0,
       "model_id": "9d7c234ef4a54e8a80e73a6f502b431f"
      }
     },
     "metadata": {}
    },
    {
     "output_type": "execute_result",
     "data": {
      "text/plain": [
       "<matplotlib.image.AxesImage at 0x7f83cd02b340>"
      ]
     },
     "metadata": {},
     "execution_count": 191
    }
   ],
   "source": [
    "pxy = np.array(np.meshgrid(p_y,p_x))\n",
    "alpha = -0.005\n",
    "focus = 0.001*100\n",
    "z = 0.001*600\n",
    "wl = 7.29e-11\n",
    "phi0 = -np.pi/wl/focus*(pxy[0]**2+pxy[1]**2)+alpha*1e9*(pxy[0]/focus)**3 +alpha*1e9*(pxy[1]/focus)**3\n",
    "phi = np.pi/wl/z*(pxy[0]**2+pxy[1]**2)\n",
    "pupil_new2 = pupil_lens*np.exp(1.j*(phi0+phi))\n",
    "F2 = np.fft.fftshift(np.fft.fft2(pupil_new2))\n",
    "%matplotlib widget\n",
    "x_min = np.min(p_x)\n",
    "x_max = np.max(p_x)\n",
    "y_min = np.min(p_y)\n",
    "y_max = np.max(p_y)\n",
    "plt.imshow(np.abs(F2)**2,extent = [x_min,x_max,y_min,y_max])\n",
    "#plt.imshow(pupil_lens,extent = [x_min,x_max,y_min,y_max])"
   ]
  },
  {
   "cell_type": "code",
   "execution_count": 161,
   "metadata": {},
   "outputs": [
    {
     "output_type": "display_data",
     "data": {
      "text/plain": "Canvas(toolbar=Toolbar(toolitems=[('Home', 'Reset original view', 'home', 'home'), ('Back', 'Back to previous …",
      "application/vnd.jupyter.widget-view+json": {
       "version_major": 2,
       "version_minor": 0,
       "model_id": "43d7e27c14d2497596b876eed6fdf59e"
      }
     },
     "metadata": {}
    },
    {
     "output_type": "execute_result",
     "data": {
      "text/plain": [
       "<matplotlib.image.AxesImage at 0x7f83c9fd9ac0>"
      ]
     },
     "metadata": {},
     "execution_count": 161
    }
   ],
   "source": [
    "Fpupil = np.fft.fftshift(np.fft.fft2(pupil_lens))\n",
    "pxy = np.array(np.meshgrid(p_y,p_x))\n",
    "alpha = -0.005\n",
    "zi = 0.002*100\n",
    "za = 0.001*100\n",
    "wl = 7.29e-11\n",
    "phi = np.pi/wl/zi*(pxy[0]**2+pxy[1]**2)-np.pi/wl/za*(pxy[0]**2+pxy[1]**2)\n",
    "pupil_new = pupil_lens*np.exp(1.j*phi)\n",
    "F = np.fft.fftshift(np.fft.fft2(pupil_new))\n",
    "%matplotlib widget\n",
    "x_min = np.min(p_x)\n",
    "x_max = np.max(p_x)\n",
    "y_min = np.min(p_y)\n",
    "y_max = np.max(p_y)\n",
    "plt.imshow(np.abs(F),extent = [x_min,x_max,y_min,y_max])\n",
    "#plt.imshow(pupil_lens,extent = [x_min,x_max,y_min,y_max])"
   ]
  },
  {
   "cell_type": "code",
   "execution_count": 166,
   "metadata": {},
   "outputs": [
    {
     "output_type": "display_data",
     "data": {
      "text/plain": "Canvas(toolbar=Toolbar(toolitems=[('Home', 'Reset original view', 'home', 'home'), ('Back', 'Back to previous …",
      "application/vnd.jupyter.widget-view+json": {
       "version_major": 2,
       "version_minor": 0,
       "model_id": "10f3c6263dfa4c8695d38124041582ff"
      }
     },
     "metadata": {}
    }
   ],
   "source": [
    "ims = []\n",
    "fig = plt.figure()\n",
    "for i in range(48):\n",
    "    x_min = np.min(p_x)\n",
    "    x_max = np.max(p_x)\n",
    "    y_min = np.min(p_y)\n",
    "    y_max = np.max(p_y)\n",
    "    alpha = -0.005\n",
    "    focus = 0.001*10\n",
    "    z = 0.001*(1000-20*i)\n",
    "    wl = 7.29e-11\n",
    "    phi = np.pi/wl/focus*(pxy[0]**2+pxy[1]**2)+alpha*1e9*(pxy[0]/z)**3 +alpha*1e9*(pxy[1]/z)**3\n",
    "    pupil_new = pupil_lens*np.exp(1.j*phi)\n",
    "    F = np.fft.fftshift(np.fft.fft2(pupil_new))\n",
    "    im = plt.imshow(np.abs(F)**2,extent = [x_min,x_max,y_min,y_max],animated=True)\n",
    "    #plt.colorbar()\n",
    "    #plt.savefig('zchange%f_%s.png'%(z,i))\n",
    "    #print(z)\n",
    "    ims.append([im])\n",
    "\n",
    "ani = animation.ArtistAnimation(fig, ims, interval=100, blit=True,repeat_delay=1000)\n",
    "ani.save('try2.mp4')"
   ]
  },
  {
   "cell_type": "code",
   "execution_count": 94,
   "metadata": {},
   "outputs": [
    {
     "output_type": "display_data",
     "data": {
      "text/plain": "Canvas(toolbar=Toolbar(toolitems=[('Home', 'Reset original view', 'home', 'home'), ('Back', 'Back to previous …",
      "application/vnd.jupyter.widget-view+json": {
       "version_major": 2,
       "version_minor": 0,
       "model_id": "68feefd35ee1435ea3b66c12fc36e998"
      }
     },
     "metadata": {}
    }
   ],
   "source": [
    "ims = []\n",
    "fig = plt.figure()\n",
    "for i in range(48):\n",
    "    x_min = np.min(p_x)\n",
    "    x_max = np.max(p_x)\n",
    "    y_min = np.min(p_y)\n",
    "    y_max = np.max(p_y)\n",
    "    alpha = -0.005\n",
    "    focus = 0.001\n",
    "    z = 0.001*(1000-20*i)\n",
    "    wl = 7.29e-11\n",
    "    phi = np.pi/wl/focus*(pxy[0]**2+pxy[1]**2)-np.pi/wl/z*(pxy[0]**2+pxy[1]**2)\n",
    "    pupil_new = pupil_lens*np.exp(1.j*phi)\n",
    "    F = np.fft.fftshift(np.fft.fft2(pupil_new))\n",
    "    im = plt.imshow(np.abs(F)**2,extent = [x_min,x_max,y_min,y_max],animated=True)\n",
    "    #plt.colorbar()\n",
    "    #plt.savefig('zchange%f_%s.png'%(z,i))\n",
    "    #print(z)\n",
    "    ims.append([im])\n",
    "\n",
    "ani = animation.ArtistAnimation(fig, ims, interval=100, blit=True,repeat_delay=1000)\n",
    "ani.save('try2_spherical.mp4')"
   ]
  },
  {
   "cell_type": "code",
   "execution_count": 164,
   "metadata": {},
   "outputs": [
    {
     "output_type": "display_data",
     "data": {
      "text/plain": "Canvas(toolbar=Toolbar(toolitems=[('Home', 'Reset original view', 'home', 'home'), ('Back', 'Back to previous …",
      "application/vnd.jupyter.widget-view+json": {
       "version_major": 2,
       "version_minor": 0,
       "model_id": "04b173afe6b54143af1fa68a6e4b6087"
      }
     },
     "metadata": {}
    }
   ],
   "source": [
    "ims = []\n",
    "fig = plt.figure()\n",
    "for i in range(50):\n",
    "    pxy = np.array(np.meshgrid(p_y,p_x))\n",
    "    alpha = -0.005\n",
    "    zi = 0.001*100\n",
    "    za = 0.002*(10+i*2)\n",
    "    wl = 7.29e-11\n",
    "    phi = np.pi/wl/zi*(pxy[0]**2+pxy[1]**2)-np.pi/wl/za*(pxy[0]**2+pxy[1]**2)\n",
    "    pupil_new = pupil_lens*np.exp(1.j*phi)\n",
    "    F = np.fft.fftshift(np.fft.fft2(pupil_new))\n",
    "    im = plt.imshow(np.abs(F)**2,extent = [x_min,x_max,y_min,y_max],animated=True)\n",
    "    #plt.colorbar()\n",
    "    #plt.savefig('zchange%f_%s.png'%(z,i))\n",
    "    #print(z)\n",
    "    ims.append([im])\n",
    "ani = animation.ArtistAnimation(fig, ims, interval=100, blit=True,repeat_delay=1000)\n",
    "ani.save('try3_spherical.mp4')"
   ]
  },
  {
   "cell_type": "code",
   "execution_count": 198,
   "metadata": {},
   "outputs": [
    {
     "output_type": "display_data",
     "data": {
      "text/plain": "Canvas(toolbar=Toolbar(toolitems=[('Home', 'Reset original view', 'home', 'home'), ('Back', 'Back to previous …",
      "application/vnd.jupyter.widget-view+json": {
       "version_major": 2,
       "version_minor": 0,
       "model_id": "b2bc5838dcb749e2a37885ea332d7e3f"
      }
     },
     "metadata": {}
    }
   ],
   "source": [
    "ims = []\n",
    "fig = plt.figure()\n",
    "for i in range(50):\n",
    "    pxy = np.array(np.meshgrid(p_y,p_x))\n",
    "    alpha = -0.005\n",
    "    focus = 0.001*100\n",
    "    z = 0.001*(20*(i+1))\n",
    "    wl = 7.29e-11\n",
    "    phi0 = -np.pi/wl/focus*(pxy[0]**2+pxy[1]**2)+alpha*1e9*(pxy[0]/focus)**3 +alpha*1e9*(pxy[1]/focus)**3\n",
    "    phi = np.pi/wl/z*(pxy[0]**2+pxy[1]**2)\n",
    "    pupil_new2 = pupil_lens*np.exp(1.j*(phi0+phi))\n",
    "    F2 = np.fft.fftshift(np.fft.fft2(pupil_new2))\n",
    "    im = plt.imshow(np.abs(F2)**2,extent = [x_min,x_max,y_min,y_max],animated=True)\n",
    "    ims.append([im])\n",
    "ani = animation.ArtistAnimation(fig, ims, interval=100, blit=True,repeat_delay=1000)\n",
    "ani.save('try4_aberration.mp4')"
   ]
  },
  {
   "cell_type": "code",
   "execution_count": null,
   "metadata": {},
   "outputs": [],
   "source": []
  }
 ]
}