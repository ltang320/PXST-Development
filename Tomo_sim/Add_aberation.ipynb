{
 "metadata": {
  "language_info": {
   "codemirror_mode": {
    "name": "ipython",
    "version": 3
   },
   "file_extension": ".py",
   "mimetype": "text/x-python",
   "name": "python",
   "nbconvert_exporter": "python",
   "pygments_lexer": "ipython3",
   "version": "3.8.2-final"
  },
  "orig_nbformat": 2,
  "kernelspec": {
   "name": "python3",
   "display_name": "Python 3",
   "language": "python"
  }
 },
 "nbformat": 4,
 "nbformat_minor": 2,
 "cells": [
  {
   "cell_type": "code",
   "execution_count": 1,
   "metadata": {},
   "outputs": [],
   "source": [
    "import numpy as np\n",
    "import scipy.integrate as integrate\n",
    "from scipy.signal import fftconvolve\n",
    "import os,sys\n",
    "import yaml\n",
    "import matplotlib.pyplot as plt\n",
    "import math\n",
    "import cv2"
   ]
  },
  {
   "cell_type": "code",
   "execution_count": 2,
   "metadata": {},
   "outputs": [],
   "source": [
    "def sample_coordinate(pixelsize_x = 55e-06,pixelsize_y = 55e-06,fs_size = 2000,ss_size = 2000,focus_x = 1.2e-03,focus_y = 1.0e-03,defocus = 400e-06, det_dist = 14.0e-03, ap_x = 40e-06, ap_y= 40e-06,wl = 7.29e-11):\n",
    "\n",
    "    xx_span = fs_size * pixelsize_x\n",
    "    yy_span = ss_size * pixelsize_y \n",
    "    x_span_obj =  ap_x / focus_x * defocus \n",
    "    y_span_obj =  ap_y / focus_y * defocus\n",
    "    print(x_span_obj,y_span_obj)\n",
    "    sintheta_x = (ap_x/2)/np.sqrt((ap_x/2)**2+focus_x**2)\n",
    "    sintheta_y = (ap_y/2)/np.sqrt((ap_y/2)**2+focus_y**2)\n",
    "    print(sintheta_x,sintheta_y)\n",
    "    n_x = 2048\n",
    "    #n_x = int(np.maximum(x_span_obj,ap_x) / wl * 2* sintheta_x)\n",
    "    n_y = 2048\n",
    "    #n_y = int(np.maximum(y_span_obj,ap_y) / wl * 2* sintheta_y)\n",
    "\n",
    "    print(n_x,n_y)\n",
    "\n",
    "    delta_xlen = ap_x / n_x\n",
    "    delta_ylen = ap_y / n_y\n",
    "    delta_xobj = x_span_obj/n_x\n",
    "    delta_yobj = y_span_obj/n_y\n",
    "    delta_xdet = xx_span/n_x\n",
    "    delta_ydet = yy_span/n_y\n",
    "    \n",
    "    return delta_xlen,delta_ylen,delta_xobj,delta_yobj,delta_xdet,delta_ydet,n_x,n_y"
   ]
  },
  {
   "cell_type": "code",
   "execution_count": 3,
   "metadata": {},
   "outputs": [],
   "source": [
    "with open('configure_simtry.yml','r') as conf_para:\n",
    "    conf_para = yaml.load(conf_para,Loader=yaml.FullLoader)\n",
    "#print(conf_para)"
   ]
  },
  {
   "cell_type": "code",
   "execution_count": 4,
   "metadata": {},
   "outputs": [],
   "source": [
    "alpha_x = conf_para['Lens']['alpha_x']\n",
    "alpha_y = conf_para['Lens']['alpha_y']\n",
    "focus_x = conf_para['Lens']['focus_x']\n",
    "focus_y = conf_para['Lens']['focus_y']\n",
    "\n",
    "det_dist = conf_para['Exp_geom']['det_dist']\n",
    "defocus = conf_para['Exp_geom']['defocus']\n",
    "ap_x = conf_para['Lens']['ap_x']\n",
    "ap_y = conf_para['Lens']['ap_y']\n",
    "\n",
    "ss_size = conf_para['Detector']['ss_size']\n",
    "fs_size = conf_para['Detector']['fs_size']\n",
    "\n",
    "pixelsize_x = conf_para['Detector']['pixelsize_x']\n",
    "pixelsize_y = conf_para['Detector']['pixelsize_y']\n",
    "wl = conf_para['Source']['wl']\n",
    "#wl = 7.29e-10\n",
    "k = 2*np.pi/wl"
   ]
  },
  {
   "cell_type": "code",
   "execution_count": 5,
   "metadata": {},
   "outputs": [
    {
     "output_type": "stream",
     "name": "stdout",
     "text": [
      "0.00013333333333333337 0.00016\n0.016664352333993337 0.01999600119960014\n2048 2048\n"
     ]
    }
   ],
   "source": [
    "delta_xlen,delta_ylen,delta_xobj,delta_yobj,delta_xdet,delta_ydet,n_x,n_y = sample_coordinate(pixelsize_x = pixelsize_x,pixelsize_y = pixelsize_y,fs_size = fs_size,ss_size = ss_size,focus_x = focus_x,focus_y = focus_y,defocus = defocus, det_dist = det_dist, ap_x = ap_x, ap_y= ap_y,wl = wl)"
   ]
  },
  {
   "cell_type": "code",
   "execution_count": 6,
   "metadata": {},
   "outputs": [],
   "source": [
    "p_x = np.arange(-n_x//2,n_x//2)\n",
    "p_xa = p_x * delta_xdet\n",
    "p_xx = p_xa[:,np.newaxis]\n",
    "p_y = np.arange(-n_y//2,n_y//2)\n",
    "p_ya = p_y * delta_ydet\n",
    "p_yy = p_ya[np.newaxis,:]"
   ]
  },
  {
   "cell_type": "code",
   "execution_count": 7,
   "metadata": {},
   "outputs": [
    {
     "output_type": "stream",
     "name": "stdout",
     "text": [
      "(array([ 950,  950,  950, ..., 1098, 1098, 1098]), array([ 950,  951,  952, ..., 1096, 1097, 1098]))\n"
     ]
    }
   ],
   "source": [
    "pupil_focus = np.zeros((p_y.size,p_x.size))\n",
    "filter_illuminated_indices_atf = np.where( (np.abs(p_xx) < (ap_x/2)) & (np.abs(p_yy) < (ap_y/2)))\n",
    "#p_atf[filter_illuminated_indices_atf] = np.exp(-1.0j*k/zi*(filter_illuminated_indices_atf[0]*delta_xdet+ filter_illuminated_indices_atf[1]*delta_ydet))\n",
    "pupil_focus[filter_illuminated_indices_atf] = 1\n",
    "print(filter_illuminated_indices_atf)\n",
    "#p_atf = np.exp(-1.0j*k/zi*(xx_arr+yy_arr))"
   ]
  },
  {
   "cell_type": "code",
   "execution_count": 8,
   "metadata": {},
   "outputs": [
    {
     "output_type": "display_data",
     "data": {
      "text/plain": "Canvas(toolbar=Toolbar(toolitems=[('Home', 'Reset original view', 'home', 'home'), ('Back', 'Back to previous …",
      "application/vnd.jupyter.widget-view+json": {
       "version_major": 2,
       "version_minor": 0,
       "model_id": "a14b11c1640a4bf5bbacd52f98459d03"
      }
     },
     "metadata": {}
    }
   ],
   "source": [
    "%matplotlib widget\n",
    "x_min = np.min(p_xx)\n",
    "x_max = np.max(p_xx)\n",
    "y_min = np.min(p_yy)\n",
    "y_max = np.max(p_yy)\n",
    "fig, axes = plt.subplots(1, 2, figsize=(12, 4))\n",
    "p1 = axes[0].imshow(np.abs(pupil_focus),extent = [x_min,x_max,y_min,y_max])\n",
    "axes[0].set_title('Amplitude of input pupil', fontsize=14)\n",
    "p2 = axes[1].imshow(np.unwrap(np.angle(pupil_focus)),extent = [x_min,x_max,y_min,y_max])\n",
    "axes[1].set_title('Phase of input pupil', fontsize=14)\n",
    "plt.colorbar(p1,ax = axes[0])\n",
    "plt.colorbar(p2,ax = axes[1])\n",
    "plt.savefig('Input_pupilatf_210107.png')"
   ]
  },
  {
   "cell_type": "code",
   "execution_count": 118,
   "metadata": {},
   "outputs": [
    {
     "output_type": "stream",
     "name": "stdout",
     "text": [
      "2048\n"
     ]
    }
   ],
   "source": [
    "npixels_x = p_x.size\n",
    "freq_nyquistx = 0.5/pixelsize_x\n",
    "freq_n = np.linspace(-1.0,1.0,npixels_x)\n",
    "freq_nn = np.fft.fftfreq(npixels_x)\n",
    "freq_x = freq_n*freq_nyquistx\n",
    "\n",
    "npixels_y = p_y.size\n",
    "freq_nyquisty = 0.5/pixelsize_y\n",
    "freq_n = np.linspace(-1.0,1.0,npixels_y)\n",
    "freq_y = freq_n*freq_nyquisty\n",
    "\n",
    "freq_xy = np.array(np.meshgrid(freq_y,freq_x))\n",
    "print(freq_n.size)"
   ]
  },
  {
   "cell_type": "code",
   "execution_count": 119,
   "metadata": {},
   "outputs": [],
   "source": [
    "pxy = np.array(np.meshgrid(p_ya,p_xa))\n",
    "def W(x,y,focus_x,focus_y,alpha_x,alpha_y,wl):\n",
    "    w = np.pi/wl*(x**2/focus_x+y**2/focus_y)+1e9*(alpha_x*(x/focus_x)**3+alpha_y*(y/focus_y)**3)\n",
    "    return w"
   ]
  },
  {
   "cell_type": "code",
   "execution_count": 127,
   "metadata": {},
   "outputs": [],
   "source": [
    "fx_arr = np.fft.fftfreq(n_x)\n",
    "fy_arr = np.fft.fftfreq(n_y)\n",
    "f_xy_arr = np.array(np.meshgrid(fy_arr,fx_arr))\n",
    "h2_atf = np.fft.fftshift(np.fft.fft2(pupil_focus))*np.exp(1.0j*W(freq_xy[1]*wl*focus_x,freq_xy[0]*wl*focus_y,focus_x,focus_y,alpha_x,alpha_y,wl))\n",
    "p_focus_out = np.fft.ifft2(h2_atf)"
   ]
  },
  {
   "cell_type": "code",
   "execution_count": 138,
   "metadata": {},
   "outputs": [
    {
     "output_type": "display_data",
     "data": {
      "text/plain": "Canvas(toolbar=Toolbar(toolitems=[('Home', 'Reset original view', 'home', 'home'), ('Back', 'Back to previous …",
      "application/vnd.jupyter.widget-view+json": {
       "version_major": 2,
       "version_minor": 0,
       "model_id": "2749d09cdc014f61aefc21bf80f1f0c7"
      }
     },
     "metadata": {}
    }
   ],
   "source": [
    "%matplotlib widget\n",
    "x_min = np.min(p_xx)\n",
    "x_max = np.max(p_xx)\n",
    "y_min = np.min(p_yy)\n",
    "y_max = np.max(p_yy)\n",
    "fig, axes = plt.subplots(1, 2, figsize=(12, 4))\n",
    "p3 = axes[0].imshow(np.abs(p_focus_out),extent = [x_min,x_max,y_min,y_max])\n",
    "axes[0].set_title('Amplitude of ATF', fontsize=14)\n",
    "p4 = axes[1].imshow(np.unwrap(np.angle(p_focus_out)),extent = [x_min,x_max,y_min,y_max])\n",
    "axes[1].set_title('Phase of ATF', fontsize=14)\n",
    "plt.colorbar(p3,ax = axes[0])\n",
    "plt.colorbar(p4,ax = axes[1])\n",
    "plt.savefig('ATF_210108.png')"
   ]
  },
  {
   "cell_type": "code",
   "execution_count": 132,
   "metadata": {},
   "outputs": [
    {
     "output_type": "display_data",
     "data": {
      "text/plain": "Canvas(toolbar=Toolbar(toolitems=[('Home', 'Reset original view', 'home', 'home'), ('Back', 'Back to previous …",
      "application/vnd.jupyter.widget-view+json": {
       "version_major": 2,
       "version_minor": 0,
       "model_id": "85fa7bf08c6247f5ba96432362ae613b"
      }
     },
     "metadata": {}
    },
    {
     "output_type": "execute_result",
     "data": {
      "text/plain": [
       "[<matplotlib.lines.Line2D at 0x7fd497ed3c10>]"
      ]
     },
     "metadata": {},
     "execution_count": 132
    }
   ],
   "source": [
    "%matplotlib widget\n",
    "plt.plot(np.unwrap(np.angle(p_focus_out[1024])))\n",
    "#plt.plot(np.abs(p_out[2000]))"
   ]
  },
  {
   "source": [
    "## Propagate from focus → object plane"
   ],
   "cell_type": "markdown",
   "metadata": {}
  },
  {
   "cell_type": "code",
   "execution_count": 141,
   "metadata": {},
   "outputs": [],
   "source": [
    "fx_arr = np.fft.fftfreq(n_x)\n",
    "fy_arr = np.fft.fftfreq(n_y)\n",
    "f_xy_arr = np.array(np.meshgrid(fy_arr,fx_arr))\n",
    "z = defocus\n",
    "h2_obj = h2_atf*np.exp(-1.j*np.pi*wl*z*(np.fft.fftshift(freq_xy[0]**2 + freq_xy[1]**2)))\n",
    "p_defocus = np.fft.ifft2(h2_obj)"
   ]
  },
  {
   "cell_type": "code",
   "execution_count": 142,
   "metadata": {},
   "outputs": [
    {
     "output_type": "display_data",
     "data": {
      "text/plain": "Canvas(toolbar=Toolbar(toolitems=[('Home', 'Reset original view', 'home', 'home'), ('Back', 'Back to previous …",
      "application/vnd.jupyter.widget-view+json": {
       "version_major": 2,
       "version_minor": 0,
       "model_id": "668e2b55f1dc48ce9f80a488ba17387b"
      }
     },
     "metadata": {}
    }
   ],
   "source": [
    "%matplotlib widget\n",
    "x_min = np.min(p_xx)\n",
    "x_max = np.max(p_xx)\n",
    "y_min = np.min(p_yy)\n",
    "y_max = np.max(p_yy)\n",
    "fig, axes = plt.subplots(1, 2, figsize=(12, 4))\n",
    "p3 = axes[0].imshow(np.abs(p_defocus),extent = [x_min,x_max,y_min,y_max])\n",
    "axes[0].set_title('Amplitude of ATF', fontsize=14)\n",
    "p4 = axes[1].imshow(np.unwrap(np.angle(p_defocus)),extent = [x_min,x_max,y_min,y_max])\n",
    "axes[1].set_title('Phase of ATF', fontsize=14)\n",
    "plt.colorbar(p3,ax = axes[0])\n",
    "plt.colorbar(p4,ax = axes[1])\n",
    "plt.savefig('ATF_210107.png')"
   ]
  },
  {
   "cell_type": "code",
   "execution_count": 143,
   "metadata": {},
   "outputs": [
    {
     "output_type": "display_data",
     "data": {
      "text/plain": "Canvas(toolbar=Toolbar(toolitems=[('Home', 'Reset original view', 'home', 'home'), ('Back', 'Back to previous …",
      "application/vnd.jupyter.widget-view+json": {
       "version_major": 2,
       "version_minor": 0,
       "model_id": "ba1e55e331f049c7bbc28aa470c67cdc"
      }
     },
     "metadata": {}
    },
    {
     "output_type": "execute_result",
     "data": {
      "text/plain": [
       "[<matplotlib.lines.Line2D at 0x7fd4c7b53df0>]"
      ]
     },
     "metadata": {},
     "execution_count": 143
    }
   ],
   "source": [
    "%matplotlib widget\n",
    "plt.plot(np.unwrap(np.angle(p_defocus[1024])))\n",
    "#plt.plot(np.abs(p_out[2000]))"
   ]
  },
  {
   "source": [
    "## 1D Try"
   ],
   "cell_type": "markdown",
   "metadata": {}
  },
  {
   "cell_type": "code",
   "execution_count": 329,
   "metadata": {},
   "outputs": [],
   "source": [
    "x_arr = np.arange(-pupil_input.shape[1]//2,pupil_input.shape[1]//2)*delta_xdet\n",
    "fx_arr = wl*zi*2*np.pi/n_x*np.fft.fftfreq(pupil_input.shape[1])\n",
    "p_atf = np.zeros((n_x))\n",
    "filter_illuminated_indices_x = np.where( (np.abs(x_arr) < (ap_x*defocus/focus_x/2)))\n",
    "p_atf[filter_illuminated_indices_x] = 1\n",
    "za = focus_x\n",
    "zi = det_dist\n",
    "def Wm1d(za,zi,width,alpha_x):\n",
    "    wm = -0.5*(1/za-1/zi)*width**2\n",
    "    return wm\n",
    "\n",
    "def W1d(x,za,zi,width,focus_x,alpha_x):\n",
    "    w = np.exp(1.0j*k*Wm1d(za,zi,width,alpha_x)*(x**2)/width**2+1e9j*alpha_x*(x/focus_x)**3)\n",
    "    return w\n",
    "\n",
    "h_atf = np.fft.fftshift(np.fft.fft(p_atf)*W1d(fx_arr,za,zi,width,focus_x,alpha_x))"
   ]
  },
  {
   "cell_type": "code",
   "execution_count": 330,
   "metadata": {},
   "outputs": [],
   "source": [
    "p_in = np.zeros(x_arr.shape)\n",
    "p_in[np.abs(x_arr)< (ap_x/2)]=1\n",
    "p_out = np.fft.ifftshift(np.fft.ifft(np.fft.fft(p_in)*h_atf))"
   ]
  },
  {
   "cell_type": "code",
   "execution_count": 331,
   "metadata": {},
   "outputs": [
    {
     "output_type": "display_data",
     "data": {
      "text/plain": "Canvas(toolbar=Toolbar(toolitems=[('Home', 'Reset original view', 'home', 'home'), ('Back', 'Back to previous …",
      "application/vnd.jupyter.widget-view+json": {
       "version_major": 2,
       "version_minor": 0,
       "model_id": "9c00e33f3ede4629826561168978811a"
      }
     },
     "metadata": {}
    },
    {
     "output_type": "execute_result",
     "data": {
      "text/plain": [
       "[<matplotlib.lines.Line2D at 0x7f9a1ce04070>]"
      ]
     },
     "metadata": {},
     "execution_count": 331
    }
   ],
   "source": [
    "%matplotlib widget\n",
    "#plt.plot(np.unwrap(np.angle(p_output[2000])))\n",
    "plt.plot(np.abs(p_out))"
   ]
  },
  {
   "cell_type": "code",
   "execution_count": 332,
   "metadata": {},
   "outputs": [
    {
     "output_type": "display_data",
     "data": {
      "text/plain": "Canvas(toolbar=Toolbar(toolitems=[('Home', 'Reset original view', 'home', 'home'), ('Back', 'Back to previous …",
      "application/vnd.jupyter.widget-view+json": {
       "version_major": 2,
       "version_minor": 0,
       "model_id": "66308b5d02e04ea9b38b32411a0fad1c"
      }
     },
     "metadata": {}
    },
    {
     "output_type": "execute_result",
     "data": {
      "text/plain": [
       "[<matplotlib.lines.Line2D at 0x7f9d1c030100>]"
      ]
     },
     "metadata": {},
     "execution_count": 332
    }
   ],
   "source": [
    "%matplotlib widget\n",
    "plt.plot(x_arr,np.unwrap(np.angle(p_out)))\n",
    "#plt.plot(x_arr,np.abs(p_out))"
   ]
  },
  {
   "cell_type": "code",
   "execution_count": null,
   "metadata": {},
   "outputs": [],
   "source": []
  }
 ]
}