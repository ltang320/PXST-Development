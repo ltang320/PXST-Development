{
 "metadata": {
  "language_info": {
   "codemirror_mode": {
    "name": "ipython",
    "version": 3
   },
   "file_extension": ".py",
   "mimetype": "text/x-python",
   "name": "python",
   "nbconvert_exporter": "python",
   "pygments_lexer": "ipython3",
   "version": "3.8.2-final"
  },
  "orig_nbformat": 2,
  "kernelspec": {
   "name": "python3",
   "display_name": "Python 3",
   "language": "python"
  }
 },
 "nbformat": 4,
 "nbformat_minor": 2,
 "cells": [
  {
   "cell_type": "code",
   "execution_count": 164,
   "metadata": {},
   "outputs": [],
   "source": [
    "import numpy as np\n",
    "import os,sys\n",
    "import yaml\n",
    "import matplotlib.pyplot as plt\n",
    "from matplotlib.colors import LogNorm\n",
    "import math\n",
    "import cv2\n",
    "import matplotlib.animation as animation"
   ]
  },
  {
   "cell_type": "code",
   "execution_count": 2,
   "metadata": {},
   "outputs": [],
   "source": [
    "def wavefront_initialize(pixelsize_h=1e-6,pixelsize_v=1e-6,npixels_h=2048,npixels_v=2048,amplitude_value=0.0):\n",
    "    #\n",
    "    #create array at object (aperture) plane\n",
    "    #\n",
    "    amplitude = np.zeros((npixels_h,npixels_v))  # amplitude map\n",
    "    amplitude += amplitude_value\n",
    "    p_i_h = np.arange(npixels_h) * pixelsize_h\n",
    "    p_x = (p_i_h - 0.5 * (p_i_h[-1] - p_i_h[0]) )\n",
    "    p_i_v = np.arange(npixels_v) * pixelsize_v\n",
    "    p_y = (p_i_v - 0.5 * (p_i_v[-1] - p_i_v[0]) )\n",
    "    return p_x,p_y,amplitude"
   ]
  },
  {
   "cell_type": "code",
   "execution_count": 3,
   "metadata": {},
   "outputs": [],
   "source": [
    "def wavefront_aperture(p_x,p_y,amplitude,diameter_h=40e-6,diameter_v=40e-6,diameter_r=40e-6,type=0):\n",
    "    # aperture_type: 0=circular, 1=Square\n",
    "    p_xx = p_x[:, np.newaxis]\n",
    "    p_yy = p_y[np.newaxis, :]\n",
    "\n",
    "    filter = np.zeros_like(amplitude)\n",
    "    if type == 0:  # Circular aperture\n",
    "        radius = (diameter_r/2)\n",
    "        print(\"radius=%f um\"%(1e6*radius))\n",
    "        filter_illuminated_indices = np.where(p_xx**2 + p_yy**2 < radius**2)\n",
    "        if filter_illuminated_indices[0].size ==0:\n",
    "            print(\"Warning: wavefront_aperture(): Nothing goes trough the aperture\")\n",
    "        else:\n",
    "            filter[filter_illuminated_indices] = 1.0\n",
    "    elif type == 1:  # square\n",
    "        radius_h = (diameter_h/2)\n",
    "        radius_v = (diameter_v/2)\n",
    "        print(\"radius_h=%f um,radius_v=%f um\"%(1e6*radius_h,1e6*radius_v))\n",
    "        filter_illuminated_indices = np.where( (np.abs(p_xx) < radius_h) & (np.abs(p_yy) < radius_v))\n",
    "        if filter_illuminated_indices[0].size ==0:\n",
    "            print(\"Warning: wavefront_aperture(): Nothing goes trough the aperture\")\n",
    "        else:\n",
    "            filter[filter_illuminated_indices] = 1.0\n",
    "    else:\n",
    "        raise ValueError(\"Aperture type (shape) not valid\")\n",
    "\n",
    "    return p_x,p_y,amplitude*filter"
   ]
  },
  {
   "cell_type": "code",
   "execution_count": 4,
   "metadata": {},
   "outputs": [],
   "source": [
    "with open('configure.yml','r') as conf_para:\n",
    "    conf_para = yaml.load(conf_para,Loader=yaml.FullLoader)\n",
    "#print(conf_para)\n",
    "alpha_x = conf_para['Lens']['alpha_x']\n",
    "alpha_y = conf_para['Lens']['alpha_y']\n",
    "focus_x = conf_para['Lens']['focus_x']\n",
    "focus_y = conf_para['Lens']['focus_y']\n",
    "\n",
    "det_dist = conf_para['Exp_geom']['det_dist']\n",
    "defocus = conf_para['Exp_geom']['defocus']\n",
    "ap_x = conf_para['Lens']['ap_x']\n",
    "ap_y = conf_para['Lens']['ap_y']\n",
    "\n",
    "ss_size = conf_para['Detector']['ss_size']\n",
    "fs_size = conf_para['Detector']['fs_size']\n",
    "\n",
    "pixelsize_x = conf_para['Detector']['pixelsize_x']\n",
    "pixelsize_y = conf_para['Detector']['pixelsize_y']\n",
    "wl = conf_para['Source']['wl']\n",
    "k = 2*np.pi/wl"
   ]
  },
  {
   "cell_type": "code",
   "execution_count": 142,
   "metadata": {},
   "outputs": [
    {
     "output_type": "stream",
     "name": "stdout",
     "text": [
      "radius_h=20.000000 um,radius_v=20.000000 um\n"
     ]
    }
   ],
   "source": [
    "p_x,p_y,pupil_input = wavefront_initialize(pixelsize_h=5e-7,pixelsize_v=5e-7,npixels_h=1024,npixels_v=1024,amplitude_value=1.0)\n",
    "p_x,p_y,pupil_lens = wavefront_aperture(p_x,p_y,pupil_input,diameter_h=40e-6,diameter_v=40e-6,type=1)"
   ]
  },
  {
   "cell_type": "code",
   "execution_count": 143,
   "metadata": {},
   "outputs": [
    {
     "output_type": "display_data",
     "data": {
      "text/plain": "Canvas(toolbar=Toolbar(toolitems=[('Home', 'Reset original view', 'home', 'home'), ('Back', 'Back to previous …",
      "application/vnd.jupyter.widget-view+json": {
       "version_major": 2,
       "version_minor": 0,
       "model_id": "453d70c93cef42c185f699d9f27d2a94"
      }
     },
     "metadata": {}
    },
    {
     "output_type": "execute_result",
     "data": {
      "text/plain": [
       "<matplotlib.colorbar.Colorbar at 0x7ff777b2b370>"
      ]
     },
     "metadata": {},
     "execution_count": 143
    }
   ],
   "source": [
    "%matplotlib widget\n",
    "fig, axes = plt.subplots(1, 2, figsize=(12, 4))\n",
    "x_min = np.min(p_x)\n",
    "x_max = np.max(p_x)\n",
    "y_min = np.min(p_y)\n",
    "y_max = np.max(p_y)\n",
    "p3 = axes[0].imshow(np.abs(pupil_lens),extent = [x_min,x_max,y_min,y_max])\n",
    "axes[0].set_title('Amplitude_focus', fontsize=14)\n",
    "p4 = axes[1].imshow(np.unwrap(np.angle(pupil_lens)),extent = [x_min,x_max,y_min,y_max])\n",
    "axes[1].set_title('Phase_focus', fontsize=14)\n",
    "plt.colorbar(p3,ax = axes[0])\n",
    "plt.colorbar(p4,ax = axes[1])"
   ]
  },
  {
   "cell_type": "code",
   "execution_count": 189,
   "metadata": {},
   "outputs": [
    {
     "output_type": "display_data",
     "data": {
      "text/plain": "Canvas(toolbar=Toolbar(toolitems=[('Home', 'Reset original view', 'home', 'home'), ('Back', 'Back to previous …",
      "application/vnd.jupyter.widget-view+json": {
       "version_major": 2,
       "version_minor": 0,
       "model_id": "d83561c5ef614802a5ebc82814e57163"
      }
     },
     "metadata": {}
    }
   ],
   "source": [
    "pupil_focus = np.fft.fftshift(np.fft.fft2(pupil_lens))\n",
    "%matplotlib widget\n",
    "fig, axes = plt.subplots(1, 2, figsize=(12, 4))\n",
    "x_min = np.min(p_x)\n",
    "x_max = np.max(p_x)\n",
    "y_min = np.min(p_y)\n",
    "y_max = np.max(p_y)\n",
    "p3 = axes[0].imshow(np.abs(pupil_focus),extent = [x_min,x_max,y_min,y_max],norm=LogNorm())\n",
    "axes[0].set_title('Amplitude_focus', fontsize=14)\n",
    "p4 = axes[1].imshow(np.unwrap(np.angle(pupil_focus)),extent = [x_min,x_max,y_min,y_max])\n",
    "axes[1].set_title('Phase_focus', fontsize=14)\n",
    "plt.colorbar(p3,ax = axes[0])\n",
    "plt.colorbar(p4,ax = axes[1])\n",
    "plt.savefig('focus point.png')"
   ]
  },
  {
   "cell_type": "code",
   "execution_count": 194,
   "metadata": {},
   "outputs": [
    {
     "output_type": "display_data",
     "data": {
      "text/plain": "Canvas(toolbar=Toolbar(toolitems=[('Home', 'Reset original view', 'home', 'home'), ('Back', 'Back to previous …",
      "application/vnd.jupyter.widget-view+json": {
       "version_major": 2,
       "version_minor": 0,
       "model_id": "848d29f22cda42ddaf907d3df2df5b2f"
      }
     },
     "metadata": {}
    }
   ],
   "source": [
    "f = focus_x\n",
    "phi = alpha_x*1e9*(pxy[1]/f)**3+alpha_y*1e9*(pxy[0]/f)**3+np.pi/wl/f*(pxy[1]**2+pxy[0]**2)\n",
    "W = np.pi/wl/f*(pxy[1]**2+pxy[0]**2)+phi\n",
    "pupil_lens_abe = pupil_lens*np.exp(1.j*(phi))\n",
    "pupil_focus = np.fft.fftshift(np.fft.fft2(pupil_lens_abe))\n",
    "%matplotlib widget\n",
    "fig, axes = plt.subplots(1, 2, figsize=(12, 4))\n",
    "x_min = np.min(p_x)\n",
    "x_max = np.max(p_x)\n",
    "y_min = np.min(p_y)\n",
    "y_max = np.max(p_y)\n",
    "p3 = axes[0].imshow(np.abs(pupil_lens_abe),extent = [x_min,x_max,y_min,y_max],norm=LogNorm())\n",
    "axes[0].set_title('Amplitude_focus', fontsize=14)\n",
    "p4 = axes[1].imshow(np.unwrap(np.angle(pupil_lens_abe)),extent = [x_min,x_max,y_min,y_max])\n",
    "axes[1].set_title('Phase_focus', fontsize=14)\n",
    "plt.colorbar(p3,ax = axes[0])\n",
    "plt.colorbar(p4,ax = axes[1])\n",
    "plt.savefig('focus point.png')"
   ]
  },
  {
   "cell_type": "code",
   "execution_count": 202,
   "metadata": {},
   "outputs": [],
   "source": [
    "dis = defocus*5000\n",
    "f = focus_x\n",
    "pxy = np.array(np.meshgrid(p_y,p_x))\n",
    "phi = alpha_x*1e9*(pxy[1]/f)**3+alpha_y*1e9*(pxy[0]/f)**3+np.pi/wl/f*(pxy[1]**2+pxy[0]**2)\n",
    "W = np.pi/wl/f*(pxy[1]**2+pxy[0]**2)\n",
    "pupil = pupil_lens*np.exp(1.j*(W))\n",
    "F_pupil_def = np.fft.fft2(pupil)\n"
   ]
  },
  {
   "cell_type": "code",
   "execution_count": 203,
   "metadata": {},
   "outputs": [
    {
     "output_type": "display_data",
     "data": {
      "text/plain": "Canvas(toolbar=Toolbar(toolitems=[('Home', 'Reset original view', 'home', 'home'), ('Back', 'Back to previous …",
      "application/vnd.jupyter.widget-view+json": {
       "version_major": 2,
       "version_minor": 0,
       "model_id": "d424de847c1b496a8fa8da4c6bcbfeca"
      }
     },
     "metadata": {}
    }
   ],
   "source": [
    "%matplotlib widget\n",
    "x_min = np.min(p_x)\n",
    "x_max = np.max(p_x)\n",
    "y_min = np.min(p_y)\n",
    "y_max = np.max(p_y)\n",
    "plt.imshow(np.abs(F_pupil_def)**2,extent = [x_min,x_max,y_min,y_max],norm=LogNorm())\n",
    "plt.colorbar()\n",
    "plt.savefig('defocus point.png')"
   ]
  },
  {
   "cell_type": "code",
   "execution_count": null,
   "metadata": {},
   "outputs": [],
   "source": []
  }
 ]
}