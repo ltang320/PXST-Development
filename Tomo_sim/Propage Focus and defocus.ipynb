{
 "metadata": {
  "language_info": {
   "codemirror_mode": {
    "name": "ipython",
    "version": 3
   },
   "file_extension": ".py",
   "mimetype": "text/x-python",
   "name": "python",
   "nbconvert_exporter": "python",
   "pygments_lexer": "ipython3",
   "version": "3.8.2-final"
  },
  "orig_nbformat": 2,
  "kernelspec": {
   "name": "python3",
   "display_name": "Python 3",
   "language": "python"
  }
 },
 "nbformat": 4,
 "nbformat_minor": 2,
 "cells": [
  {
   "cell_type": "code",
   "execution_count": 1,
   "metadata": {},
   "outputs": [],
   "source": [
    "import numpy as np\n",
    "import os,sys\n",
    "import yaml\n",
    "import matplotlib.pyplot as plt\n",
    "import math\n",
    "import cv2\n",
    "import matplotlib.animation as animation"
   ]
  },
  {
   "cell_type": "code",
   "execution_count": 2,
   "metadata": {},
   "outputs": [],
   "source": [
    "def wavefront_initialize(pixelsize_h=1e-6,pixelsize_v=1e-6,npixels_h=2048,npixels_v=2048,amplitude_value=0.0):\n",
    "    #\n",
    "    #create array at object (aperture) plane\n",
    "    #\n",
    "    amplitude = np.zeros((npixels_h,npixels_v))  # amplitude map\n",
    "    amplitude += amplitude_value\n",
    "    p_i_h = np.arange(npixels_h) * pixelsize_h\n",
    "    p_x = (p_i_h - 0.5 * (p_i_h[-1] - p_i_h[0]) )\n",
    "    p_i_v = np.arange(npixels_v) * pixelsize_v\n",
    "    p_y = (p_i_v - 0.5 * (p_i_v[-1] - p_i_v[0]) )\n",
    "    return p_x,p_y,amplitude"
   ]
  },
  {
   "cell_type": "code",
   "execution_count": 3,
   "metadata": {},
   "outputs": [],
   "source": [
    "def wavefront_aperture(p_x,p_y,amplitude,diameter_h=40e-6,diameter_v=40e-6,diameter_r=40e-6,type=0):\n",
    "    # aperture_type: 0=circular, 1=Square\n",
    "    p_xx = p_x[:, np.newaxis]\n",
    "    p_yy = p_y[np.newaxis, :]\n",
    "\n",
    "    filter = np.zeros_like(amplitude)\n",
    "    if type == 0:  # Circular aperture\n",
    "        radius = (diameter_r/2)\n",
    "        print(\"radius=%f um\"%(1e6*radius))\n",
    "        filter_illuminated_indices = np.where(p_xx**2 + p_yy**2 < radius**2)\n",
    "        if filter_illuminated_indices[0].size ==0:\n",
    "            print(\"Warning: wavefront_aperture(): Nothing goes trough the aperture\")\n",
    "        else:\n",
    "            filter[filter_illuminated_indices] = 1.0\n",
    "    elif type == 1:  # square\n",
    "        radius_h = (diameter_h/2)\n",
    "        radius_v = (diameter_v/2)\n",
    "        print(\"radius_h=%f um,radius_v=%f um\"%(1e6*radius_h,1e6*radius_v))\n",
    "        filter_illuminated_indices = np.where( (np.abs(p_xx) < radius_h) & (np.abs(p_yy) < radius_v))\n",
    "        if filter_illuminated_indices[0].size ==0:\n",
    "            print(\"Warning: wavefront_aperture(): Nothing goes trough the aperture\")\n",
    "        else:\n",
    "            filter[filter_illuminated_indices] = 1.0\n",
    "    else:\n",
    "        raise ValueError(\"Aperture type (shape) not valid\")\n",
    "\n",
    "    return p_x,p_y,amplitude*filter"
   ]
  },
  {
   "cell_type": "code",
   "execution_count": 4,
   "metadata": {},
   "outputs": [],
   "source": [
    "with open('configure.yml','r') as conf_para:\n",
    "    conf_para = yaml.load(conf_para,Loader=yaml.FullLoader)\n",
    "#print(conf_para)\n",
    "alpha_x = conf_para['Lens']['alpha_x']\n",
    "alpha_y = conf_para['Lens']['alpha_y']\n",
    "focus_x = conf_para['Lens']['focus_x']\n",
    "focus_y = conf_para['Lens']['focus_y']\n",
    "\n",
    "det_dist = conf_para['Exp_geom']['det_dist']\n",
    "defocus = conf_para['Exp_geom']['defocus']\n",
    "ap_x = conf_para['Lens']['ap_x']\n",
    "ap_y = conf_para['Lens']['ap_y']\n",
    "\n",
    "ss_size = conf_para['Detector']['ss_size']\n",
    "fs_size = conf_para['Detector']['fs_size']\n",
    "\n",
    "pixelsize_x = conf_para['Detector']['pixelsize_x']\n",
    "pixelsize_y = conf_para['Detector']['pixelsize_y']\n",
    "wl = conf_para['Source']['wl']\n",
    "k = 2*np.pi/wl"
   ]
  },
  {
   "cell_type": "code",
   "execution_count": 5,
   "metadata": {},
   "outputs": [
    {
     "output_type": "stream",
     "name": "stdout",
     "text": [
      "radius_h=20.000000 um,radius_v=20.000000 um\n"
     ]
    }
   ],
   "source": [
    "p_x,p_y,pupil_input = wavefront_initialize(pixelsize_h=5e-7,pixelsize_v=5e-7,npixels_h=2048,npixels_v=2048,amplitude_value=1.0)\n",
    "p_x,p_y,pupil_lens = wavefront_aperture(p_x,p_y,pupil_input,diameter_h=40e-6,diameter_v=40e-6,type=1)"
   ]
  },
  {
   "cell_type": "code",
   "execution_count": 7,
   "metadata": {},
   "outputs": [
    {
     "output_type": "display_data",
     "data": {
      "text/plain": "Canvas(toolbar=Toolbar(toolitems=[('Home', 'Reset original view', 'home', 'home'), ('Back', 'Back to previous …",
      "application/vnd.jupyter.widget-view+json": {
       "version_major": 2,
       "version_minor": 0,
       "model_id": "40549a6f9b804bbca8eb1908fb1faedd"
      }
     },
     "metadata": {}
    }
   ],
   "source": [
    "pupil_focus = np.fft.fftshift(np.fft.fft2(pupil_lens))\n",
    "%matplotlib widget\n",
    "fig, axes = plt.subplots(1, 2, figsize=(12, 4))\n",
    "x_min = np.min(p_x)\n",
    "x_max = np.max(p_x)\n",
    "y_min = np.min(p_y)\n",
    "y_max = np.max(p_y)\n",
    "p3 = axes[0].imshow(np.abs(pupil_focus),extent = [x_min,x_max,y_min,y_max])\n",
    "axes[0].set_title('Amplitude_focus', fontsize=14)\n",
    "p4 = axes[1].imshow(np.unwrap(np.angle(pupil_focus)),extent = [x_min,x_max,y_min,y_max])\n",
    "axes[1].set_title('Phase_focus', fontsize=14)\n",
    "plt.colorbar(p3,ax = axes[0])\n",
    "plt.colorbar(p4,ax = axes[1])\n",
    "plt.savefig('focus point.png')"
   ]
  },
  {
   "cell_type": "code",
   "execution_count": null,
   "metadata": {},
   "outputs": [],
   "source": []
  },
  {
   "cell_type": "code",
   "execution_count": null,
   "metadata": {},
   "outputs": [],
   "source": [
    "phi = -np.pi/wl/f"
   ]
  },
  {
   "cell_type": "code",
   "execution_count": 8,
   "metadata": {},
   "outputs": [],
   "source": [
    "\n",
    "def defocus(x,y,image,propagation_distance=1,wavelength=7.29e-11):\n",
    "    pxy = np.array(np.meshgrid(y,x))\n",
    "    defocus_error = np.pi/wavelength/propagation_distance*(pxy[1]**2+pxy[0]**2)+alpha_x*1e9*(pxy[1]/propagation_distance)**3+alpha_x*1e9*(pxy[0]/propagation_distance)**3\n",
    "    pupil = image*np.exp(1.j*defocus_error)\n",
    "    return x,y,pupil"
   ]
  },
  {
   "cell_type": "code",
   "execution_count": 9,
   "metadata": {},
   "outputs": [],
   "source": [
    "f = 1/(1/focus_x+1/focus_y)*5000\n",
    "x1,x2,pupil_def = defocus(p_x,p_y,pupil_lens,propagation_distance=f,wavelength=7.29e-11)\n",
    "#pxy = np.array(np.meshgrid(p_y,p_x))\n",
    "#defocus_error = np.pi/wl/f*(pxy[1]**2+pxy[0]**2)+alpha_x*1e9*(pxy[1]/f)**3+alpha_y*1e9*(pxy[0]/f)**3\n",
    "#pupil = pupil_lens*np.exp(1.j*defocus_error)\n",
    "F_pupil_def = np.fft.fftshift(np.fft.fft2(pupil_def))"
   ]
  },
  {
   "cell_type": "code",
   "execution_count": 10,
   "metadata": {},
   "outputs": [
    {
     "output_type": "display_data",
     "data": {
      "text/plain": "Canvas(toolbar=Toolbar(toolitems=[('Home', 'Reset original view', 'home', 'home'), ('Back', 'Back to previous …",
      "application/vnd.jupyter.widget-view+json": {
       "version_major": 2,
       "version_minor": 0,
       "model_id": "342c6bf833094e73965263f55f426783"
      }
     },
     "metadata": {}
    },
    {
     "output_type": "execute_result",
     "data": {
      "text/plain": [
       "<matplotlib.image.AxesImage at 0x7fc808dfefd0>"
      ]
     },
     "metadata": {},
     "execution_count": 10
    }
   ],
   "source": [
    "%matplotlib widget\n",
    "plt.imshow(np.abs(F_pupil_def))"
   ]
  },
  {
   "cell_type": "code",
   "execution_count": 226,
   "metadata": {},
   "outputs": [
    {
     "output_type": "display_data",
     "data": {
      "text/plain": "Canvas(toolbar=Toolbar(toolitems=[('Home', 'Reset original view', 'home', 'home'), ('Back', 'Back to previous …",
      "application/vnd.jupyter.widget-view+json": {
       "version_major": 2,
       "version_minor": 0,
       "model_id": "36c75ef7afa04ab2b3a9e182f82cf196"
      }
     },
     "metadata": {}
    }
   ],
   "source": [
    "%matplotlib widget\n",
    "ims = []\n",
    "for i in range(40):\n",
    "    x_min = np.min(p_x)\n",
    "    x_max = np.max(p_x)\n",
    "    y_min = np.min(p_y)\n",
    "    y_max = np.max(p_y)\n",
    "    delta = 1000\n",
    "    dis = 1+f*i*delta\n",
    "    pupil_def_update = defocus(p_x,p_y,pupil_lens,propagation_distance=dis,wavelength=7.29e-11)\n",
    "    F_pupil_def_update = np.fft.fft2(pupil_lens)\n",
    "    im = plt.imshow(np.abs(F_pupil_def_update)**2,extent = [x_min,x_max,y_min,y_max],animated = True)\n",
    "    #plt.colorbar()\n",
    "    ims.append([im])\n",
    "ani = animation.ArtistAnimation(fig, ims, interval=50, blit=True,\n",
    "                                repeat_delay=100)\n",
    "ani.save('dynamic_images.mp4')"
   ]
  },
  {
   "cell_type": "code",
   "execution_count": 122,
   "metadata": {},
   "outputs": [],
   "source": [
    "def propagator2d_fourier_convolution(p_x,p_y,image,propagation_distance=1.0,wavelength=1e-10):\n",
    "    #\n",
    "    # convolving with the Fresnel kernel via FFT multiplication\n",
    "    #\n",
    "    pupil = np.fft.fft2(image)\n",
    "\n",
    "    # frequency for axis 1\n",
    "    pixelsize = p_x[1] - p_x[0]\n",
    "    npixels = p_x.size\n",
    "    freq_nyquist = 0.5/pixelsize\n",
    "    freq_n = np.linspace(-1.0,1.0,npixels)\n",
    "    freq_x = freq_n * freq_nyquist\n",
    "    freq_x = freq_x * wavelength\n",
    "\n",
    "    # frequency for axis 2\n",
    "    pixelsize = p_y[1] - p_y[0]\n",
    "    npixels = p_y.size\n",
    "    freq_nyquist = 0.5/pixelsize\n",
    "    freq_n = np.linspace(-1.0,1.0,npixels)\n",
    "    freq_y = freq_n * freq_nyquist\n",
    "    freq_y = freq_y * wavelength\n",
    "\n",
    "    freq_xy = np.array(np.meshgrid(freq_y,freq_x))\n",
    "\n",
    "    pupil *= np.exp(1.j*np.pi* wavelength * propagation_distance*np.fft.fftshift(freq_xy[0]**2 + freq_xy[1]**2) )\n",
    "\n",
    "    # fft = np.fft.fftshift(fft)\n",
    "    # fft *= np.exp((-1.0j) * np.pi * wavelength * propagation_distance *\n",
    "    #               (freq_xy[0]*freq_xy[0] + freq_xy[1]*freq_xy[1]) )\n",
    "    # fft = np.fft.ifftshift(fft)\n",
    "\n",
    "    pupil_ifft = np.fft.ifft2(pupil)\n",
    "\n",
    "    return p_x.copy(),p_y.copy(),pupil_ifft "
   ]
  },
  {
   "cell_type": "code",
   "execution_count": 135,
   "metadata": {},
   "outputs": [],
   "source": [
    "defocus = 400e-10\n",
    "x1,x2,wf_defocus = propagator2d_fourier_convolution(p_x,p_y,pupil_lens,propagation_distance=defocus,wavelength=wl)\n",
    "x1 = p_x/defocus\n",
    "x2 = p_y/defocus"
   ]
  },
  {
   "cell_type": "code",
   "execution_count": 136,
   "metadata": {},
   "outputs": [
    {
     "output_type": "display_data",
     "data": {
      "text/plain": "Canvas(toolbar=Toolbar(toolitems=[('Home', 'Reset original view', 'home', 'home'), ('Back', 'Back to previous …",
      "application/vnd.jupyter.widget-view+json": {
       "version_major": 2,
       "version_minor": 0,
       "model_id": "5630be37ca6648319b6c00f1afaa9c14"
      }
     },
     "metadata": {}
    }
   ],
   "source": [
    "%matplotlib widget\n",
    "fig, axes = plt.subplots(1, 2, figsize=(12, 4))\n",
    "x_min = np.min(x1)\n",
    "x_max = np.max(x1)\n",
    "y_min = np.min(x2)\n",
    "y_max = np.max(x2)\n",
    "p3 = axes[0].imshow(np.abs(wf_defocus),extent = [x_min,x_max,y_min,y_max])\n",
    "axes[0].set_title('Amplitude_focus', fontsize=14)\n",
    "p4 = axes[1].imshow(np.unwrap(np.angle(wf_defocus)),extent = [x_min,x_max,y_min,y_max])\n",
    "axes[1].set_title('Phase_focus', fontsize=14)\n",
    "plt.colorbar(p3,ax = axes[0])\n",
    "plt.colorbar(p4,ax = axes[1])\n",
    "plt.savefig('focus point.png')"
   ]
  },
  {
   "cell_type": "code",
   "execution_count": null,
   "metadata": {},
   "outputs": [],
   "source": []
  }
 ]
}