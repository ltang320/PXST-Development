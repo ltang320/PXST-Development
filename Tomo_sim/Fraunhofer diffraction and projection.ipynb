{
 "metadata": {
  "language_info": {
   "codemirror_mode": {
    "name": "ipython",
    "version": 3
   },
   "file_extension": ".py",
   "mimetype": "text/x-python",
   "name": "python",
   "nbconvert_exporter": "python",
   "pygments_lexer": "ipython3",
   "version": "3.8.2-final"
  },
  "orig_nbformat": 2,
  "kernelspec": {
   "name": "python3",
   "display_name": "Python 3",
   "language": "python"
  }
 },
 "nbformat": 4,
 "nbformat_minor": 2,
 "cells": [
  {
   "cell_type": "code",
   "execution_count": 18,
   "metadata": {},
   "outputs": [],
   "source": [
    "import numpy as np\n",
    "from numpy.fft import fft2,fftfreq,fft,fftshift\n",
    "import os,sys\n",
    "import yaml\n",
    "import matplotlib.pyplot as plt\n",
    "from matplotlib.colors import LogNorm\n",
    "import math\n",
    "import cv2\n",
    "import matplotlib.animation as animation\n"
   ]
  },
  {
   "cell_type": "code",
   "execution_count": 19,
   "metadata": {},
   "outputs": [],
   "source": [
    "def wavefront_initialize(pixelsize_h=1e-6,pixelsize_v=1e-6,npixels_h=2048,npixels_v=2048,amplitude_value=0.0):\n",
    "    #\n",
    "    #create array at object (aperture) plane\n",
    "    #\n",
    "    amplitude = np.zeros((npixels_h,npixels_v))  # amplitude map\n",
    "    amplitude += amplitude_value\n",
    "    p_i_h = np.arange(npixels_h) * pixelsize_h\n",
    "    p_x = (p_i_h - 0.5 * (p_i_h[-1] - p_i_h[0]) )\n",
    "    p_i_v = np.arange(npixels_v) * pixelsize_v\n",
    "    p_y = (p_i_v - 0.5 * (p_i_v[-1] - p_i_v[0]) )\n",
    "    return p_x,p_y,amplitude"
   ]
  },
  {
   "cell_type": "code",
   "execution_count": 20,
   "metadata": {},
   "outputs": [],
   "source": [
    "def wavefront_aperture(p_x,p_y,amplitude,diameter_h=40e-6,diameter_v=40e-6,diameter_r=40e-6,type=0):\n",
    "    # aperture_type: 0=circular, 1=Square, 2=Gaussian\n",
    "    p_xx = p_x[:, np.newaxis]\n",
    "    p_yy = p_y[np.newaxis, :]\n",
    "\n",
    "    filter = np.zeros_like(amplitude)\n",
    "    if type == 0:  # Circular aperture\n",
    "        radius = (diameter_r/2)\n",
    "        print(\"radius=%f um\"%(1e6*radius))\n",
    "        filter_illuminated_indices = np.where(p_xx**2 + p_yy**2 < radius**2)\n",
    "        if filter_illuminated_indices[0].size ==0:\n",
    "            print(\"Warning: wavefront_aperture(): Nothing goes trough the aperture\")\n",
    "        else:\n",
    "            filter[filter_illuminated_indices] = 1.0\n",
    "    elif type == 1:  # square\n",
    "        radius_h = (diameter_h/2)\n",
    "        radius_v = (diameter_v/2)\n",
    "        print(\"radius_h=%f um,radius_v=%f um\"%(1e6*radius_h,1e6*radius_v))\n",
    "        filter_illuminated_indices = np.where( (np.abs(p_xx) < radius_h) & (np.abs(p_yy) < radius_v))\n",
    "        if filter_illuminated_indices[0].size ==0:\n",
    "            print(\"Warning: wavefront_aperture(): Nothing goes trough the aperture\")\n",
    "        else:\n",
    "            filter[filter_illuminated_indices] = 1.0\n",
    "    elif type == 2:  # Gaussian\n",
    "        sigma = diameter_r/2.35\n",
    "        print(\"source sigma=%f um\"%(1e6*sigma))\n",
    "        rho2 = p_xx**2 + p_yy**2\n",
    "        #TODO: add Gaussian amplitude\n",
    "        filter = np.sqrt(np.exp(-rho2/2/sigma**2)) # Gaussian in intensity, so srrt for amplitude\n",
    "        filter = np.exp(-rho2/2/sigma**2) # Gaussian amplitude\n",
    "    else:\n",
    "        raise ValueError(\"Aperture type (shape) not valid\")\n",
    "\n",
    "    return p_x,p_y,amplitude*filter"
   ]
  },
  {
   "cell_type": "code",
   "execution_count": 21,
   "metadata": {},
   "outputs": [],
   "source": [
    "def propagator2d(x,y,z,method=\"fraunhofer\",wavelength=7.29e-11,propagation_distance=1.0,ap_x=40e-6,ap_y=40e-6,focus_h=0.001,focus_v=0.001,alpha_h=-0.05,alpha_v=-0.05,return_angles=0,magnification = 1):\n",
    "    #\n",
    "    # interface to different propagators\n",
    "    #\n",
    "    from timeit import default_timer as timer\n",
    "\n",
    "    t_start = timer()\n",
    "    if method == \"fraunhofer\":\n",
    "        x1,y1,z1 = propagator2d_fraunhoffer(x,y,z,wavelength=wavelength)\n",
    "        if return_angles:\n",
    "            pass\n",
    "        else:\n",
    "            x1 *= propagation_distance\n",
    "            #x1 *= 1\n",
    "            y1 *= propagation_distance\n",
    "            #y1 *= 1\n",
    "    elif method == \"Focus\":\n",
    "        x1,y1,z1 = focus2d(x,y,z,ap_x=ap_x,ap_y=ap_y,focus_h = focus_x, focus_v = focus_y,alpha_h=alpha_x,alpha_v=alpha_y,wavelength = wavelength)\n",
    "        if return_angles:\n",
    "            pass\n",
    "        else:\n",
    "            #x1 *= focus_h\n",
    "            #y1 *= focus_v\n",
    "            x1 *= 1\n",
    "            y1 *= 1\n",
    "    elif method == \"fourier_convolution_Fresnel\":\n",
    "        x1,y1,z1 = propagator2d_fourier_convolution(x,y,z,propagation_distance=propagation_distance,wavelength=wavelength)\n",
    "        if return_angles:\n",
    "            x1 /= propagation_distance\n",
    "            y1 /= propagation_distance\n",
    "    elif method ==\"fresnel_scaling_propagate\":\n",
    "        x1,y1,z1 = fresnel_scaling_propagator(x,y,z,propagation_distance=1.0,wavelength=1e-10,magnification = 1)\n",
    "        if return_angles:\n",
    "            x1 /= propagation_distance\n",
    "            y1 /= propagation_distance\n",
    "    else:\n",
    "        raise Exception(\"method %s not implemented\"%method)\n",
    "    t_end = timer()\n",
    "    print(\"Elapsed time in propagation calculations: %5.3f ms\"%((t_end-t_start)*1e3))\n",
    "    print(\"Shapes in propagation calculations: before: \",z.shape,\" after: \",z1.shape)\n",
    "    print(\"Limits in propagation calculations H: before: \",x[0],x[-1],\" after: \",x1[0],x1[-1],\" points: \",x.shape)\n",
    "    print(\"Limits in propagation calculations V: before: \",y[0],y[-1],\" after: \",y1[0],y1[-1],\" points: \",y.shape)\n",
    "    return x1,y1,z1"
   ]
  },
  {
   "cell_type": "code",
   "execution_count": 51,
   "metadata": {},
   "outputs": [],
   "source": [
    "def focus2d(p_x,p_y,image,ap_x=40e-6,ap_y=40e-6,focus_h =0.001, focus_v =0.001,alpha_h=-0.05,alpha_v=-0.05,wavelength = 7.29e-11):\n",
    "    # alpha unit: mrad/rad\n",
    "    #\n",
    "    # Consider the lens focusing error on the focus with phase difference\n",
    "    #\n",
    "\n",
    "    # frequency for axis 1\n",
    "    pixelsize = p_x[1] - p_x[0]\n",
    "    npixels = p_x.size\n",
    "    freq_nyquist = 0.5/pixelsize\n",
    "    freq_n = np.linspace(-1.0,1.0,npixels)\n",
    "    freq_x = freq_n * freq_nyquist\n",
    "    freq_x *= wavelength\n",
    "\n",
    "    # frequency for axis 2\n",
    "    pixelsize = p_y[1] - p_y[0]\n",
    "    npixels = p_y.size\n",
    "    freq_nyquist = 0.5/pixelsize\n",
    "    freq_n = np.linspace(-1.0,1.0,npixels)\n",
    "    freq_y = freq_n * freq_nyquist\n",
    "    freq_y *= wavelength\n",
    "    \n",
    "    freq_xy = np.array(np.meshgrid(freq_y,freq_x))\n",
    "    # Add lens error into pupil\n",
    "   \n",
    "    \n",
    "    F1 = np.fft.fft2(image)\n",
    "    F1 = image * np.exp(1.j*np.pi/wavelength*((freq_xy[1])**2/focus_h+(freq_xy[0])**2/focus_v)+1e9j*alpha_h*(freq_xy[1]/focus_v)**3+1e9j*alpha_v*(freq_xy[0]/focus_v)**3)\n",
    "    \n",
    "    F1 = fftshift(F1)\n",
    "    #F1 = np.fft.fft2(F1)\n",
    "    #F2 = np.fft.fftshift(F1)\n",
    "    \n",
    "   # print(freq_xy[1]*focus_h)\n",
    "    return freq_x,freq_y,F1"
   ]
  },
  {
   "cell_type": "code",
   "execution_count": 52,
   "metadata": {},
   "outputs": [],
   "source": [
    "def propagator2d_fraunhoffer(x,y,image,wavelength=1e-10):\n",
    "    \"\"\"\n",
    "    Fraunhoffer propagator\n",
    "    :param x: x array of spatial coordinates in meters\n",
    "    :param y: y array of spatial coordinates in meters\n",
    "    :param complax_amplitude array: shape: [n_points_x,n_points_y]\n",
    "    :param wavelength: photon wavelength in meters\n",
    "    :return: three arrays with the propagated pattern : angle_x [rad], angle_y, complex_amplitude.\n",
    "    \"\"\"\n",
    "    #\n",
    "    #compute Fourier transform\n",
    "    #\n",
    "    F1 = np.fft.fft2(image)  # Take the fourier transform of the image.\n",
    "    # Now shift the quadrants around so that low spatial frequencies are in\n",
    "    # the center of the 2D fourier transformed image.\n",
    "    F2 = np.fft.fft2( F1 )\n",
    "\n",
    "    # frequency for axis 1\n",
    "    pixelsize = p_x[1] - p_x[0]\n",
    "    npixels = p_x.size\n",
    "    freq_nyquist = 0.5/pixelsize\n",
    "    freq_n = np.linspace(-1.0,1.0,npixels)\n",
    "    freq_x = freq_n * freq_nyquist\n",
    "    freq_x *= wavelength\n",
    "\n",
    "    # frequency for axis 2\n",
    "    pixelsize = p_y[1] - p_y[0]\n",
    "    npixels = p_y.size\n",
    "    freq_nyquist = 0.5/pixelsize\n",
    "    freq_n = np.linspace(-1.0,1.0,npixels)\n",
    "    freq_y = freq_n * freq_nyquist\n",
    "    freq_y *= wavelength\n",
    "    \n",
    "    return freq_x,freq_y,F2"
   ]
  },
  {
   "cell_type": "code",
   "execution_count": 53,
   "metadata": {},
   "outputs": [],
   "source": [
    "def propagator2d_fourier_convolution(p_x,p_y,image,propagation_distance=1.0,wavelength=1e-10):\n",
    "    #\n",
    "    # convolving with the Fresnel kernel via FFT multiplication\n",
    "    #\n",
    "    fft = np.fft.fft2(image)\n",
    "\n",
    "    # frequency for axis 1\n",
    "    pixelsize = p_x[1] - p_x[0]\n",
    "    npixels = p_x.size\n",
    "    freq_nyquist = 0.5/pixelsize\n",
    "    freq_n = np.linspace(-1.0,1.0,npixels)\n",
    "    freq_x = freq_n * freq_nyquist\n",
    "    # freq = freq * wavelength\n",
    "\n",
    "    # frequency for axis 2\n",
    "    pixelsize = p_y[1] - p_y[0]\n",
    "    npixels = p_y.size\n",
    "    freq_nyquist = 0.5/pixelsize\n",
    "    freq_n = np.linspace(-1.0,1.0,npixels)\n",
    "    freq_y = freq_n * freq_nyquist\n",
    "    # freq_y = freq_y * wavelength\n",
    "\n",
    "    freq_xy = np.array(np.meshgrid(freq_y,freq_x))\n",
    "\n",
    "    fft *= np.exp((-1.0j) * np.pi * wavelength * propagation_distance *\n",
    "                  np.fft.fftshift(freq_xy[0]*freq_xy[0] + freq_xy[1]*freq_xy[1]) )\n",
    "\n",
    "    # fft = np.fft.fftshift(fft)\n",
    "    # fft *= np.exp((-1.0j) * np.pi * wavelength * propagation_distance *\n",
    "    #               (freq_xy[0]*freq_xy[0] + freq_xy[1]*freq_xy[1]) )\n",
    "    # fft = np.fft.ifftshift(fft)\n",
    "\n",
    "    ifft = np.fft.ifft2(fft)\n",
    "\n",
    "    return p_x.copy(),p_y.copy(),ifft"
   ]
  },
  {
   "cell_type": "code",
   "execution_count": 54,
   "metadata": {},
   "outputs": [],
   "source": [
    "def fresnel_scaling_propagator(p_x,p_y,image,propagation_distance=1.0,wavelength=1e-10,magnification = 1):\n",
    "    #\n",
    "    # convolving with the Fresnel kernel via FFT multiplication\n",
    "    #\n",
    "    fft = np.fft.fft2(image)\n",
    "\n",
    "    # frequency for axis 1\n",
    "    pixelsize = p_x[1] - p_x[0]\n",
    "    npixels = p_x.size\n",
    "    freq_nyquist = 0.5/pixelsize\n",
    "    freq_n = np.linspace(-1.0,1.0,npixels)\n",
    "    freq_x = freq_n * freq_nyquist\n",
    "    # freq = freq * wavelength\n",
    "\n",
    "    # frequency for axis 2\n",
    "    pixelsize = p_y[1] - p_y[0]\n",
    "    npixels = p_y.size\n",
    "    freq_nyquist = 0.5/pixelsize\n",
    "    freq_n = np.linspace(-1.0,1.0,npixels)\n",
    "    freq_y = freq_n * freq_nyquist\n",
    "    # freq_y = freq_y * wavelength\n",
    "\n",
    "    freq_xy = np.array(np.meshgrid(freq_y,freq_x))\n",
    "    p_xy = np.array(np.meshgrid(p_y,p_x))\n",
    "    k = 2*np.pi/wavelength\n",
    "    \n",
    "    cof = -1.j * k/2/np.pi/propagation_distance*np.exp(1.j*k*propagation_distance)*np.exp(1.j*k/2/propagation_distance*(p_xy[1]**2+p_xy[0]**2))\n",
    "\n",
    "    image *= np.exp(1.j*k/2*(p_xy[1]**2+p_xy[0]**2)*magnification/propagation_distance)\n",
    "    \n",
    "    fft = np.fft.fft2(image)\n",
    "\n",
    "    # fft = np.fft.fftshift(fft)\n",
    "    # fft *= np.exp((-1.0j) * np.pi * wavelength * propagation_distance *\n",
    "    #               (freq_xy[0]*freq_xy[0] + freq_xy[1]*freq_xy[1]) )\n",
    "    # fft = np.fft.ifftshift(fft)\n",
    "\n",
    "    #ifft = np.fft.fft2(fft)\n",
    "\n",
    "    return p_x.copy(),p_y.copy(),fft"
   ]
  },
  {
   "cell_type": "code",
   "execution_count": 55,
   "metadata": {},
   "outputs": [],
   "source": [
    "with open('configure.yml','r') as conf_para:\n",
    "    conf_para = yaml.load(conf_para,Loader=yaml.FullLoader)\n",
    "#print(conf_para)\n",
    "alpha_x = conf_para['Lens']['alpha_x']\n",
    "alpha_y = conf_para['Lens']['alpha_y']\n",
    "focus_x = conf_para['Lens']['focus_x']\n",
    "focus_y = conf_para['Lens']['focus_y']\n",
    "\n",
    "det_dist = conf_para['Exp_geom']['det_dist']\n",
    "defocus = conf_para['Exp_geom']['defocus']\n",
    "ap_x = conf_para['Lens']['ap_x']\n",
    "ap_y = conf_para['Lens']['ap_y']\n",
    "\n",
    "ss_size = conf_para['Detector']['ss_size']\n",
    "fs_size = conf_para['Detector']['fs_size']\n",
    "\n",
    "pixelsize_x = conf_para['Detector']['pixelsize_x']\n",
    "pixelsize_y = conf_para['Detector']['pixelsize_y']\n",
    "wl = conf_para['Source']['wl']\n",
    "k = 2*np.pi/wl"
   ]
  },
  {
   "cell_type": "code",
   "execution_count": 56,
   "metadata": {},
   "outputs": [],
   "source": [
    "p_x,p_y,pupil_input = wavefront_initialize(pixelsize_h=1e-7,pixelsize_v=1e-7,npixels_h=2048,npixels_v=2048,amplitude_value=1.0)"
   ]
  },
  {
   "cell_type": "code",
   "execution_count": 57,
   "metadata": {},
   "outputs": [
    {
     "output_type": "stream",
     "name": "stdout",
     "text": [
      "radius_h=20.000000 um,radius_v=20.000000 um\n"
     ]
    }
   ],
   "source": [
    "p_x,p_y,pupil_lens = wavefront_aperture(p_x,p_y,pupil_input,diameter_h=40e-6,diameter_v=40e-6,type=1)"
   ]
  },
  {
   "cell_type": "code",
   "execution_count": 58,
   "metadata": {},
   "outputs": [
    {
     "output_type": "stream",
     "name": "stdout",
     "text": [
      "Elapsed time in propagation calculations: 787.126 ms\nShapes in propagation calculations: before:  (2048, 2048)  after:  (2048, 2048)\nLimits in propagation calculations H: before:  -0.00010235 0.00010235  after:  -0.0003644999999999912 0.0003644999999999912  points:  (2048,)\nLimits in propagation calculations V: before:  -0.00010235 0.00010235  after:  -0.0003644999999999912 0.0003644999999999912  points:  (2048,)\n"
     ]
    }
   ],
   "source": [
    "angle_x,angle_y,pupil_focus = propagator2d(p_x,p_y,pupil_lens,method=\"Focus\",wavelength=wl,ap_x=ap_x,ap_y=ap_y,focus_h=focus_y,focus_v=focus_y,alpha_h=alpha_x,alpha_v=alpha_y,return_angles=1)\n",
    "#pupil_focus = fftshift(fft2(pupil_lens))"
   ]
  },
  {
   "cell_type": "code",
   "execution_count": 59,
   "metadata": {},
   "outputs": [
    {
     "output_type": "display_data",
     "data": {
      "text/plain": "Canvas(toolbar=Toolbar(toolitems=[('Home', 'Reset original view', 'home', 'home'), ('Back', 'Back to previous …",
      "application/vnd.jupyter.widget-view+json": {
       "version_major": 2,
       "version_minor": 0,
       "model_id": "6459fca948fd4ffd99c9ad262363e065"
      }
     },
     "metadata": {}
    }
   ],
   "source": [
    "pixelsize_h=1e-7\n",
    "pixelsize_v=1e-7\n",
    "npixels_h=2048\n",
    "npixels_v=2048\n",
    "w_h = pixelsize_h*npixels_h\n",
    "w_v = pixelsize_v*npixels_v\n",
    "%matplotlib widget\n",
    "fig, axes = plt.subplots(1, 2, figsize=(12, 4))\n",
    "x_min = np.min(p_x)\n",
    "x_max = np.max(p_x)\n",
    "y_min = np.min(p_y)\n",
    "y_max = np.max(p_y)\n",
    "p3 = axes[0].imshow(np.abs(pupil_focus),extent = [x_min,x_max,y_min,y_max],norm=LogNorm())\n",
    "axes[0].set_title('Amplitude', fontsize=14)\n",
    "p4 = axes[1].imshow(np.unwrap(np.angle(pupil_focus)),extent = [x_min,x_max,y_min,y_max])\n",
    "axes[1].set_title('Phase', fontsize=14)\n",
    "plt.colorbar(p3,ax = axes[0])\n",
    "plt.colorbar(p4,ax = axes[1])\n",
    "plt.savefig('aperture_input.png')"
   ]
  },
  {
   "cell_type": "code",
   "execution_count": 74,
   "metadata": {},
   "outputs": [
    {
     "output_type": "display_data",
     "data": {
      "text/plain": "Canvas(toolbar=Toolbar(toolitems=[('Home', 'Reset original view', 'home', 'home'), ('Back', 'Back to previous …",
      "application/vnd.jupyter.widget-view+json": {
       "version_major": 2,
       "version_minor": 0,
       "model_id": "af2e5541b5134c74b29d035a28631dd5"
      }
     },
     "metadata": {}
    },
    {
     "output_type": "execute_result",
     "data": {
      "text/plain": [
       "<matplotlib.image.AxesImage at 0x7fc0dba07a60>"
      ]
     },
     "metadata": {},
     "execution_count": 74
    }
   ],
   "source": [
    "angle_xy = np.array(np.meshgrid(angle_y,angle_x))\n",
    "z = 1000\n",
    "F1 = pupil_focus*np.exp(1.j*np.pi/wl/z*((angle_xy[1])**2+(angle_xy[0])**2))\n",
    "#foucus = np.fft.fft2(F1)\n",
    "phi = np.pi/wl/z*(angle_xy[1]**2+angle_xy[0]**2)\n",
    "pupil_def = pupil_lens*np.exp(1.j*phi)\n",
    "Fpupil = np.fft.fft2(pupil_def)\n",
    "%matplotlib widget\n",
    "plt.imshow(np.abs(Fpupil),extent = [x_min,x_max,y_min,y_max],norm=LogNorm())\n",
    "#plt.plot(phi)"
   ]
  },
  {
   "cell_type": "code",
   "execution_count": 597,
   "metadata": {},
   "outputs": [
    {
     "output_type": "stream",
     "name": "stdout",
     "text": [
      "Elapsed time in propagation calculations: 362.159 ms\nShapes in propagation calculations: before:  (2048, 2048)  after:  (2048, 2048)\nLimits in propagation calculations H: before:  -0.08529166666666667 0.08529166666666667  after:  -4.3739999999997537e-07 4.3739999999997537e-07  points:  (2048,)\nLimits in propagation calculations V: before:  -0.10235 0.10235  after:  -3.644999999999896e-07 3.644999999999896e-07  points:  (2048,)\n"
     ]
    }
   ],
   "source": [
    "p_x /= focus_x\n",
    "p_y /= focus_y\n",
    "angle_x,angle_y,pupil_defocus = propagator2d(p_x,p_y,pupil_focus,method=\"fraunhofer\",wavelength=wl,propagation_distance=defocus,return_angles=1)"
   ]
  },
  {
   "cell_type": "code",
   "execution_count": 598,
   "metadata": {},
   "outputs": [
    {
     "output_type": "display_data",
     "data": {
      "text/plain": "Canvas(toolbar=Toolbar(toolitems=[('Home', 'Reset original view', 'home', 'home'), ('Back', 'Back to previous …",
      "application/vnd.jupyter.widget-view+json": {
       "version_major": 2,
       "version_minor": 0,
       "model_id": "96ea9e009d5f49cebe811e2ce326be87"
      }
     },
     "metadata": {}
    }
   ],
   "source": [
    "%matplotlib widget\n",
    "fig, axes = plt.subplots(1, 2, figsize=(12, 4))\n",
    "x_min = np.min(p_x)\n",
    "x_max = np.max(p_x)\n",
    "y_min = np.min(p_y)\n",
    "y_max = np.max(p_y)\n",
    "p3 = axes[0].imshow(np.abs(pupil_defocus),extent = [x_min,x_max,y_min,y_max])\n",
    "axes[0].set_title('Amplitude with Arrow', fontsize=14)\n",
    "p4 = axes[1].imshow(np.unwrap(np.angle(pupil_defocus)),extent = [x_min,x_max,y_min,y_max])\n",
    "axes[1].set_title('Phase with Arrow', fontsize=14)\n",
    "plt.colorbar(p3,ax = axes[0])\n",
    "plt.colorbar(p4,ax = axes[1])\n",
    "plt.savefig('defocus.png')"
   ]
  },
  {
   "cell_type": "code",
   "execution_count": 599,
   "metadata": {},
   "outputs": [
    {
     "output_type": "stream",
     "name": "stdout",
     "text": [
      "Elapsed time in propagation calculations: 398.032 ms\nShapes in propagation calculations: before:  (2048, 2048)  after:  (2048, 2048)\nLimits in propagation calculations H: before:  -21.322916666666668 21.322916666666668  after:  -1.749599999999801e-09 1.749599999999801e-09  points:  (2048,)\nLimits in propagation calculations V: before:  -25.5875 25.5875  after:  -1.4579999999998756e-09 1.4579999999998756e-09  points:  (2048,)\n"
     ]
    }
   ],
   "source": [
    "p_x /= defocus\n",
    "p_y /= defocus\n",
    "angle_x,angle_y,pupil_det = propagator2d(p_x,p_y,pupil_defocus,method=\"fraunhofer\",wavelength=wl,propagation_distance=det_dist,return_angles=1)"
   ]
  },
  {
   "cell_type": "code",
   "execution_count": 600,
   "metadata": {},
   "outputs": [
    {
     "output_type": "display_data",
     "data": {
      "text/plain": "Canvas(toolbar=Toolbar(toolitems=[('Home', 'Reset original view', 'home', 'home'), ('Back', 'Back to previous …",
      "application/vnd.jupyter.widget-view+json": {
       "version_major": 2,
       "version_minor": 0,
       "model_id": "67054a07b3eb46599e64697efb0e5e42"
      }
     },
     "metadata": {}
    }
   ],
   "source": [
    "%matplotlib widget\n",
    "fig, axes = plt.subplots(1, 2, figsize=(12, 4))\n",
    "x_min = np.min(p_x)\n",
    "x_max = np.max(p_x)\n",
    "y_min = np.min(p_y)\n",
    "y_max = np.max(p_y)\n",
    "p3 = axes[0].imshow(np.abs(pupil_det),extent = [x_min,x_max,y_min,y_max])\n",
    "axes[0].set_title('Amplitude with Arrow', fontsize=14)\n",
    "p4 = axes[1].imshow(np.unwrap(np.angle(pupil_det)),extent = [x_min,x_max,y_min,y_max])\n",
    "axes[1].set_title('Phase with Arrow', fontsize=14)\n",
    "plt.colorbar(p3,ax = axes[0])\n",
    "plt.colorbar(p4,ax = axes[1])\n",
    "plt.savefig('det.png')"
   ]
  },
  {
   "cell_type": "code",
   "execution_count": 605,
   "metadata": {},
   "outputs": [
    {
     "output_type": "display_data",
     "data": {
      "text/plain": "Canvas(toolbar=Toolbar(toolitems=[('Home', 'Reset original view', 'home', 'home'), ('Back', 'Back to previous …",
      "application/vnd.jupyter.widget-view+json": {
       "version_major": 2,
       "version_minor": 0,
       "model_id": "b541f001d9f5436fa270447cd0d0715e"
      }
     },
     "metadata": {}
    },
    {
     "output_type": "execute_result",
     "data": {
      "text/plain": [
       "[<matplotlib.lines.Line2D at 0x7fefce006430>]"
      ]
     },
     "metadata": {},
     "execution_count": 605
    }
   ],
   "source": [
    "%matplotlib widget\n",
    "plt.plot(p_x,np.unwrap(np.angle(pupil_defocus[1024])))"
   ]
  },
  {
   "cell_type": "code",
   "execution_count": 612,
   "metadata": {},
   "outputs": [
    {
     "output_type": "stream",
     "name": "stdout",
     "text": [
      "Fraunhoffer diffraction valid for distances > > a^2/lambda = 1371.742112 m \n"
     ]
    }
   ],
   "source": [
    "method = \"fraunhofer\"\n",
    "if method == \"fraunhofer\":\n",
    "        print(\"Fraunhoffer diffraction valid for distances > > a^2/lambda = %f m \" %((ap_x/2)**2/wl/defocus))"
   ]
  },
  {
   "cell_type": "code",
   "execution_count": 613,
   "metadata": {},
   "outputs": [
    {
     "output_type": "stream",
     "name": "stdout",
     "text": [
      "1.3717421124828535\n"
     ]
    }
   ],
   "source": [
    "print(ap_x**2/16/wl)"
   ]
  },
  {
   "source": [
    "## Wavefront converngence to the focus"
   ],
   "cell_type": "markdown",
   "metadata": {}
  },
  {
   "cell_type": "code",
   "execution_count": 704,
   "metadata": {},
   "outputs": [
    {
     "output_type": "stream",
     "name": "stdout",
     "text": [
      "radius_h=20.000000 um,radius_v=20.000000 um\n"
     ]
    }
   ],
   "source": [
    "p_xnew,p_ynew,wavefront = wavefront_initialize(pixelsize_h=1e-7,pixelsize_v=1e-7,npixels_h=4096*2,npixels_v=4096*2,amplitude_value=1.0)\n",
    "p_xnew,p_ynew, wavefrontlens= wavefront_aperture(p_xnew,p_ynew,wavefront,diameter_h=40e-6,diameter_v=40e-6,type=1)"
   ]
  },
  {
   "cell_type": "code",
   "execution_count": 705,
   "metadata": {},
   "outputs": [],
   "source": [
    "f = 1/(1/focus_x + 1/focus_y)\n",
    "p_xynew = np.array(np.meshgrid(p_ynew,p_xnew))\n",
    "wavefrontlens = wavefrontlens\n",
    "#*np.exp(-1.j*k/2/f*(p_xynew[1]**2+p_xynew[0]**2)+1e9j*alpha_x*(p_xynew[1]/f)**3+1e9j*alpha_y*(p_xynew[0]/f)**3)\n",
    "Fwave = np.fft.fft2(wavefrontlens)"
   ]
  },
  {
   "cell_type": "code",
   "execution_count": 699,
   "metadata": {},
   "outputs": [
    {
     "output_type": "stream",
     "name": "stdout",
     "text": [
      "Elapsed time in propagation calculations: 19075.351 ms\nShapes in propagation calculations: before:  (8192, 8192)  after:  (8192, 8192)\nLimits in propagation calculations H: before:  -0.00040955 0.00040955  after:  -0.00040955 0.00040955  points:  (8192,)\nLimits in propagation calculations V: before:  -0.00040955 0.00040955  after:  -0.00040955 0.00040955  points:  (8192,)\n"
     ]
    }
   ],
   "source": [
    "method1 = \"fourier_convolution_Fresnel\"\n",
    "p_xdef,p_ydef,wavefront_defocus = propagator2d(p_xnew,p_ynew,wavefrontlens,method= method1 ,wavelength=wl,propagation_distance=defocus,return_angles=0)"
   ]
  },
  {
   "cell_type": "code",
   "execution_count": 700,
   "metadata": {},
   "outputs": [
    {
     "output_type": "stream",
     "name": "stdout",
     "text": [
      "Elapsed time in propagation calculations: 24190.812 ms\nShapes in propagation calculations: before:  (8192, 8192)  after:  (8192, 8192)\nLimits in propagation calculations H: before:  -0.00040955 0.00040955  after:  -0.00040955 0.00040955  points:  (8192,)\nLimits in propagation calculations V: before:  -0.00040955 0.00040955  after:  -0.00040955 0.00040955  points:  (8192,)\n"
     ]
    }
   ],
   "source": [
    "method2 =\"fresnel_scaling_propagate\"\n",
    "distance = 0.0001\n",
    "def magnification(R,delta):\n",
    "    mag = (R+delta)/R\n",
    "    return mag\n",
    "mag = magnification(defocus,distance)\n",
    "p_xdet,p_ydet,wavefront_det = propagator2d(p_xdef,p_ydef,wavefront_defocus,method= method2 ,wavelength=wl,propagation_distance=distance,return_angles=0,magnification=mag)"
   ]
  },
  {
   "cell_type": "code",
   "execution_count": 706,
   "metadata": {},
   "outputs": [
    {
     "output_type": "display_data",
     "data": {
      "text/plain": "Canvas(toolbar=Toolbar(toolitems=[('Home', 'Reset original view', 'home', 'home'), ('Back', 'Back to previous …",
      "application/vnd.jupyter.widget-view+json": {
       "version_major": 2,
       "version_minor": 0,
       "model_id": "72a867f728914467a28c31d52b6b69bf"
      }
     },
     "metadata": {}
    }
   ],
   "source": [
    "%matplotlib widget\n",
    "fig, axes = plt.subplots(1, 2, figsize=(12, 4))\n",
    "x_min = np.min(p_xnew)\n",
    "x_max = np.max(p_xnew)\n",
    "y_min = np.min(p_ynew)\n",
    "y_max = np.max(p_ynew)\n",
    "p3 = axes[0].imshow(np.abs(Fwave),extent = [x_min,x_max,y_min,y_max])\n",
    "axes[0].set_title('Amplitude ', fontsize=14)\n",
    "p4 = axes[1].imshow(np.unwrap(np.angle(Fwave)),extent = [x_min,x_max,y_min,y_max])\n",
    "axes[1].set_title('Phase ', fontsize=14)\n",
    "plt.colorbar(p3,ax = axes[0])\n",
    "plt.colorbar(p4,ax = axes[1])\n",
    "plt.savefig('fresnel_wavefrontdet.png')"
   ]
  },
  {
   "cell_type": "code",
   "execution_count": 693,
   "metadata": {},
   "outputs": [
    {
     "output_type": "display_data",
     "data": {
      "text/plain": "Canvas(toolbar=Toolbar(toolitems=[('Home', 'Reset original view', 'home', 'home'), ('Back', 'Back to previous …",
      "application/vnd.jupyter.widget-view+json": {
       "version_major": 2,
       "version_minor": 0,
       "model_id": "214f7b59d1b7444b8bb0a1c7856b1de5"
      }
     },
     "metadata": {}
    }
   ],
   "source": [
    "%matplotlib widget\n",
    "fig, axes = plt.subplots(1, 2, figsize=(12, 4))\n",
    "x_min = np.min(p_xdef)\n",
    "x_max = np.max(p_xdef)\n",
    "y_min = np.min(p_ydef)\n",
    "y_max = np.max(p_ydef)\n",
    "p3 = axes[0].imshow(np.abs(wavefront_defocus),extent = [x_min,x_max,y_min,y_max])\n",
    "axes[0].set_title('Amplitude ', fontsize=14)\n",
    "p4 = axes[1].imshow(np.unwrap(np.angle(wavefront_defocus)),extent = [x_min,x_max,y_min,y_max])\n",
    "axes[1].set_title('Phase ', fontsize=14)\n",
    "plt.colorbar(p3,ax = axes[0])\n",
    "plt.colorbar(p4,ax = axes[1])\n",
    "plt.savefig('fresnel_wavefrontdet.png')"
   ]
  },
  {
   "cell_type": "code",
   "execution_count": 697,
   "metadata": {},
   "outputs": [
    {
     "output_type": "display_data",
     "data": {
      "text/plain": "Canvas(toolbar=Toolbar(toolitems=[('Home', 'Reset original view', 'home', 'home'), ('Back', 'Back to previous …",
      "application/vnd.jupyter.widget-view+json": {
       "version_major": 2,
       "version_minor": 0,
       "model_id": "9723567db4f34b5c87ea2768457af0ee"
      }
     },
     "metadata": {}
    }
   ],
   "source": [
    "%matplotlib widget\n",
    "fig, axes = plt.subplots(1, 2, figsize=(12, 4))\n",
    "x_min = np.min(p_xdet)\n",
    "x_max = np.max(p_xdet)\n",
    "y_min = np.min(p_ydet)\n",
    "y_max = np.max(p_ydet)\n",
    "p3 = axes[0].imshow(np.abs(wavefront_det),extent = [x_min,x_max,y_min,y_max])\n",
    "axes[0].set_title('Amplitude ', fontsize=14)\n",
    "p4 = axes[1].imshow(np.unwrap(np.angle(wavefront_det)),extent = [x_min,x_max,y_min,y_max])\n",
    "axes[1].set_title('Phase ', fontsize=14)\n",
    "plt.colorbar(p3,ax = axes[0])\n",
    "plt.colorbar(p4,ax = axes[1])\n",
    "plt.savefig('fresnel_wavefrontdet.png')"
   ]
  },
  {
   "cell_type": "code",
   "execution_count": null,
   "metadata": {},
   "outputs": [],
   "source": []
  }
 ]
}